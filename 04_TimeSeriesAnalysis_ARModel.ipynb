{
  "nbformat": 4,
  "nbformat_minor": 0,
  "metadata": {
    "colab": {
      "provenance": []
    },
    "kernelspec": {
      "name": "python3",
      "display_name": "Python 3"
    },
    "language_info": {
      "name": "python"
    }
  },
  "cells": [
    {
      "cell_type": "markdown",
      "source": [
        "## Importing the relevant packages"
      ],
      "metadata": {
        "id": "rqr-YNtlOio0"
      }
    },
    {
      "cell_type": "code",
      "execution_count": 25,
      "metadata": {
        "id": "npvUzFDrq--m"
      },
      "outputs": [],
      "source": [
        "import pandas as pd\n",
        "import numpy as np\n",
        "import matplotlib.pyplot as plt\n",
        "import statsmodels.graphics.tsaplots as sgt\n",
        "import statsmodels.tsa.stattools as sts\n",
        "from statsmodels.tsa.arima_model import ARMA\n",
        "from scipy.stats.distributions import chi2\n",
        "import seaborn as sns\n",
        "sns.set()\n"
      ]
    },
    {
      "cell_type": "markdown",
      "source": [
        "## Importing the data and preprocessing"
      ],
      "metadata": {
        "id": "1b6-kJkJPQY9"
      }
    },
    {
      "cell_type": "code",
      "source": [
        "raw_csv_data = pd.read_csv(\"/content/Index2018.csv\")\n",
        "df_comp = raw_csv_data.copy()\n",
        "df_comp.date = pd.to_datetime(df_comp.date, dayfirst = True)\n",
        "df_comp.set_index(\"date\",inplace=True)\n",
        "df_comp = df_comp.asfreq(\"b\")\n",
        "df_comp = df_comp.fillna(method=\"ffill\")"
      ],
      "metadata": {
        "id": "XXyae0UKPOsS"
      },
      "execution_count": 2,
      "outputs": []
    },
    {
      "cell_type": "code",
      "source": [
        "df_comp['market_value'] = df_comp.ftse"
      ],
      "metadata": {
        "id": "o6YIy1MPQB9b"
      },
      "execution_count": 3,
      "outputs": []
    },
    {
      "cell_type": "code",
      "source": [
        "df_comp.head()"
      ],
      "metadata": {
        "colab": {
          "base_uri": "https://localhost:8080/",
          "height": 237
        },
        "id": "9S7Wp4J-QsVB",
        "outputId": "aad9618e-fa98-4bd5-9d9c-acb5b8991cef"
      },
      "execution_count": 4,
      "outputs": [
        {
          "output_type": "execute_result",
          "data": {
            "text/plain": [
              "               spx      dax     ftse    nikkei  market_value\n",
              "date                                                        \n",
              "1994-01-07  469.90  2224.95  3445.98  18124.01       3445.98\n",
              "1994-01-10  475.27  2225.00  3440.58  18443.44       3440.58\n",
              "1994-01-11  474.13  2228.10  3413.77  18485.25       3413.77\n",
              "1994-01-12  474.17  2182.06  3372.02  18793.88       3372.02\n",
              "1994-01-13  472.47  2142.37  3360.01  18577.26       3360.01"
            ],
            "text/html": [
              "\n",
              "  <div id=\"df-5bb2e8d5-ad32-40f9-9c78-f10e00bcee0b\">\n",
              "    <div class=\"colab-df-container\">\n",
              "      <div>\n",
              "<style scoped>\n",
              "    .dataframe tbody tr th:only-of-type {\n",
              "        vertical-align: middle;\n",
              "    }\n",
              "\n",
              "    .dataframe tbody tr th {\n",
              "        vertical-align: top;\n",
              "    }\n",
              "\n",
              "    .dataframe thead th {\n",
              "        text-align: right;\n",
              "    }\n",
              "</style>\n",
              "<table border=\"1\" class=\"dataframe\">\n",
              "  <thead>\n",
              "    <tr style=\"text-align: right;\">\n",
              "      <th></th>\n",
              "      <th>spx</th>\n",
              "      <th>dax</th>\n",
              "      <th>ftse</th>\n",
              "      <th>nikkei</th>\n",
              "      <th>market_value</th>\n",
              "    </tr>\n",
              "    <tr>\n",
              "      <th>date</th>\n",
              "      <th></th>\n",
              "      <th></th>\n",
              "      <th></th>\n",
              "      <th></th>\n",
              "      <th></th>\n",
              "    </tr>\n",
              "  </thead>\n",
              "  <tbody>\n",
              "    <tr>\n",
              "      <th>1994-01-07</th>\n",
              "      <td>469.90</td>\n",
              "      <td>2224.95</td>\n",
              "      <td>3445.98</td>\n",
              "      <td>18124.01</td>\n",
              "      <td>3445.98</td>\n",
              "    </tr>\n",
              "    <tr>\n",
              "      <th>1994-01-10</th>\n",
              "      <td>475.27</td>\n",
              "      <td>2225.00</td>\n",
              "      <td>3440.58</td>\n",
              "      <td>18443.44</td>\n",
              "      <td>3440.58</td>\n",
              "    </tr>\n",
              "    <tr>\n",
              "      <th>1994-01-11</th>\n",
              "      <td>474.13</td>\n",
              "      <td>2228.10</td>\n",
              "      <td>3413.77</td>\n",
              "      <td>18485.25</td>\n",
              "      <td>3413.77</td>\n",
              "    </tr>\n",
              "    <tr>\n",
              "      <th>1994-01-12</th>\n",
              "      <td>474.17</td>\n",
              "      <td>2182.06</td>\n",
              "      <td>3372.02</td>\n",
              "      <td>18793.88</td>\n",
              "      <td>3372.02</td>\n",
              "    </tr>\n",
              "    <tr>\n",
              "      <th>1994-01-13</th>\n",
              "      <td>472.47</td>\n",
              "      <td>2142.37</td>\n",
              "      <td>3360.01</td>\n",
              "      <td>18577.26</td>\n",
              "      <td>3360.01</td>\n",
              "    </tr>\n",
              "  </tbody>\n",
              "</table>\n",
              "</div>\n",
              "      <button class=\"colab-df-convert\" onclick=\"convertToInteractive('df-5bb2e8d5-ad32-40f9-9c78-f10e00bcee0b')\"\n",
              "              title=\"Convert this dataframe to an interactive table.\"\n",
              "              style=\"display:none;\">\n",
              "        \n",
              "  <svg xmlns=\"http://www.w3.org/2000/svg\" height=\"24px\"viewBox=\"0 0 24 24\"\n",
              "       width=\"24px\">\n",
              "    <path d=\"M0 0h24v24H0V0z\" fill=\"none\"/>\n",
              "    <path d=\"M18.56 5.44l.94 2.06.94-2.06 2.06-.94-2.06-.94-.94-2.06-.94 2.06-2.06.94zm-11 1L8.5 8.5l.94-2.06 2.06-.94-2.06-.94L8.5 2.5l-.94 2.06-2.06.94zm10 10l.94 2.06.94-2.06 2.06-.94-2.06-.94-.94-2.06-.94 2.06-2.06.94z\"/><path d=\"M17.41 7.96l-1.37-1.37c-.4-.4-.92-.59-1.43-.59-.52 0-1.04.2-1.43.59L10.3 9.45l-7.72 7.72c-.78.78-.78 2.05 0 2.83L4 21.41c.39.39.9.59 1.41.59.51 0 1.02-.2 1.41-.59l7.78-7.78 2.81-2.81c.8-.78.8-2.07 0-2.86zM5.41 20L4 18.59l7.72-7.72 1.47 1.35L5.41 20z\"/>\n",
              "  </svg>\n",
              "      </button>\n",
              "      \n",
              "  <style>\n",
              "    .colab-df-container {\n",
              "      display:flex;\n",
              "      flex-wrap:wrap;\n",
              "      gap: 12px;\n",
              "    }\n",
              "\n",
              "    .colab-df-convert {\n",
              "      background-color: #E8F0FE;\n",
              "      border: none;\n",
              "      border-radius: 50%;\n",
              "      cursor: pointer;\n",
              "      display: none;\n",
              "      fill: #1967D2;\n",
              "      height: 32px;\n",
              "      padding: 0 0 0 0;\n",
              "      width: 32px;\n",
              "    }\n",
              "\n",
              "    .colab-df-convert:hover {\n",
              "      background-color: #E2EBFA;\n",
              "      box-shadow: 0px 1px 2px rgba(60, 64, 67, 0.3), 0px 1px 3px 1px rgba(60, 64, 67, 0.15);\n",
              "      fill: #174EA6;\n",
              "    }\n",
              "\n",
              "    [theme=dark] .colab-df-convert {\n",
              "      background-color: #3B4455;\n",
              "      fill: #D2E3FC;\n",
              "    }\n",
              "\n",
              "    [theme=dark] .colab-df-convert:hover {\n",
              "      background-color: #434B5C;\n",
              "      box-shadow: 0px 1px 3px 1px rgba(0, 0, 0, 0.15);\n",
              "      filter: drop-shadow(0px 1px 2px rgba(0, 0, 0, 0.3));\n",
              "      fill: #FFFFFF;\n",
              "    }\n",
              "  </style>\n",
              "\n",
              "      <script>\n",
              "        const buttonEl =\n",
              "          document.querySelector('#df-5bb2e8d5-ad32-40f9-9c78-f10e00bcee0b button.colab-df-convert');\n",
              "        buttonEl.style.display =\n",
              "          google.colab.kernel.accessAllowed ? 'block' : 'none';\n",
              "\n",
              "        async function convertToInteractive(key) {\n",
              "          const element = document.querySelector('#df-5bb2e8d5-ad32-40f9-9c78-f10e00bcee0b');\n",
              "          const dataTable =\n",
              "            await google.colab.kernel.invokeFunction('convertToInteractive',\n",
              "                                                     [key], {});\n",
              "          if (!dataTable) return;\n",
              "\n",
              "          const docLinkHtml = 'Like what you see? Visit the ' +\n",
              "            '<a target=\"_blank\" href=https://colab.research.google.com/notebooks/data_table.ipynb>data table notebook</a>'\n",
              "            + ' to learn more about interactive tables.';\n",
              "          element.innerHTML = '';\n",
              "          dataTable['output_type'] = 'display_data';\n",
              "          await google.colab.output.renderOutput(dataTable, element);\n",
              "          const docLink = document.createElement('div');\n",
              "          docLink.innerHTML = docLinkHtml;\n",
              "          element.appendChild(docLink);\n",
              "        }\n",
              "      </script>\n",
              "    </div>\n",
              "  </div>\n",
              "  "
            ]
          },
          "metadata": {},
          "execution_count": 4
        }
      ]
    },
    {
      "cell_type": "code",
      "source": [
        "del df_comp[\"spx\"]\n",
        "del df_comp[\"dax\"]\n",
        "del df_comp[\"ftse\"]\n",
        "del df_comp[\"nikkei\"]\n",
        "size = int(len(df_comp)*0.80)\n",
        "df,df_test = df_comp.iloc[:size],df_comp.iloc[size:]\n"
      ],
      "metadata": {
        "id": "avRfkeB_QIWm"
      },
      "execution_count": 5,
      "outputs": []
    },
    {
      "cell_type": "code",
      "source": [
        "df_comp.head()"
      ],
      "metadata": {
        "colab": {
          "base_uri": "https://localhost:8080/",
          "height": 237
        },
        "id": "pXkIeGTyQjnj",
        "outputId": "639df6a3-dbad-4638-fe55-4018300a8010"
      },
      "execution_count": 6,
      "outputs": [
        {
          "output_type": "execute_result",
          "data": {
            "text/plain": [
              "            market_value\n",
              "date                    \n",
              "1994-01-07       3445.98\n",
              "1994-01-10       3440.58\n",
              "1994-01-11       3413.77\n",
              "1994-01-12       3372.02\n",
              "1994-01-13       3360.01"
            ],
            "text/html": [
              "\n",
              "  <div id=\"df-c1cf9fd0-3e5b-4542-a061-099fb834d1a2\">\n",
              "    <div class=\"colab-df-container\">\n",
              "      <div>\n",
              "<style scoped>\n",
              "    .dataframe tbody tr th:only-of-type {\n",
              "        vertical-align: middle;\n",
              "    }\n",
              "\n",
              "    .dataframe tbody tr th {\n",
              "        vertical-align: top;\n",
              "    }\n",
              "\n",
              "    .dataframe thead th {\n",
              "        text-align: right;\n",
              "    }\n",
              "</style>\n",
              "<table border=\"1\" class=\"dataframe\">\n",
              "  <thead>\n",
              "    <tr style=\"text-align: right;\">\n",
              "      <th></th>\n",
              "      <th>market_value</th>\n",
              "    </tr>\n",
              "    <tr>\n",
              "      <th>date</th>\n",
              "      <th></th>\n",
              "    </tr>\n",
              "  </thead>\n",
              "  <tbody>\n",
              "    <tr>\n",
              "      <th>1994-01-07</th>\n",
              "      <td>3445.98</td>\n",
              "    </tr>\n",
              "    <tr>\n",
              "      <th>1994-01-10</th>\n",
              "      <td>3440.58</td>\n",
              "    </tr>\n",
              "    <tr>\n",
              "      <th>1994-01-11</th>\n",
              "      <td>3413.77</td>\n",
              "    </tr>\n",
              "    <tr>\n",
              "      <th>1994-01-12</th>\n",
              "      <td>3372.02</td>\n",
              "    </tr>\n",
              "    <tr>\n",
              "      <th>1994-01-13</th>\n",
              "      <td>3360.01</td>\n",
              "    </tr>\n",
              "  </tbody>\n",
              "</table>\n",
              "</div>\n",
              "      <button class=\"colab-df-convert\" onclick=\"convertToInteractive('df-c1cf9fd0-3e5b-4542-a061-099fb834d1a2')\"\n",
              "              title=\"Convert this dataframe to an interactive table.\"\n",
              "              style=\"display:none;\">\n",
              "        \n",
              "  <svg xmlns=\"http://www.w3.org/2000/svg\" height=\"24px\"viewBox=\"0 0 24 24\"\n",
              "       width=\"24px\">\n",
              "    <path d=\"M0 0h24v24H0V0z\" fill=\"none\"/>\n",
              "    <path d=\"M18.56 5.44l.94 2.06.94-2.06 2.06-.94-2.06-.94-.94-2.06-.94 2.06-2.06.94zm-11 1L8.5 8.5l.94-2.06 2.06-.94-2.06-.94L8.5 2.5l-.94 2.06-2.06.94zm10 10l.94 2.06.94-2.06 2.06-.94-2.06-.94-.94-2.06-.94 2.06-2.06.94z\"/><path d=\"M17.41 7.96l-1.37-1.37c-.4-.4-.92-.59-1.43-.59-.52 0-1.04.2-1.43.59L10.3 9.45l-7.72 7.72c-.78.78-.78 2.05 0 2.83L4 21.41c.39.39.9.59 1.41.59.51 0 1.02-.2 1.41-.59l7.78-7.78 2.81-2.81c.8-.78.8-2.07 0-2.86zM5.41 20L4 18.59l7.72-7.72 1.47 1.35L5.41 20z\"/>\n",
              "  </svg>\n",
              "      </button>\n",
              "      \n",
              "  <style>\n",
              "    .colab-df-container {\n",
              "      display:flex;\n",
              "      flex-wrap:wrap;\n",
              "      gap: 12px;\n",
              "    }\n",
              "\n",
              "    .colab-df-convert {\n",
              "      background-color: #E8F0FE;\n",
              "      border: none;\n",
              "      border-radius: 50%;\n",
              "      cursor: pointer;\n",
              "      display: none;\n",
              "      fill: #1967D2;\n",
              "      height: 32px;\n",
              "      padding: 0 0 0 0;\n",
              "      width: 32px;\n",
              "    }\n",
              "\n",
              "    .colab-df-convert:hover {\n",
              "      background-color: #E2EBFA;\n",
              "      box-shadow: 0px 1px 2px rgba(60, 64, 67, 0.3), 0px 1px 3px 1px rgba(60, 64, 67, 0.15);\n",
              "      fill: #174EA6;\n",
              "    }\n",
              "\n",
              "    [theme=dark] .colab-df-convert {\n",
              "      background-color: #3B4455;\n",
              "      fill: #D2E3FC;\n",
              "    }\n",
              "\n",
              "    [theme=dark] .colab-df-convert:hover {\n",
              "      background-color: #434B5C;\n",
              "      box-shadow: 0px 1px 3px 1px rgba(0, 0, 0, 0.15);\n",
              "      filter: drop-shadow(0px 1px 2px rgba(0, 0, 0, 0.3));\n",
              "      fill: #FFFFFF;\n",
              "    }\n",
              "  </style>\n",
              "\n",
              "      <script>\n",
              "        const buttonEl =\n",
              "          document.querySelector('#df-c1cf9fd0-3e5b-4542-a061-099fb834d1a2 button.colab-df-convert');\n",
              "        buttonEl.style.display =\n",
              "          google.colab.kernel.accessAllowed ? 'block' : 'none';\n",
              "\n",
              "        async function convertToInteractive(key) {\n",
              "          const element = document.querySelector('#df-c1cf9fd0-3e5b-4542-a061-099fb834d1a2');\n",
              "          const dataTable =\n",
              "            await google.colab.kernel.invokeFunction('convertToInteractive',\n",
              "                                                     [key], {});\n",
              "          if (!dataTable) return;\n",
              "\n",
              "          const docLinkHtml = 'Like what you see? Visit the ' +\n",
              "            '<a target=\"_blank\" href=https://colab.research.google.com/notebooks/data_table.ipynb>data table notebook</a>'\n",
              "            + ' to learn more about interactive tables.';\n",
              "          element.innerHTML = '';\n",
              "          dataTable['output_type'] = 'display_data';\n",
              "          await google.colab.output.renderOutput(dataTable, element);\n",
              "          const docLink = document.createElement('div');\n",
              "          docLink.innerHTML = docLinkHtml;\n",
              "          element.appendChild(docLink);\n",
              "        }\n",
              "      </script>\n",
              "    </div>\n",
              "  </div>\n",
              "  "
            ]
          },
          "metadata": {},
          "execution_count": 6
        }
      ]
    },
    {
      "cell_type": "markdown",
      "source": [
        "## The ACF"
      ],
      "metadata": {
        "id": "CoYvVdUQQ5DD"
      }
    },
    {
      "cell_type": "code",
      "source": [
        "sgt.plot_acf(df_comp.market_value,zero=False, lags=40)\n",
        "plt.title('ACF for Prices', size=24)\n",
        "plt.show()"
      ],
      "metadata": {
        "colab": {
          "base_uri": "https://localhost:8080/",
          "height": 293
        },
        "id": "5_sh5mj0Q1xZ",
        "outputId": "eb1e5173-b56b-478e-b2a3-75d199a6c4b7"
      },
      "execution_count": 7,
      "outputs": [
        {
          "output_type": "display_data",
          "data": {
            "text/plain": [
              "<Figure size 432x288 with 1 Axes>"
            ],
            "image/png": "[encoded data removed]"
          },
          "metadata": {}
        }
      ]
    },
    {
      "cell_type": "markdown",
      "source": [
        "## The PACF"
      ],
      "metadata": {
        "id": "CErjCzVoRmB6"
      }
    },
    {
      "cell_type": "code",
      "source": [
        "sgt.plot_pacf(df_comp.market_value,zero=False, lags=40,alpha = 0.05, method=('ols'))\n",
        "plt.title('PACF for Prices', size=24)\n",
        "plt.show()"
      ],
      "metadata": {
        "colab": {
          "base_uri": "https://localhost:8080/",
          "height": 293
        },
        "id": "NyuZKVedRLk8",
        "outputId": "867f8c6c-7e7f-4e4b-f13e-8c581db24c66"
      },
      "execution_count": 8,
      "outputs": [
        {
          "output_type": "display_data",
          "data": {
            "text/plain": [
              "<Figure size 432x288 with 1 Axes>"
            ],
            "image/png": "[encoded data removed]"
          },
          "metadata": {}
        }
      ]
    },
    {
      "cell_type": "markdown",
      "source": [
        "## The AR(1) Model"
      ],
      "metadata": {
        "id": "_XbqzCS2ulmE"
      }
    },
    {
      "cell_type": "code",
      "source": [
        "model_ar = ARMA(df.market_value,order=(1,0))"
      ],
      "metadata": {
        "colab": {
          "base_uri": "https://localhost:8080/"
        },
        "id": "R1qa_ZeGRqod",
        "outputId": "62ec89fe-3b2d-4f95-cd7e-0d21b94fd275"
      },
      "execution_count": 9,
      "outputs": [
        {
          "output_type": "stream",
          "name": "stderr",
          "text": [
            "/usr/local/lib/python3.7/dist-packages/statsmodels/tsa/arima_model.py:472: FutureWarning: \n",
            "statsmodels.tsa.arima_model.ARMA and statsmodels.tsa.arima_model.ARIMA have\n",
            "been deprecated in favor of statsmodels.tsa.arima.model.ARIMA (note the .\n",
            "between arima and model) and\n",
            "statsmodels.tsa.SARIMAX. These will be removed after the 0.12 release.\n",
            "\n",
            "statsmodels.tsa.arima.model.ARIMA makes use of the statespace framework and\n",
            "is both well tested and maintained.\n",
            "\n",
            "To silence this warning and continue using ARMA and ARIMA until they are\n",
            "removed, use:\n",
            "\n",
            "import warnings\n",
            "warnings.filterwarnings('ignore', 'statsmodels.tsa.arima_model.ARMA',\n",
            "                        FutureWarning)\n",
            "warnings.filterwarnings('ignore', 'statsmodels.tsa.arima_model.ARIMA',\n",
            "                        FutureWarning)\n",
            "\n",
            "  warnings.warn(ARIMA_DEPRECATION_WARN, FutureWarning)\n"
          ]
        }
      ]
    },
    {
      "cell_type": "code",
      "source": [
        "results_ar = model_ar.fit()"
      ],
      "metadata": {
        "id": "6IJWhDWevzcu"
      },
      "execution_count": 10,
      "outputs": []
    },
    {
      "cell_type": "code",
      "source": [
        "results_ar.summary()"
      ],
      "metadata": {
        "colab": {
          "base_uri": "https://localhost:8080/",
          "height": 308
        },
        "id": "rOnq_psIv2xF",
        "outputId": "af061408-4ded-4159-d547-22cd2a8e2c98"
      },
      "execution_count": 11,
      "outputs": [
        {
          "output_type": "execute_result",
          "data": {
            "text/plain": [
              "<class 'statsmodels.iolib.summary.Summary'>\n",
              "\"\"\"\n",
              "                              ARMA Model Results                              \n",
              "==============================================================================\n",
              "Dep. Variable:           market_value   No. Observations:                 5021\n",
              "Model:                     ARMA(1, 0)   Log Likelihood              -27622.598\n",
              "Method:                       css-mle   S.D. of innovations             59.258\n",
              "Date:                Tue, 08 Nov 2022   AIC                          55251.196\n",
              "Time:                        09:02:09   BIC                          55270.760\n",
              "Sample:                    01-07-1994   HQIC                         55258.052\n",
              "                         - 04-05-2013                                         \n",
              "======================================================================================\n",
              "                         coef    std err          z      P>|z|      [0.025      0.975]\n",
              "--------------------------------------------------------------------------------------\n",
              "const               5055.8541    485.798     10.407      0.000    4103.707    6008.001\n",
              "ar.L1.market_value     0.9985      0.001   1298.620      0.000       0.997       1.000\n",
              "                                    Roots                                    \n",
              "=============================================================================\n",
              "                  Real          Imaginary           Modulus         Frequency\n",
              "-----------------------------------------------------------------------------\n",
              "AR.1            1.0015           +0.0000j            1.0015            0.0000\n",
              "-----------------------------------------------------------------------------\n",
              "\"\"\""
            ],
            "text/html": [
              "<table class=\"simpletable\">\n",
              "<caption>ARMA Model Results</caption>\n",
              "<tr>\n",
              "  <th>Dep. Variable:</th>   <td>market_value</td>   <th>  No. Observations:  </th>    <td>5021</td>   \n",
              "</tr>\n",
              "<tr>\n",
              "  <th>Model:</th>            <td>ARMA(1, 0)</td>    <th>  Log Likelihood     </th> <td>-27622.598</td>\n",
              "</tr>\n",
              "<tr>\n",
              "  <th>Method:</th>             <td>css-mle</td>     <th>  S.D. of innovations</th>   <td>59.258</td>  \n",
              "</tr>\n",
              "<tr>\n",
              "  <th>Date:</th>          <td>Tue, 08 Nov 2022</td> <th>  AIC                </th>  <td>55251.196</td>\n",
              "</tr>\n",
              "<tr>\n",
              "  <th>Time:</th>              <td>09:02:09</td>     <th>  BIC                </th>  <td>55270.760</td>\n",
              "</tr>\n",
              "<tr>\n",
              "  <th>Sample:</th>           <td>01-07-1994</td>    <th>  HQIC               </th>  <td>55258.052</td>\n",
              "</tr>\n",
              "<tr>\n",
              "  <th></th>                 <td>- 04-05-2013</td>   <th>                     </th>      <td> </td>    \n",
              "</tr>\n",
              "</table>\n",
              "<table class=\"simpletable\">\n",
              "<tr>\n",
              "           <td></td>             <th>coef</th>     <th>std err</th>      <th>z</th>      <th>P>|z|</th>  <th>[0.025</th>    <th>0.975]</th>  \n",
              "</tr>\n",
              "<tr>\n",
              "  <th>const</th>              <td> 5055.8541</td> <td>  485.798</td> <td>   10.407</td> <td> 0.000</td> <td> 4103.707</td> <td> 6008.001</td>\n",
              "</tr>\n",
              "<tr>\n",
              "  <th>ar.L1.market_value</th> <td>    0.9985</td> <td>    0.001</td> <td> 1298.620</td> <td> 0.000</td> <td>    0.997</td> <td>    1.000</td>\n",
              "</tr>\n",
              "</table>\n",
              "<table class=\"simpletable\">\n",
              "<caption>Roots</caption>\n",
              "<tr>\n",
              "    <td></td>   <th>            Real</th>  <th>         Imaginary</th> <th>         Modulus</th>  <th>        Frequency</th>\n",
              "</tr>\n",
              "<tr>\n",
              "  <th>AR.1</th> <td>           1.0015</td> <td>          +0.0000j</td> <td>           1.0015</td> <td>           0.0000</td>\n",
              "</tr>\n",
              "</table>"
            ]
          },
          "metadata": {},
          "execution_count": 11
        }
      ]
    },
    {
      "cell_type": "markdown",
      "source": [
        "## Higher-Lag AR Models"
      ],
      "metadata": {
        "id": "v1EaLS8lsn7S"
      }
    },
    {
      "cell_type": "code",
      "source": [
        "model_ar_2 = ARMA(df.market_value,order=(2,0))\n",
        "results_ar_2 = model_ar_2.fit()\n",
        "results_ar_2.summary()"
      ],
      "metadata": {
        "colab": {
          "base_uri": "https://localhost:8080/",
          "height": 679
        },
        "id": "vKPJwON1v68I",
        "outputId": "57488ea3-2ac6-4df8-fce2-0e17a0ccc1dc"
      },
      "execution_count": 12,
      "outputs": [
        {
          "output_type": "stream",
          "name": "stderr",
          "text": [
            "/usr/local/lib/python3.7/dist-packages/statsmodels/tsa/arima_model.py:472: FutureWarning: \n",
            "statsmodels.tsa.arima_model.ARMA and statsmodels.tsa.arima_model.ARIMA have\n",
            "been deprecated in favor of statsmodels.tsa.arima.model.ARIMA (note the .\n",
            "between arima and model) and\n",
            "statsmodels.tsa.SARIMAX. These will be removed after the 0.12 release.\n",
            "\n",
            "statsmodels.tsa.arima.model.ARIMA makes use of the statespace framework and\n",
            "is both well tested and maintained.\n",
            "\n",
            "To silence this warning and continue using ARMA and ARIMA until they are\n",
            "removed, use:\n",
            "\n",
            "import warnings\n",
            "warnings.filterwarnings('ignore', 'statsmodels.tsa.arima_model.ARMA',\n",
            "                        FutureWarning)\n",
            "warnings.filterwarnings('ignore', 'statsmodels.tsa.arima_model.ARIMA',\n",
            "                        FutureWarning)\n",
            "\n",
            "  warnings.warn(ARIMA_DEPRECATION_WARN, FutureWarning)\n"
          ]
        },
        {
          "output_type": "execute_result",
          "data": {
            "text/plain": [
              "<class 'statsmodels.iolib.summary.Summary'>\n",
              "\"\"\"\n",
              "                              ARMA Model Results                              \n",
              "==============================================================================\n",
              "Dep. Variable:           market_value   No. Observations:                 5021\n",
              "Model:                     ARMA(2, 0)   Log Likelihood              -27621.871\n",
              "Method:                       css-mle   S.D. of innovations             59.249\n",
              "Date:                Tue, 08 Nov 2022   AIC                          55251.742\n",
              "Time:                        09:02:10   BIC                          55277.827\n",
              "Sample:                    01-07-1994   HQIC                         55260.883\n",
              "                         - 04-05-2013                                         \n",
              "======================================================================================\n",
              "                         coef    std err          z      P>|z|      [0.025      0.975]\n",
              "--------------------------------------------------------------------------------------\n",
              "const               5089.6412    495.717     10.267      0.000    4118.054    6061.228\n",
              "ar.L1.market_value     0.9814      0.014     69.595      0.000       0.954       1.009\n",
              "ar.L2.market_value     0.0171      0.014      1.211      0.226      -0.011       0.045\n",
              "                                    Roots                                    \n",
              "=============================================================================\n",
              "                  Real          Imaginary           Modulus         Frequency\n",
              "-----------------------------------------------------------------------------\n",
              "AR.1            1.0015           +0.0000j            1.0015            0.0000\n",
              "AR.2          -58.4633           +0.0000j           58.4633            0.5000\n",
              "-----------------------------------------------------------------------------\n",
              "\"\"\""
            ],
            "text/html": [
              "<table class=\"simpletable\">\n",
              "<caption>ARMA Model Results</caption>\n",
              "<tr>\n",
              "  <th>Dep. Variable:</th>   <td>market_value</td>   <th>  No. Observations:  </th>    <td>5021</td>   \n",
              "</tr>\n",
              "<tr>\n",
              "  <th>Model:</th>            <td>ARMA(2, 0)</td>    <th>  Log Likelihood     </th> <td>-27621.871</td>\n",
              "</tr>\n",
              "<tr>\n",
              "  <th>Method:</th>             <td>css-mle</td>     <th>  S.D. of innovations</th>   <td>59.249</td>  \n",
              "</tr>\n",
              "<tr>\n",
              "  <th>Date:</th>          <td>Tue, 08 Nov 2022</td> <th>  AIC                </th>  <td>55251.742</td>\n",
              "</tr>\n",
              "<tr>\n",
              "  <th>Time:</th>              <td>09:02:10</td>     <th>  BIC                </th>  <td>55277.827</td>\n",
              "</tr>\n",
              "<tr>\n",
              "  <th>Sample:</th>           <td>01-07-1994</td>    <th>  HQIC               </th>  <td>55260.883</td>\n",
              "</tr>\n",
              "<tr>\n",
              "  <th></th>                 <td>- 04-05-2013</td>   <th>                     </th>      <td> </td>    \n",
              "</tr>\n",
              "</table>\n",
              "<table class=\"simpletable\">\n",
              "<tr>\n",
              "           <td></td>             <th>coef</th>     <th>std err</th>      <th>z</th>      <th>P>|z|</th>  <th>[0.025</th>    <th>0.975]</th>  \n",
              "</tr>\n",
              "<tr>\n",
              "  <th>const</th>              <td> 5089.6412</td> <td>  495.717</td> <td>   10.267</td> <td> 0.000</td> <td> 4118.054</td> <td> 6061.228</td>\n",
              "</tr>\n",
              "<tr>\n",
              "  <th>ar.L1.market_value</th> <td>    0.9814</td> <td>    0.014</td> <td>   69.595</td> <td> 0.000</td> <td>    0.954</td> <td>    1.009</td>\n",
              "</tr>\n",
              "<tr>\n",
              "  <th>ar.L2.market_value</th> <td>    0.0171</td> <td>    0.014</td> <td>    1.211</td> <td> 0.226</td> <td>   -0.011</td> <td>    0.045</td>\n",
              "</tr>\n",
              "</table>\n",
              "<table class=\"simpletable\">\n",
              "<caption>Roots</caption>\n",
              "<tr>\n",
              "    <td></td>   <th>            Real</th>  <th>         Imaginary</th> <th>         Modulus</th>  <th>        Frequency</th>\n",
              "</tr>\n",
              "<tr>\n",
              "  <th>AR.1</th> <td>           1.0015</td> <td>          +0.0000j</td> <td>           1.0015</td> <td>           0.0000</td>\n",
              "</tr>\n",
              "<tr>\n",
              "  <th>AR.2</th> <td>         -58.4633</td> <td>          +0.0000j</td> <td>          58.4633</td> <td>           0.5000</td>\n",
              "</tr>\n",
              "</table>"
            ]
          },
          "metadata": {},
          "execution_count": 12
        }
      ]
    },
    {
      "cell_type": "code",
      "source": [
        "model_ar_3 = ARMA(df.market_value,order=(3,0))\n",
        "results_ar_3 = model_ar_3.fit()\n",
        "results_ar_3.summary()"
      ],
      "metadata": {
        "colab": {
          "base_uri": "https://localhost:8080/",
          "height": 721
        },
        "id": "xEXZhxOQtMue",
        "outputId": "19f1bf9e-76ee-4d51-f019-9d96e82217f5"
      },
      "execution_count": 13,
      "outputs": [
        {
          "output_type": "stream",
          "name": "stderr",
          "text": [
            "/usr/local/lib/python3.7/dist-packages/statsmodels/tsa/arima_model.py:472: FutureWarning: \n",
            "statsmodels.tsa.arima_model.ARMA and statsmodels.tsa.arima_model.ARIMA have\n",
            "been deprecated in favor of statsmodels.tsa.arima.model.ARIMA (note the .\n",
            "between arima and model) and\n",
            "statsmodels.tsa.SARIMAX. These will be removed after the 0.12 release.\n",
            "\n",
            "statsmodels.tsa.arima.model.ARIMA makes use of the statespace framework and\n",
            "is both well tested and maintained.\n",
            "\n",
            "To silence this warning and continue using ARMA and ARIMA until they are\n",
            "removed, use:\n",
            "\n",
            "import warnings\n",
            "warnings.filterwarnings('ignore', 'statsmodels.tsa.arima_model.ARMA',\n",
            "                        FutureWarning)\n",
            "warnings.filterwarnings('ignore', 'statsmodels.tsa.arima_model.ARIMA',\n",
            "                        FutureWarning)\n",
            "\n",
            "  warnings.warn(ARIMA_DEPRECATION_WARN, FutureWarning)\n"
          ]
        },
        {
          "output_type": "execute_result",
          "data": {
            "text/plain": [
              "<class 'statsmodels.iolib.summary.Summary'>\n",
              "\"\"\"\n",
              "                              ARMA Model Results                              \n",
              "==============================================================================\n",
              "Dep. Variable:           market_value   No. Observations:                 5021\n",
              "Model:                     ARMA(3, 0)   Log Likelihood              -27615.871\n",
              "Method:                       css-mle   S.D. of innovations             59.178\n",
              "Date:                Tue, 08 Nov 2022   AIC                          55241.742\n",
              "Time:                        09:02:10   BIC                          55274.349\n",
              "Sample:                    01-07-1994   HQIC                         55253.168\n",
              "                         - 04-05-2013                                         \n",
              "======================================================================================\n",
              "                         coef    std err          z      P>|z|      [0.025      0.975]\n",
              "--------------------------------------------------------------------------------------\n",
              "const               5089.6411    520.379      9.781      0.000    4069.718    6109.565\n",
              "ar.L1.market_value     0.9806      0.014     69.619      0.000       0.953       1.008\n",
              "ar.L2.market_value    -0.0309      0.020     -1.563      0.118      -0.070       0.008\n",
              "ar.L3.market_value     0.0489      0.014      3.466      0.001       0.021       0.077\n",
              "                                    Roots                                    \n",
              "=============================================================================\n",
              "                  Real          Imaginary           Modulus         Frequency\n",
              "-----------------------------------------------------------------------------\n",
              "AR.1            1.0013           -0.0000j            1.0013           -0.0000\n",
              "AR.2           -0.1850           -4.5161j            4.5199           -0.2565\n",
              "AR.3           -0.1850           +4.5161j            4.5199            0.2565\n",
              "-----------------------------------------------------------------------------\n",
              "\"\"\""
            ],
            "text/html": [
              "<table class=\"simpletable\">\n",
              "<caption>ARMA Model Results</caption>\n",
              "<tr>\n",
              "  <th>Dep. Variable:</th>   <td>market_value</td>   <th>  No. Observations:  </th>    <td>5021</td>   \n",
              "</tr>\n",
              "<tr>\n",
              "  <th>Model:</th>            <td>ARMA(3, 0)</td>    <th>  Log Likelihood     </th> <td>-27615.871</td>\n",
              "</tr>\n",
              "<tr>\n",
              "  <th>Method:</th>             <td>css-mle</td>     <th>  S.D. of innovations</th>   <td>59.178</td>  \n",
              "</tr>\n",
              "<tr>\n",
              "  <th>Date:</th>          <td>Tue, 08 Nov 2022</td> <th>  AIC                </th>  <td>55241.742</td>\n",
              "</tr>\n",
              "<tr>\n",
              "  <th>Time:</th>              <td>09:02:10</td>     <th>  BIC                </th>  <td>55274.349</td>\n",
              "</tr>\n",
              "<tr>\n",
              "  <th>Sample:</th>           <td>01-07-1994</td>    <th>  HQIC               </th>  <td>55253.168</td>\n",
              "</tr>\n",
              "<tr>\n",
              "  <th></th>                 <td>- 04-05-2013</td>   <th>                     </th>      <td> </td>    \n",
              "</tr>\n",
              "</table>\n",
              "<table class=\"simpletable\">\n",
              "<tr>\n",
              "           <td></td>             <th>coef</th>     <th>std err</th>      <th>z</th>      <th>P>|z|</th>  <th>[0.025</th>    <th>0.975]</th>  \n",
              "</tr>\n",
              "<tr>\n",
              "  <th>const</th>              <td> 5089.6411</td> <td>  520.379</td> <td>    9.781</td> <td> 0.000</td> <td> 4069.718</td> <td> 6109.565</td>\n",
              "</tr>\n",
              "<tr>\n",
              "  <th>ar.L1.market_value</th> <td>    0.9806</td> <td>    0.014</td> <td>   69.619</td> <td> 0.000</td> <td>    0.953</td> <td>    1.008</td>\n",
              "</tr>\n",
              "<tr>\n",
              "  <th>ar.L2.market_value</th> <td>   -0.0309</td> <td>    0.020</td> <td>   -1.563</td> <td> 0.118</td> <td>   -0.070</td> <td>    0.008</td>\n",
              "</tr>\n",
              "<tr>\n",
              "  <th>ar.L3.market_value</th> <td>    0.0489</td> <td>    0.014</td> <td>    3.466</td> <td> 0.001</td> <td>    0.021</td> <td>    0.077</td>\n",
              "</tr>\n",
              "</table>\n",
              "<table class=\"simpletable\">\n",
              "<caption>Roots</caption>\n",
              "<tr>\n",
              "    <td></td>   <th>            Real</th>  <th>         Imaginary</th> <th>         Modulus</th>  <th>        Frequency</th>\n",
              "</tr>\n",
              "<tr>\n",
              "  <th>AR.1</th> <td>           1.0013</td> <td>          -0.0000j</td> <td>           1.0013</td> <td>          -0.0000</td>\n",
              "</tr>\n",
              "<tr>\n",
              "  <th>AR.2</th> <td>          -0.1850</td> <td>          -4.5161j</td> <td>           4.5199</td> <td>          -0.2565</td>\n",
              "</tr>\n",
              "<tr>\n",
              "  <th>AR.3</th> <td>          -0.1850</td> <td>          +4.5161j</td> <td>           4.5199</td> <td>           0.2565</td>\n",
              "</tr>\n",
              "</table>"
            ]
          },
          "metadata": {},
          "execution_count": 13
        }
      ]
    },
    {
      "cell_type": "code",
      "source": [
        "model_ar_4 = ARMA(df.market_value,order=(4,0))\n",
        "results_ar_4 = model_ar_4.fit()\n",
        "results_ar_4.summary()"
      ],
      "metadata": {
        "colab": {
          "base_uri": "https://localhost:8080/",
          "height": 763
        },
        "id": "vw_X6ZE7txIj",
        "outputId": "af0351dd-11ab-4ca9-b9f2-061f72f66721"
      },
      "execution_count": 14,
      "outputs": [
        {
          "output_type": "stream",
          "name": "stderr",
          "text": [
            "/usr/local/lib/python3.7/dist-packages/statsmodels/tsa/arima_model.py:472: FutureWarning: \n",
            "statsmodels.tsa.arima_model.ARMA and statsmodels.tsa.arima_model.ARIMA have\n",
            "been deprecated in favor of statsmodels.tsa.arima.model.ARIMA (note the .\n",
            "between arima and model) and\n",
            "statsmodels.tsa.SARIMAX. These will be removed after the 0.12 release.\n",
            "\n",
            "statsmodels.tsa.arima.model.ARIMA makes use of the statespace framework and\n",
            "is both well tested and maintained.\n",
            "\n",
            "To silence this warning and continue using ARMA and ARIMA until they are\n",
            "removed, use:\n",
            "\n",
            "import warnings\n",
            "warnings.filterwarnings('ignore', 'statsmodels.tsa.arima_model.ARMA',\n",
            "                        FutureWarning)\n",
            "warnings.filterwarnings('ignore', 'statsmodels.tsa.arima_model.ARIMA',\n",
            "                        FutureWarning)\n",
            "\n",
            "  warnings.warn(ARIMA_DEPRECATION_WARN, FutureWarning)\n"
          ]
        },
        {
          "output_type": "execute_result",
          "data": {
            "text/plain": [
              "<class 'statsmodels.iolib.summary.Summary'>\n",
              "\"\"\"\n",
              "                              ARMA Model Results                              \n",
              "==============================================================================\n",
              "Dep. Variable:           market_value   No. Observations:                 5021\n",
              "Model:                     ARMA(4, 0)   Log Likelihood              -27602.780\n",
              "Method:                       css-mle   S.D. of innovations             59.023\n",
              "Date:                Tue, 08 Nov 2022   AIC                          55217.559\n",
              "Time:                        09:02:11   BIC                          55256.688\n",
              "Sample:                    01-07-1994   HQIC                         55231.270\n",
              "                         - 04-05-2013                                         \n",
              "======================================================================================\n",
              "                         coef    std err          z      P>|z|      [0.025      0.975]\n",
              "--------------------------------------------------------------------------------------\n",
              "const               5416.3868    792.830      6.832      0.000    3862.468    6970.305\n",
              "ar.L1.market_value     0.9770      0.014     69.540      0.000       0.950       1.005\n",
              "ar.L2.market_value    -0.0286      0.020     -1.455      0.146      -0.067       0.010\n",
              "ar.L3.market_value    -0.0224      0.020     -1.135      0.256      -0.061       0.016\n",
              "ar.L4.market_value     0.0728      0.014      5.170      0.000       0.045       0.100\n",
              "                                    Roots                                    \n",
              "=============================================================================\n",
              "                  Real          Imaginary           Modulus         Frequency\n",
              "-----------------------------------------------------------------------------\n",
              "AR.1            1.0010           -0.0000j            1.0010           -0.0000\n",
              "AR.2            0.9545           -2.0879j            2.2957           -0.1818\n",
              "AR.3            0.9545           +2.0879j            2.2957            0.1818\n",
              "AR.4           -2.6029           -0.0000j            2.6029           -0.5000\n",
              "-----------------------------------------------------------------------------\n",
              "\"\"\""
            ],
            "text/html": [
              "<table class=\"simpletable\">\n",
              "<caption>ARMA Model Results</caption>\n",
              "<tr>\n",
              "  <th>Dep. Variable:</th>   <td>market_value</td>   <th>  No. Observations:  </th>    <td>5021</td>   \n",
              "</tr>\n",
              "<tr>\n",
              "  <th>Model:</th>            <td>ARMA(4, 0)</td>    <th>  Log Likelihood     </th> <td>-27602.780</td>\n",
              "</tr>\n",
              "<tr>\n",
              "  <th>Method:</th>             <td>css-mle</td>     <th>  S.D. of innovations</th>   <td>59.023</td>  \n",
              "</tr>\n",
              "<tr>\n",
              "  <th>Date:</th>          <td>Tue, 08 Nov 2022</td> <th>  AIC                </th>  <td>55217.559</td>\n",
              "</tr>\n",
              "<tr>\n",
              "  <th>Time:</th>              <td>09:02:11</td>     <th>  BIC                </th>  <td>55256.688</td>\n",
              "</tr>\n",
              "<tr>\n",
              "  <th>Sample:</th>           <td>01-07-1994</td>    <th>  HQIC               </th>  <td>55231.270</td>\n",
              "</tr>\n",
              "<tr>\n",
              "  <th></th>                 <td>- 04-05-2013</td>   <th>                     </th>      <td> </td>    \n",
              "</tr>\n",
              "</table>\n",
              "<table class=\"simpletable\">\n",
              "<tr>\n",
              "           <td></td>             <th>coef</th>     <th>std err</th>      <th>z</th>      <th>P>|z|</th>  <th>[0.025</th>    <th>0.975]</th>  \n",
              "</tr>\n",
              "<tr>\n",
              "  <th>const</th>              <td> 5416.3868</td> <td>  792.830</td> <td>    6.832</td> <td> 0.000</td> <td> 3862.468</td> <td> 6970.305</td>\n",
              "</tr>\n",
              "<tr>\n",
              "  <th>ar.L1.market_value</th> <td>    0.9770</td> <td>    0.014</td> <td>   69.540</td> <td> 0.000</td> <td>    0.950</td> <td>    1.005</td>\n",
              "</tr>\n",
              "<tr>\n",
              "  <th>ar.L2.market_value</th> <td>   -0.0286</td> <td>    0.020</td> <td>   -1.455</td> <td> 0.146</td> <td>   -0.067</td> <td>    0.010</td>\n",
              "</tr>\n",
              "<tr>\n",
              "  <th>ar.L3.market_value</th> <td>   -0.0224</td> <td>    0.020</td> <td>   -1.135</td> <td> 0.256</td> <td>   -0.061</td> <td>    0.016</td>\n",
              "</tr>\n",
              "<tr>\n",
              "  <th>ar.L4.market_value</th> <td>    0.0728</td> <td>    0.014</td> <td>    5.170</td> <td> 0.000</td> <td>    0.045</td> <td>    0.100</td>\n",
              "</tr>\n",
              "</table>\n",
              "<table class=\"simpletable\">\n",
              "<caption>Roots</caption>\n",
              "<tr>\n",
              "    <td></td>   <th>            Real</th>  <th>         Imaginary</th> <th>         Modulus</th>  <th>        Frequency</th>\n",
              "</tr>\n",
              "<tr>\n",
              "  <th>AR.1</th> <td>           1.0010</td> <td>          -0.0000j</td> <td>           1.0010</td> <td>          -0.0000</td>\n",
              "</tr>\n",
              "<tr>\n",
              "  <th>AR.2</th> <td>           0.9545</td> <td>          -2.0879j</td> <td>           2.2957</td> <td>          -0.1818</td>\n",
              "</tr>\n",
              "<tr>\n",
              "  <th>AR.3</th> <td>           0.9545</td> <td>          +2.0879j</td> <td>           2.2957</td> <td>           0.1818</td>\n",
              "</tr>\n",
              "<tr>\n",
              "  <th>AR.4</th> <td>          -2.6029</td> <td>          -0.0000j</td> <td>           2.6029</td> <td>          -0.5000</td>\n",
              "</tr>\n",
              "</table>"
            ]
          },
          "metadata": {},
          "execution_count": 14
        }
      ]
    },
    {
      "cell_type": "markdown",
      "source": [
        "## LLR Test"
      ],
      "metadata": {
        "id": "pwwYCjsAuBj3"
      }
    },
    {
      "cell_type": "code",
      "source": [
        "def LLR_test(mod_1,mod_2,DF=1):\n",
        "  L1 = mod_1.fit().llf\n",
        "  L2 = mod_2.fit().llf\n",
        "  LR = (2*(L2-L1))\n",
        "  p = chi2.sf(LR,DF).round(3)\n",
        "  return p\n"
      ],
      "metadata": {
        "id": "jlDkmSgyt_0z"
      },
      "execution_count": 15,
      "outputs": []
    },
    {
      "cell_type": "markdown",
      "source": [
        "## Comparing Higher-Lag AR Models"
      ],
      "metadata": {
        "id": "wdaFXRA9uhJL"
      }
    },
    {
      "cell_type": "code",
      "source": [
        "LLR_test(model_ar_2,model_ar_3)"
      ],
      "metadata": {
        "colab": {
          "base_uri": "https://localhost:8080/"
        },
        "id": "coLIzrsguehw",
        "outputId": "313e3ade-4d3d-4ccd-bbcd-86aff24023fd"
      },
      "execution_count": 16,
      "outputs": [
        {
          "output_type": "execute_result",
          "data": {
            "text/plain": [
              "0.001"
            ]
          },
          "metadata": {},
          "execution_count": 16
        }
      ]
    },
    {
      "cell_type": "code",
      "source": [
        "LLR_test(model_ar_3,model_ar_4)"
      ],
      "metadata": {
        "colab": {
          "base_uri": "https://localhost:8080/"
        },
        "id": "f-eP73h-uqe5",
        "outputId": "c338cfee-5002-445b-a1b2-bcbfda45d74c"
      },
      "execution_count": 17,
      "outputs": [
        {
          "output_type": "execute_result",
          "data": {
            "text/plain": [
              "0.0"
            ]
          },
          "metadata": {},
          "execution_count": 17
        }
      ]
    },
    {
      "cell_type": "code",
      "source": [
        "model_ar_4 = ARMA(df.market_value,order=(4,0))\n",
        "results_ar_4 = model_ar_4.fit()\n",
        "print(results_ar_4.summary())\n",
        "print(\"LLR Test:\" + str(LLR_test(model_ar_3,model_ar_4)))"
      ],
      "metadata": {
        "colab": {
          "base_uri": "https://localhost:8080/"
        },
        "id": "j9YY8yeMuyfg",
        "outputId": "527ea241-33a2-4a2c-900a-e33397a74914"
      },
      "execution_count": 18,
      "outputs": [
        {
          "output_type": "stream",
          "name": "stderr",
          "text": [
            "/usr/local/lib/python3.7/dist-packages/statsmodels/tsa/arima_model.py:472: FutureWarning: \n",
            "statsmodels.tsa.arima_model.ARMA and statsmodels.tsa.arima_model.ARIMA have\n",
            "been deprecated in favor of statsmodels.tsa.arima.model.ARIMA (note the .\n",
            "between arima and model) and\n",
            "statsmodels.tsa.SARIMAX. These will be removed after the 0.12 release.\n",
            "\n",
            "statsmodels.tsa.arima.model.ARIMA makes use of the statespace framework and\n",
            "is both well tested and maintained.\n",
            "\n",
            "To silence this warning and continue using ARMA and ARIMA until they are\n",
            "removed, use:\n",
            "\n",
            "import warnings\n",
            "warnings.filterwarnings('ignore', 'statsmodels.tsa.arima_model.ARMA',\n",
            "                        FutureWarning)\n",
            "warnings.filterwarnings('ignore', 'statsmodels.tsa.arima_model.ARIMA',\n",
            "                        FutureWarning)\n",
            "\n",
            "  warnings.warn(ARIMA_DEPRECATION_WARN, FutureWarning)\n"
          ]
        },
        {
          "output_type": "stream",
          "name": "stdout",
          "text": [
            "                              ARMA Model Results                              \n",
            "==============================================================================\n",
            "Dep. Variable:           market_value   No. Observations:                 5021\n",
            "Model:                     ARMA(4, 0)   Log Likelihood              -27602.780\n",
            "Method:                       css-mle   S.D. of innovations             59.023\n",
            "Date:                Tue, 08 Nov 2022   AIC                          55217.559\n",
            "Time:                        09:02:13   BIC                          55256.688\n",
            "Sample:                    01-07-1994   HQIC                         55231.270\n",
            "                         - 04-05-2013                                         \n",
            "======================================================================================\n",
            "                         coef    std err          z      P>|z|      [0.025      0.975]\n",
            "--------------------------------------------------------------------------------------\n",
            "const               5416.3868    792.830      6.832      0.000    3862.468    6970.305\n",
            "ar.L1.market_value     0.9770      0.014     69.540      0.000       0.950       1.005\n",
            "ar.L2.market_value    -0.0286      0.020     -1.455      0.146      -0.067       0.010\n",
            "ar.L3.market_value    -0.0224      0.020     -1.135      0.256      -0.061       0.016\n",
            "ar.L4.market_value     0.0728      0.014      5.170      0.000       0.045       0.100\n",
            "                                    Roots                                    \n",
            "=============================================================================\n",
            "                  Real          Imaginary           Modulus         Frequency\n",
            "-----------------------------------------------------------------------------\n",
            "AR.1            1.0010           -0.0000j            1.0010           -0.0000\n",
            "AR.2            0.9545           -2.0879j            2.2957           -0.1818\n",
            "AR.3            0.9545           +2.0879j            2.2957            0.1818\n",
            "AR.4           -2.6029           -0.0000j            2.6029           -0.5000\n",
            "-----------------------------------------------------------------------------\n",
            "LLR Test:0.0\n"
          ]
        }
      ]
    },
    {
      "cell_type": "code",
      "source": [
        "model_ar_5 = ARMA(df.market_value,order=(5,0))\n",
        "results_ar_5 = model_ar_5.fit()\n",
        "print(results_ar_5.summary())\n",
        "print(\"LLR Test:\" + str(LLR_test(model_ar_4,model_ar_5)))"
      ],
      "metadata": {
        "colab": {
          "base_uri": "https://localhost:8080/"
        },
        "id": "kp8d0NP7vqhy",
        "outputId": "65fc6ee6-127f-4d7b-d342-27fe69d740c0"
      },
      "execution_count": 19,
      "outputs": [
        {
          "output_type": "stream",
          "name": "stderr",
          "text": [
            "/usr/local/lib/python3.7/dist-packages/statsmodels/tsa/arima_model.py:472: FutureWarning: \n",
            "statsmodels.tsa.arima_model.ARMA and statsmodels.tsa.arima_model.ARIMA have\n",
            "been deprecated in favor of statsmodels.tsa.arima.model.ARIMA (note the .\n",
            "between arima and model) and\n",
            "statsmodels.tsa.SARIMAX. These will be removed after the 0.12 release.\n",
            "\n",
            "statsmodels.tsa.arima.model.ARIMA makes use of the statespace framework and\n",
            "is both well tested and maintained.\n",
            "\n",
            "To silence this warning and continue using ARMA and ARIMA until they are\n",
            "removed, use:\n",
            "\n",
            "import warnings\n",
            "warnings.filterwarnings('ignore', 'statsmodels.tsa.arima_model.ARMA',\n",
            "                        FutureWarning)\n",
            "warnings.filterwarnings('ignore', 'statsmodels.tsa.arima_model.ARIMA',\n",
            "                        FutureWarning)\n",
            "\n",
            "  warnings.warn(ARIMA_DEPRECATION_WARN, FutureWarning)\n"
          ]
        },
        {
          "output_type": "stream",
          "name": "stdout",
          "text": [
            "                              ARMA Model Results                              \n",
            "==============================================================================\n",
            "Dep. Variable:           market_value   No. Observations:                 5021\n",
            "Model:                     ARMA(5, 0)   Log Likelihood              -27600.348\n",
            "Method:                       css-mle   S.D. of innovations             58.996\n",
            "Date:                Tue, 08 Nov 2022   AIC                          55214.697\n",
            "Time:                        09:02:14   BIC                          55260.346\n",
            "Sample:                    01-07-1994   HQIC                         55230.693\n",
            "                         - 04-05-2013                                         \n",
            "======================================================================================\n",
            "                         coef    std err          z      P>|z|      [0.025      0.975]\n",
            "--------------------------------------------------------------------------------------\n",
            "const               5089.6412    543.615      9.363      0.000    4024.175    6155.107\n",
            "ar.L1.market_value     0.9791      0.014     69.481      0.000       0.952       1.007\n",
            "ar.L2.market_value    -0.0293      0.020     -1.488      0.137      -0.068       0.009\n",
            "ar.L3.market_value    -0.0232      0.020     -1.178      0.239      -0.062       0.015\n",
            "ar.L4.market_value     0.1018      0.020      5.166      0.000       0.063       0.140\n",
            "ar.L5.market_value    -0.0297      0.014     -2.106      0.035      -0.057      -0.002\n",
            "                                    Roots                                    \n",
            "=============================================================================\n",
            "                  Real          Imaginary           Modulus         Frequency\n",
            "-----------------------------------------------------------------------------\n",
            "AR.1            1.0012           -0.0000j            1.0012           -0.0000\n",
            "AR.2           -2.0605           -0.0000j            2.0605           -0.5000\n",
            "AR.3            0.4270           -2.0763j            2.1198           -0.2177\n",
            "AR.4            0.4270           +2.0763j            2.1198            0.2177\n",
            "AR.5            3.6286           -0.0000j            3.6286           -0.0000\n",
            "-----------------------------------------------------------------------------\n",
            "LLR Test:0.027\n"
          ]
        }
      ]
    },
    {
      "cell_type": "code",
      "source": [
        "model_ar_6 = ARMA(df.market_value,order=(6,0))\n",
        "results_ar_6 = model_ar_6.fit()\n",
        "print(results_ar_6.summary())\n",
        "print(\"LLR Test:\" + str(LLR_test(model_ar_5,model_ar_6)))"
      ],
      "metadata": {
        "colab": {
          "base_uri": "https://localhost:8080/"
        },
        "id": "Bjh3yQy-v6Va",
        "outputId": "63d0fc59-91ed-4d68-b1dc-8c51d35619f8"
      },
      "execution_count": 20,
      "outputs": [
        {
          "output_type": "stream",
          "name": "stderr",
          "text": [
            "/usr/local/lib/python3.7/dist-packages/statsmodels/tsa/arima_model.py:472: FutureWarning: \n",
            "statsmodels.tsa.arima_model.ARMA and statsmodels.tsa.arima_model.ARIMA have\n",
            "been deprecated in favor of statsmodels.tsa.arima.model.ARIMA (note the .\n",
            "between arima and model) and\n",
            "statsmodels.tsa.SARIMAX. These will be removed after the 0.12 release.\n",
            "\n",
            "statsmodels.tsa.arima.model.ARIMA makes use of the statespace framework and\n",
            "is both well tested and maintained.\n",
            "\n",
            "To silence this warning and continue using ARMA and ARIMA until they are\n",
            "removed, use:\n",
            "\n",
            "import warnings\n",
            "warnings.filterwarnings('ignore', 'statsmodels.tsa.arima_model.ARMA',\n",
            "                        FutureWarning)\n",
            "warnings.filterwarnings('ignore', 'statsmodels.tsa.arima_model.ARIMA',\n",
            "                        FutureWarning)\n",
            "\n",
            "  warnings.warn(ARIMA_DEPRECATION_WARN, FutureWarning)\n"
          ]
        },
        {
          "output_type": "stream",
          "name": "stdout",
          "text": [
            "                              ARMA Model Results                              \n",
            "==============================================================================\n",
            "Dep. Variable:           market_value   No. Observations:                 5021\n",
            "Model:                     ARMA(6, 0)   Log Likelihood              -27596.474\n",
            "Method:                       css-mle   S.D. of innovations             58.950\n",
            "Date:                Tue, 08 Nov 2022   AIC                          55208.947\n",
            "Time:                        09:02:17   BIC                          55261.118\n",
            "Sample:                    01-07-1994   HQIC                         55227.229\n",
            "                         - 04-05-2013                                         \n",
            "======================================================================================\n",
            "                         coef    std err          z      P>|z|      [0.025      0.975]\n",
            "--------------------------------------------------------------------------------------\n",
            "const               5089.6414    565.225      9.005      0.000    3981.821    6197.462\n",
            "ar.L1.market_value     0.9803      0.014     69.604      0.000       0.953       1.008\n",
            "ar.L2.market_value    -0.0333      0.020     -1.687      0.092      -0.072       0.005\n",
            "ar.L3.market_value    -0.0223      0.020     -1.134      0.257      -0.061       0.016\n",
            "ar.L4.market_value     0.1029      0.020      5.227      0.000       0.064       0.141\n",
            "ar.L5.market_value    -0.0682      0.020     -3.454      0.001      -0.107      -0.029\n",
            "ar.L6.market_value     0.0393      0.014      2.785      0.005       0.012       0.067\n",
            "                                    Roots                                    \n",
            "=============================================================================\n",
            "                  Real          Imaginary           Modulus         Frequency\n",
            "-----------------------------------------------------------------------------\n",
            "AR.1            1.0011           -0.0000j            1.0011           -0.0000\n",
            "AR.2           -1.6828           -0.0000j            1.6828           -0.5000\n",
            "AR.3           -0.3031           -1.8985j            1.9226           -0.2752\n",
            "AR.4           -0.3031           +1.8985j            1.9226            0.2752\n",
            "AR.5            1.5114           -1.3426j            2.0216           -0.1156\n",
            "AR.6            1.5114           +1.3426j            2.0216            0.1156\n",
            "-----------------------------------------------------------------------------\n",
            "LLR Test:0.005\n"
          ]
        }
      ]
    },
    {
      "cell_type": "code",
      "source": [
        "model_ar_7 = ARMA(df.market_value,order=(7,0))\n",
        "results_ar_7 = model_ar_7.fit()\n",
        "print(results_ar_7.summary())\n",
        "print(\"LLR Test:\" + str(LLR_test(model_ar_6,model_ar_7)))"
      ],
      "metadata": {
        "colab": {
          "base_uri": "https://localhost:8080/"
        },
        "id": "NNieu_xnwBu_",
        "outputId": "47f10f94-2963-409f-ae32-ef04d2473d98"
      },
      "execution_count": 21,
      "outputs": [
        {
          "output_type": "stream",
          "name": "stderr",
          "text": [
            "/usr/local/lib/python3.7/dist-packages/statsmodels/tsa/arima_model.py:472: FutureWarning: \n",
            "statsmodels.tsa.arima_model.ARMA and statsmodels.tsa.arima_model.ARIMA have\n",
            "been deprecated in favor of statsmodels.tsa.arima.model.ARIMA (note the .\n",
            "between arima and model) and\n",
            "statsmodels.tsa.SARIMAX. These will be removed after the 0.12 release.\n",
            "\n",
            "statsmodels.tsa.arima.model.ARIMA makes use of the statespace framework and\n",
            "is both well tested and maintained.\n",
            "\n",
            "To silence this warning and continue using ARMA and ARIMA until they are\n",
            "removed, use:\n",
            "\n",
            "import warnings\n",
            "warnings.filterwarnings('ignore', 'statsmodels.tsa.arima_model.ARMA',\n",
            "                        FutureWarning)\n",
            "warnings.filterwarnings('ignore', 'statsmodels.tsa.arima_model.ARIMA',\n",
            "                        FutureWarning)\n",
            "\n",
            "  warnings.warn(ARIMA_DEPRECATION_WARN, FutureWarning)\n"
          ]
        },
        {
          "output_type": "stream",
          "name": "stdout",
          "text": [
            "                              ARMA Model Results                              \n",
            "==============================================================================\n",
            "Dep. Variable:           market_value   No. Observations:                 5021\n",
            "Model:                     ARMA(7, 0)   Log Likelihood              -27591.900\n",
            "Method:                       css-mle   S.D. of innovations             58.896\n",
            "Date:                Tue, 08 Nov 2022   AIC                          55201.799\n",
            "Time:                        09:02:21   BIC                          55260.492\n",
            "Sample:                    01-07-1994   HQIC                         55222.366\n",
            "                         - 04-05-2013                                         \n",
            "======================================================================================\n",
            "                         coef    std err          z      P>|z|      [0.025      0.975]\n",
            "--------------------------------------------------------------------------------------\n",
            "const               5089.6413    589.591      8.632      0.000    3934.064    6245.218\n",
            "ar.L1.market_value     0.9786      0.014     69.518      0.000       0.951       1.006\n",
            "ar.L2.market_value    -0.0304      0.020     -1.540      0.124      -0.069       0.008\n",
            "ar.L3.market_value    -0.0267      0.020     -1.353      0.176      -0.065       0.012\n",
            "ar.L4.market_value     0.1038      0.020      5.279      0.000       0.065       0.142\n",
            "ar.L5.market_value    -0.0668      0.020     -3.385      0.001      -0.105      -0.028\n",
            "ar.L6.market_value    -0.0025      0.020     -0.127      0.899      -0.041       0.036\n",
            "ar.L7.market_value     0.0427      0.014      3.026      0.002       0.015       0.070\n",
            "                                    Roots                                    \n",
            "=============================================================================\n",
            "                  Real          Imaginary           Modulus         Frequency\n",
            "-----------------------------------------------------------------------------\n",
            "AR.1            1.0010           -0.0000j            1.0010           -0.0000\n",
            "AR.2            1.3301           -0.9296j            1.6228           -0.0971\n",
            "AR.3            1.3301           +0.9296j            1.6228            0.0971\n",
            "AR.4           -0.0400           -1.5870j            1.5875           -0.2540\n",
            "AR.5           -0.0400           +1.5870j            1.5875            0.2540\n",
            "AR.6           -1.7612           -0.6517j            1.8779           -0.4436\n",
            "AR.7           -1.7612           +0.6517j            1.8779            0.4436\n",
            "-----------------------------------------------------------------------------\n",
            "LLR Test:0.002\n"
          ]
        }
      ]
    },
    {
      "cell_type": "code",
      "source": [
        "model_ar_8 = ARMA(df.market_value,order=(8,0))\n",
        "results_ar_8 = model_ar_8.fit()\n",
        "print(results_ar_8.summary())\n",
        "print(\"LLR Test:\" + str(LLR_test(model_ar_7,model_ar_8)))"
      ],
      "metadata": {
        "colab": {
          "base_uri": "https://localhost:8080/"
        },
        "id": "x-Ogm2c_wIpL",
        "outputId": "675e6700-d830-49b7-a61e-cfdfc0dc6043"
      },
      "execution_count": 22,
      "outputs": [
        {
          "output_type": "stream",
          "name": "stderr",
          "text": [
            "/usr/local/lib/python3.7/dist-packages/statsmodels/tsa/arima_model.py:472: FutureWarning: \n",
            "statsmodels.tsa.arima_model.ARMA and statsmodels.tsa.arima_model.ARIMA have\n",
            "been deprecated in favor of statsmodels.tsa.arima.model.ARIMA (note the .\n",
            "between arima and model) and\n",
            "statsmodels.tsa.SARIMAX. These will be removed after the 0.12 release.\n",
            "\n",
            "statsmodels.tsa.arima.model.ARIMA makes use of the statespace framework and\n",
            "is both well tested and maintained.\n",
            "\n",
            "To silence this warning and continue using ARMA and ARIMA until they are\n",
            "removed, use:\n",
            "\n",
            "import warnings\n",
            "warnings.filterwarnings('ignore', 'statsmodels.tsa.arima_model.ARMA',\n",
            "                        FutureWarning)\n",
            "warnings.filterwarnings('ignore', 'statsmodels.tsa.arima_model.ARIMA',\n",
            "                        FutureWarning)\n",
            "\n",
            "  warnings.warn(ARIMA_DEPRECATION_WARN, FutureWarning)\n"
          ]
        },
        {
          "output_type": "stream",
          "name": "stdout",
          "text": [
            "                              ARMA Model Results                              \n",
            "==============================================================================\n",
            "Dep. Variable:           market_value   No. Observations:                 5021\n",
            "Model:                     ARMA(8, 0)   Log Likelihood              -27591.739\n",
            "Method:                       css-mle   S.D. of innovations             58.894\n",
            "Date:                Tue, 08 Nov 2022   AIC                          55203.478\n",
            "Time:                        09:02:29   BIC                          55268.692\n",
            "Sample:                    01-07-1994   HQIC                         55226.329\n",
            "                         - 04-05-2013                                         \n",
            "======================================================================================\n",
            "                         coef    std err          z      P>|z|      [0.025      0.975]\n",
            "--------------------------------------------------------------------------------------\n",
            "const               5089.6416    585.036      8.700      0.000    3942.992    6236.291\n",
            "ar.L1.market_value     0.9790      0.014     69.476      0.000       0.951       1.007\n",
            "ar.L2.market_value    -0.0304      0.020     -1.541      0.123      -0.069       0.008\n",
            "ar.L3.market_value    -0.0272      0.020     -1.379      0.168      -0.066       0.011\n",
            "ar.L4.market_value     0.1047      0.020      5.306      0.000       0.066       0.143\n",
            "ar.L5.market_value    -0.0670      0.020     -3.396      0.001      -0.106      -0.028\n",
            "ar.L6.market_value    -0.0028      0.020     -0.139      0.889      -0.041       0.036\n",
            "ar.L7.market_value     0.0505      0.020      2.559      0.010       0.012       0.089\n",
            "ar.L8.market_value    -0.0080      0.014     -0.567      0.571      -0.036       0.020\n",
            "                                    Roots                                    \n",
            "=============================================================================\n",
            "                  Real          Imaginary           Modulus         Frequency\n",
            "-----------------------------------------------------------------------------\n",
            "AR.1            1.0010           -0.0000j            1.0010           -0.0000\n",
            "AR.2           -1.6223           -0.6323j            1.7412           -0.4409\n",
            "AR.3           -1.6223           +0.6323j            1.7412            0.4409\n",
            "AR.4           -0.0911           -1.5626j            1.5653           -0.2593\n",
            "AR.5           -0.0911           +1.5626j            1.5653            0.2593\n",
            "AR.6            1.3256           -1.0019j            1.6616           -0.1030\n",
            "AR.7            1.3256           +1.0019j            1.6616            0.1030\n",
            "AR.8            6.0864           -0.0000j            6.0864           -0.0000\n",
            "-----------------------------------------------------------------------------\n",
            "LLR Test:0.571\n"
          ]
        }
      ]
    },
    {
      "cell_type": "code",
      "source": [
        "print(\"LLR Test:\" + str(LLR_test(model_ar,model_ar_7,DF=6)))"
      ],
      "metadata": {
        "colab": {
          "base_uri": "https://localhost:8080/"
        },
        "id": "uz2aphj9wZJ1",
        "outputId": "f1247ba6-572d-44cd-8414-d6d1bc870169"
      },
      "execution_count": 23,
      "outputs": [
        {
          "output_type": "stream",
          "name": "stdout",
          "text": [
            "LLR Test:0.0\n"
          ]
        }
      ]
    },
    {
      "cell_type": "markdown",
      "source": [
        "## The DF-Test"
      ],
      "metadata": {
        "id": "E3c9NJWOxQLQ"
      }
    },
    {
      "cell_type": "code",
      "source": [
        "sts.adfuller(df.market_value)"
      ],
      "metadata": {
        "colab": {
          "base_uri": "https://localhost:8080/"
        },
        "id": "g9x2lrCbwtmQ",
        "outputId": "1a5359bf-3e4b-40d8-8566-7d222a61b590"
      },
      "execution_count": 26,
      "outputs": [
        {
          "output_type": "execute_result",
          "data": {
            "text/plain": [
              "(-1.9041551418836864,\n",
              " 0.33010893277028336,\n",
              " 6,\n",
              " 5014,\n",
              " {'1%': -3.4316548765428174,\n",
              "  '5%': -2.8621166146845334,\n",
              "  '10%': -2.5670769326348926},\n",
              " 54854.15304507557)"
            ]
          },
          "metadata": {},
          "execution_count": 26
        }
      ]
    },
    {
      "cell_type": "markdown",
      "source": [
        "## Using Returns"
      ],
      "metadata": {
        "id": "ozFwjWxdma0O"
      }
    },
    {
      "cell_type": "code",
      "source": [
        "df[\"returns\"] = df.market_value.pct_change(1).mul(100)\n",
        "df = df.iloc[1:]"
      ],
      "metadata": {
        "colab": {
          "base_uri": "https://localhost:8080/"
        },
        "id": "p1EAmiJLxYnW",
        "outputId": "d58ea6ec-8e11-46ac-fc43-d0102e900d25"
      },
      "execution_count": 27,
      "outputs": [
        {
          "output_type": "stream",
          "name": "stderr",
          "text": [
            "/usr/local/lib/python3.7/dist-packages/ipykernel_launcher.py:1: SettingWithCopyWarning: \n",
            "A value is trying to be set on a copy of a slice from a DataFrame.\n",
            "Try using .loc[row_indexer,col_indexer] = value instead\n",
            "\n",
            "See the caveats in the documentation: https://pandas.pydata.org/pandas-docs/stable/user_guide/indexing.html#returning-a-view-versus-a-copy\n",
            "  \"\"\"Entry point for launching an IPython kernel.\n"
          ]
        }
      ]
    },
    {
      "cell_type": "code",
      "source": [
        "sts.adfuller(df.returns)"
      ],
      "metadata": {
        "colab": {
          "base_uri": "https://localhost:8080/"
        },
        "id": "yY4J_kXSqZBy",
        "outputId": "8271eb1a-db79-4e66-e4ad-fe636cfdf17c"
      },
      "execution_count": 28,
      "outputs": [
        {
          "output_type": "execute_result",
          "data": {
            "text/plain": [
              "(-12.770265719497184,\n",
              " 7.79805833604023e-24,\n",
              " 32,\n",
              " 4987,\n",
              " {'1%': -3.431661944885779,\n",
              "  '5%': -2.8621197374408225,\n",
              "  '10%': -2.5670785949998973},\n",
              " 15696.7672456975)"
            ]
          },
          "metadata": {},
          "execution_count": 28
        }
      ]
    },
    {
      "cell_type": "markdown",
      "source": [
        "## ACF and PACF for Returns"
      ],
      "metadata": {
        "id": "p32twgUSqsgg"
      }
    },
    {
      "cell_type": "code",
      "source": [
        "sgt.plot_acf(df.returns, lags = 40, zero= False)\n",
        "plt.title(\"ACF FTSE Returns\",size=24)\n",
        "plt.show()"
      ],
      "metadata": {
        "colab": {
          "base_uri": "https://localhost:8080/",
          "height": 293
        },
        "id": "YwLR0UduqfBM",
        "outputId": "8f8a9915-8015-438f-a114-5044a77bff38"
      },
      "execution_count": 30,
      "outputs": [
        {
          "output_type": "display_data",
          "data": {
            "text/plain": [
              "<Figure size 432x288 with 1 Axes>"
            ],
            "image/png": "[encoded data removed]"
          },
          "metadata": {}
        }
      ]
    },
    {
      "cell_type": "code",
      "source": [
        "sgt.plot_pacf(df.returns, lags = 40, zero= False, method=(\"ols\"))\n",
        "plt.title(\"PACF FTSE Returns\",size=24)\n",
        "plt.show()"
      ],
      "metadata": {
        "colab": {
          "base_uri": "https://localhost:8080/",
          "height": 293
        },
        "id": "UgJqNDwcq1TF",
        "outputId": "e7ac1fc3-1d9a-46e0-f68d-f1d25cfe5800"
      },
      "execution_count": 31,
      "outputs": [
        {
          "output_type": "display_data",
          "data": {
            "text/plain": [
              "<Figure size 432x288 with 1 Axes>"
            ],
            "image/png": "[encoded data removed]"
          },
          "metadata": {}
        }
      ]
    },
    {
      "cell_type": "markdown",
      "source": [
        "## AR(1) for Returns"
      ],
      "metadata": {
        "id": "okcjexW_ruC7"
      }
    },
    {
      "cell_type": "code",
      "source": [
        "model_ret_ar_1 = ARMA(df.returns, order = (1,0))"
      ],
      "metadata": {
        "colab": {
          "base_uri": "https://localhost:8080/"
        },
        "id": "mowqNh1krFks",
        "outputId": "72c8e3bb-26ad-401d-aa9f-5176ab529fc3"
      },
      "execution_count": 32,
      "outputs": [
        {
          "output_type": "stream",
          "name": "stderr",
          "text": [
            "/usr/local/lib/python3.7/dist-packages/statsmodels/tsa/arima_model.py:472: FutureWarning: \n",
            "statsmodels.tsa.arima_model.ARMA and statsmodels.tsa.arima_model.ARIMA have\n",
            "been deprecated in favor of statsmodels.tsa.arima.model.ARIMA (note the .\n",
            "between arima and model) and\n",
            "statsmodels.tsa.SARIMAX. These will be removed after the 0.12 release.\n",
            "\n",
            "statsmodels.tsa.arima.model.ARIMA makes use of the statespace framework and\n",
            "is both well tested and maintained.\n",
            "\n",
            "To silence this warning and continue using ARMA and ARIMA until they are\n",
            "removed, use:\n",
            "\n",
            "import warnings\n",
            "warnings.filterwarnings('ignore', 'statsmodels.tsa.arima_model.ARMA',\n",
            "                        FutureWarning)\n",
            "warnings.filterwarnings('ignore', 'statsmodels.tsa.arima_model.ARIMA',\n",
            "                        FutureWarning)\n",
            "\n",
            "  warnings.warn(ARIMA_DEPRECATION_WARN, FutureWarning)\n"
          ]
        }
      ]
    },
    {
      "cell_type": "code",
      "source": [
        "results_ret_ar_1 = model_ret_ar_1.fit()"
      ],
      "metadata": {
        "id": "fa79jgx4sD3E"
      },
      "execution_count": 33,
      "outputs": []
    },
    {
      "cell_type": "code",
      "source": [
        "print(results_ret_ar_1.summary())"
      ],
      "metadata": {
        "colab": {
          "base_uri": "https://localhost:8080/"
        },
        "id": "vYu9Im4JsJ52",
        "outputId": "582b0cb0-f1d8-4d64-ad98-d02f67c84d85"
      },
      "execution_count": 35,
      "outputs": [
        {
          "output_type": "stream",
          "name": "stdout",
          "text": [
            "                              ARMA Model Results                              \n",
            "==============================================================================\n",
            "Dep. Variable:                returns   No. Observations:                 5020\n",
            "Model:                     ARMA(1, 0)   Log Likelihood               -7929.749\n",
            "Method:                       css-mle   S.D. of innovations              1.174\n",
            "Date:                Tue, 08 Nov 2022   AIC                          15865.497\n",
            "Time:                        10:02:42   BIC                          15885.061\n",
            "Sample:                    01-10-1994   HQIC                         15872.353\n",
            "                         - 04-05-2013                                         \n",
            "=================================================================================\n",
            "                    coef    std err          z      P>|z|      [0.025      0.975]\n",
            "---------------------------------------------------------------------------------\n",
            "const             0.0188      0.016      1.159      0.247      -0.013       0.051\n",
            "ar.L1.returns    -0.0230      0.014     -1.631      0.103      -0.051       0.005\n",
            "                                    Roots                                    \n",
            "=============================================================================\n",
            "                  Real          Imaginary           Modulus         Frequency\n",
            "-----------------------------------------------------------------------------\n",
            "AR.1          -43.4386           +0.0000j           43.4386            0.5000\n",
            "-----------------------------------------------------------------------------\n"
          ]
        }
      ]
    },
    {
      "cell_type": "markdown",
      "source": [
        "## Higher Lag Models for Returns"
      ],
      "metadata": {
        "id": "0vI3m1x2sdlf"
      }
    },
    {
      "cell_type": "code",
      "source": [
        "model_ret_ar_2 = ARMA(df.returns, order = (2,0))\n",
        "results_ret_ar_2 = model_ret_ar_2.fit()\n",
        "print(results_ret_ar_2.summary())\n",
        "print(\"LLR Test:\",LLR_test(model_ret_ar_1,model_ret_ar_2))"
      ],
      "metadata": {
        "colab": {
          "base_uri": "https://localhost:8080/"
        },
        "id": "XiZSTnHZsNI7",
        "outputId": "86908e3f-22b1-4d10-dc1b-e257e4e2e29e"
      },
      "execution_count": 38,
      "outputs": [
        {
          "output_type": "stream",
          "name": "stderr",
          "text": [
            "/usr/local/lib/python3.7/dist-packages/statsmodels/tsa/arima_model.py:472: FutureWarning: \n",
            "statsmodels.tsa.arima_model.ARMA and statsmodels.tsa.arima_model.ARIMA have\n",
            "been deprecated in favor of statsmodels.tsa.arima.model.ARIMA (note the .\n",
            "between arima and model) and\n",
            "statsmodels.tsa.SARIMAX. These will be removed after the 0.12 release.\n",
            "\n",
            "statsmodels.tsa.arima.model.ARIMA makes use of the statespace framework and\n",
            "is both well tested and maintained.\n",
            "\n",
            "To silence this warning and continue using ARMA and ARIMA until they are\n",
            "removed, use:\n",
            "\n",
            "import warnings\n",
            "warnings.filterwarnings('ignore', 'statsmodels.tsa.arima_model.ARMA',\n",
            "                        FutureWarning)\n",
            "warnings.filterwarnings('ignore', 'statsmodels.tsa.arima_model.ARIMA',\n",
            "                        FutureWarning)\n",
            "\n",
            "  warnings.warn(ARIMA_DEPRECATION_WARN, FutureWarning)\n"
          ]
        },
        {
          "output_type": "stream",
          "name": "stdout",
          "text": [
            "                              ARMA Model Results                              \n",
            "==============================================================================\n",
            "Dep. Variable:                returns   No. Observations:                 5020\n",
            "Model:                     ARMA(2, 0)   Log Likelihood               -7923.456\n",
            "Method:                       css-mle   S.D. of innovations              1.173\n",
            "Date:                Tue, 08 Nov 2022   AIC                          15854.911\n",
            "Time:                        10:08:32   BIC                          15880.996\n",
            "Sample:                    01-10-1994   HQIC                         15864.052\n",
            "                         - 04-05-2013                                         \n",
            "=================================================================================\n",
            "                    coef    std err          z      P>|z|      [0.025      0.975]\n",
            "---------------------------------------------------------------------------------\n",
            "const             0.0188      0.015      1.220      0.222      -0.011       0.049\n",
            "ar.L1.returns    -0.0242      0.014     -1.716      0.086      -0.052       0.003\n",
            "ar.L2.returns    -0.0500      0.014     -3.550      0.000      -0.078      -0.022\n",
            "                                    Roots                                    \n",
            "=============================================================================\n",
            "                  Real          Imaginary           Modulus         Frequency\n",
            "-----------------------------------------------------------------------------\n",
            "AR.1           -0.2417           -4.4635j            4.4701           -0.2586\n",
            "AR.2           -0.2417           +4.4635j            4.4701            0.2586\n",
            "-----------------------------------------------------------------------------\n",
            "LLR Test: 0.0\n"
          ]
        }
      ]
    },
    {
      "cell_type": "code",
      "source": [
        "model_ret_ar_3 = ARMA(df.returns, order = (3,0))\n",
        "results_ret_ar_3 = model_ret_ar_3.fit()\n",
        "print(results_ret_ar_3.summary())\n",
        "print(\"LLR Test:\",LLR_test(model_ret_ar_2,model_ret_ar_3))"
      ],
      "metadata": {
        "colab": {
          "base_uri": "https://localhost:8080/"
        },
        "id": "lhrGxzXutS5K",
        "outputId": "aed29e90-f3f7-43e0-f48d-c11c6fc612db"
      },
      "execution_count": 39,
      "outputs": [
        {
          "output_type": "stream",
          "name": "stderr",
          "text": [
            "/usr/local/lib/python3.7/dist-packages/statsmodels/tsa/arima_model.py:472: FutureWarning: \n",
            "statsmodels.tsa.arima_model.ARMA and statsmodels.tsa.arima_model.ARIMA have\n",
            "been deprecated in favor of statsmodels.tsa.arima.model.ARIMA (note the .\n",
            "between arima and model) and\n",
            "statsmodels.tsa.SARIMAX. These will be removed after the 0.12 release.\n",
            "\n",
            "statsmodels.tsa.arima.model.ARIMA makes use of the statespace framework and\n",
            "is both well tested and maintained.\n",
            "\n",
            "To silence this warning and continue using ARMA and ARIMA until they are\n",
            "removed, use:\n",
            "\n",
            "import warnings\n",
            "warnings.filterwarnings('ignore', 'statsmodels.tsa.arima_model.ARMA',\n",
            "                        FutureWarning)\n",
            "warnings.filterwarnings('ignore', 'statsmodels.tsa.arima_model.ARIMA',\n",
            "                        FutureWarning)\n",
            "\n",
            "  warnings.warn(ARIMA_DEPRECATION_WARN, FutureWarning)\n"
          ]
        },
        {
          "output_type": "stream",
          "name": "stdout",
          "text": [
            "                              ARMA Model Results                              \n",
            "==============================================================================\n",
            "Dep. Variable:                returns   No. Observations:                 5020\n",
            "Model:                     ARMA(3, 0)   Log Likelihood               -7906.738\n",
            "Method:                       css-mle   S.D. of innovations              1.169\n",
            "Date:                Tue, 08 Nov 2022   AIC                          15823.477\n",
            "Time:                        10:09:19   BIC                          15856.083\n",
            "Sample:                    01-10-1994   HQIC                         15834.902\n",
            "                         - 04-05-2013                                         \n",
            "=================================================================================\n",
            "                    coef    std err          z      P>|z|      [0.025      0.975]\n",
            "---------------------------------------------------------------------------------\n",
            "const             0.0189      0.014      1.330      0.184      -0.009       0.047\n",
            "ar.L1.returns    -0.0283      0.014     -2.011      0.044      -0.056      -0.001\n",
            "ar.L2.returns    -0.0521      0.014     -3.705      0.000      -0.080      -0.025\n",
            "ar.L3.returns    -0.0815      0.014     -5.792      0.000      -0.109      -0.054\n",
            "                                    Roots                                    \n",
            "=============================================================================\n",
            "                  Real          Imaginary           Modulus         Frequency\n",
            "-----------------------------------------------------------------------------\n",
            "AR.1            0.9233           -2.0210j            2.2219           -0.1818\n",
            "AR.2            0.9233           +2.0210j            2.2219            0.1818\n",
            "AR.3           -2.4855           -0.0000j            2.4855           -0.5000\n",
            "-----------------------------------------------------------------------------\n",
            "LLR Test: 0.0\n"
          ]
        }
      ]
    },
    {
      "cell_type": "code",
      "source": [
        "model_ret_ar_4 = ARMA(df.returns, order = (4,0))\n",
        "results_ret_ar_4 = model_ret_ar_4.fit()\n",
        "print(results_ret_ar_4.summary())\n",
        "print(\"LLR Test:\",LLR_test(model_ret_ar_3,model_ret_ar_4))"
      ],
      "metadata": {
        "colab": {
          "base_uri": "https://localhost:8080/"
        },
        "id": "7cAwmuJwtzKz",
        "outputId": "3fada199-614a-4db2-9d84-3a75ec097729"
      },
      "execution_count": 40,
      "outputs": [
        {
          "output_type": "stream",
          "name": "stderr",
          "text": [
            "/usr/local/lib/python3.7/dist-packages/statsmodels/tsa/arima_model.py:472: FutureWarning: \n",
            "statsmodels.tsa.arima_model.ARMA and statsmodels.tsa.arima_model.ARIMA have\n",
            "been deprecated in favor of statsmodels.tsa.arima.model.ARIMA (note the .\n",
            "between arima and model) and\n",
            "statsmodels.tsa.SARIMAX. These will be removed after the 0.12 release.\n",
            "\n",
            "statsmodels.tsa.arima.model.ARIMA makes use of the statespace framework and\n",
            "is both well tested and maintained.\n",
            "\n",
            "To silence this warning and continue using ARMA and ARIMA until they are\n",
            "removed, use:\n",
            "\n",
            "import warnings\n",
            "warnings.filterwarnings('ignore', 'statsmodels.tsa.arima_model.ARMA',\n",
            "                        FutureWarning)\n",
            "warnings.filterwarnings('ignore', 'statsmodels.tsa.arima_model.ARIMA',\n",
            "                        FutureWarning)\n",
            "\n",
            "  warnings.warn(ARIMA_DEPRECATION_WARN, FutureWarning)\n"
          ]
        },
        {
          "output_type": "stream",
          "name": "stdout",
          "text": [
            "                              ARMA Model Results                              \n",
            "==============================================================================\n",
            "Dep. Variable:                returns   No. Observations:                 5020\n",
            "Model:                     ARMA(4, 0)   Log Likelihood               -7901.330\n",
            "Method:                       css-mle   S.D. of innovations              1.168\n",
            "Date:                Tue, 08 Nov 2022   AIC                          15814.661\n",
            "Time:                        10:11:05   BIC                          15853.788\n",
            "Sample:                    01-10-1994   HQIC                         15828.371\n",
            "                         - 04-05-2013                                         \n",
            "=================================================================================\n",
            "                    coef    std err          z      P>|z|      [0.025      0.975]\n",
            "---------------------------------------------------------------------------------\n",
            "const             0.0188      0.015      1.267      0.205      -0.010       0.048\n",
            "ar.L1.returns    -0.0245      0.014     -1.739      0.082      -0.052       0.003\n",
            "ar.L2.returns    -0.0496      0.014     -3.531      0.000      -0.077      -0.022\n",
            "ar.L3.returns    -0.0802      0.014     -5.701      0.000      -0.108      -0.053\n",
            "ar.L4.returns     0.0464      0.014      3.291      0.001       0.019       0.074\n",
            "                                    Roots                                    \n",
            "=============================================================================\n",
            "                  Real          Imaginary           Modulus         Frequency\n",
            "-----------------------------------------------------------------------------\n",
            "AR.1           -1.8888           -0.0000j            1.8888           -0.5000\n",
            "AR.2            0.3231           -1.9331j            1.9599           -0.2236\n",
            "AR.3            0.3231           +1.9331j            1.9599            0.2236\n",
            "AR.4            2.9701           -0.0000j            2.9701           -0.0000\n",
            "-----------------------------------------------------------------------------\n",
            "LLR Test: 0.001\n"
          ]
        }
      ]
    },
    {
      "cell_type": "code",
      "source": [
        "model_ret_ar_5 = ARMA(df.returns, order = (5,0))\n",
        "results_ret_ar_5 = model_ret_ar_5.fit()\n",
        "print(results_ret_ar_5.summary())\n",
        "print(\"LLR Test:\",LLR_test(model_ret_ar_4,model_ret_ar_5))"
      ],
      "metadata": {
        "colab": {
          "base_uri": "https://localhost:8080/"
        },
        "id": "lDeSBdMxuNHE",
        "outputId": "13680f95-b205-4d72-aa0f-9aea5cfbf334"
      },
      "execution_count": 41,
      "outputs": [
        {
          "output_type": "stream",
          "name": "stderr",
          "text": [
            "/usr/local/lib/python3.7/dist-packages/statsmodels/tsa/arima_model.py:472: FutureWarning: \n",
            "statsmodels.tsa.arima_model.ARMA and statsmodels.tsa.arima_model.ARIMA have\n",
            "been deprecated in favor of statsmodels.tsa.arima.model.ARIMA (note the .\n",
            "between arima and model) and\n",
            "statsmodels.tsa.SARIMAX. These will be removed after the 0.12 release.\n",
            "\n",
            "statsmodels.tsa.arima.model.ARIMA makes use of the statespace framework and\n",
            "is both well tested and maintained.\n",
            "\n",
            "To silence this warning and continue using ARMA and ARIMA until they are\n",
            "removed, use:\n",
            "\n",
            "import warnings\n",
            "warnings.filterwarnings('ignore', 'statsmodels.tsa.arima_model.ARMA',\n",
            "                        FutureWarning)\n",
            "warnings.filterwarnings('ignore', 'statsmodels.tsa.arima_model.ARIMA',\n",
            "                        FutureWarning)\n",
            "\n",
            "  warnings.warn(ARIMA_DEPRECATION_WARN, FutureWarning)\n"
          ]
        },
        {
          "output_type": "stream",
          "name": "stdout",
          "text": [
            "                              ARMA Model Results                              \n",
            "==============================================================================\n",
            "Dep. Variable:                returns   No. Observations:                 5020\n",
            "Model:                     ARMA(5, 0)   Log Likelihood               -7892.390\n",
            "Method:                       css-mle   S.D. of innovations              1.166\n",
            "Date:                Tue, 08 Nov 2022   AIC                          15798.779\n",
            "Time:                        10:11:31   BIC                          15844.428\n",
            "Sample:                    01-10-1994   HQIC                         15814.775\n",
            "                         - 04-05-2013                                         \n",
            "=================================================================================\n",
            "                    coef    std err          z      P>|z|      [0.025      0.975]\n",
            "---------------------------------------------------------------------------------\n",
            "const             0.0189      0.014      1.348      0.178      -0.009       0.046\n",
            "ar.L1.returns    -0.0217      0.014     -1.544      0.123      -0.049       0.006\n",
            "ar.L2.returns    -0.0544      0.014     -3.865      0.000      -0.082      -0.027\n",
            "ar.L3.returns    -0.0831      0.014     -5.914      0.000      -0.111      -0.056\n",
            "ar.L4.returns     0.0449      0.014      3.190      0.001       0.017       0.073\n",
            "ar.L5.returns    -0.0596      0.014     -4.232      0.000      -0.087      -0.032\n",
            "                                    Roots                                    \n",
            "=============================================================================\n",
            "                  Real          Imaginary           Modulus         Frequency\n",
            "-----------------------------------------------------------------------------\n",
            "AR.1           -1.5481           -0.0000j            1.5481           -0.5000\n",
            "AR.2           -0.2860           -1.7252j            1.7487           -0.2761\n",
            "AR.3           -0.2860           +1.7252j            1.7487            0.2761\n",
            "AR.4            1.4366           -1.2157j            1.8819           -0.1118\n",
            "AR.5            1.4366           +1.2157j            1.8819            0.1118\n",
            "-----------------------------------------------------------------------------\n",
            "LLR Test: 0.0\n"
          ]
        }
      ]
    },
    {
      "cell_type": "code",
      "source": [
        "model_ret_ar_6 = ARMA(df.returns, order = (6,0))\n",
        "results_ret_ar_6 = model_ret_ar_6.fit()\n",
        "print(results_ret_ar_6.summary())\n",
        "print(\"LLR Test:\",LLR_test(model_ret_ar_5,model_ret_ar_6))"
      ],
      "metadata": {
        "colab": {
          "base_uri": "https://localhost:8080/"
        },
        "id": "n1BgOTDNuTtK",
        "outputId": "ac05abba-5906-4634-b279-4d5d9e53ae9c"
      },
      "execution_count": 42,
      "outputs": [
        {
          "output_type": "stream",
          "name": "stderr",
          "text": [
            "/usr/local/lib/python3.7/dist-packages/statsmodels/tsa/arima_model.py:472: FutureWarning: \n",
            "statsmodels.tsa.arima_model.ARMA and statsmodels.tsa.arima_model.ARIMA have\n",
            "been deprecated in favor of statsmodels.tsa.arima.model.ARIMA (note the .\n",
            "between arima and model) and\n",
            "statsmodels.tsa.SARIMAX. These will be removed after the 0.12 release.\n",
            "\n",
            "statsmodels.tsa.arima.model.ARIMA makes use of the statespace framework and\n",
            "is both well tested and maintained.\n",
            "\n",
            "To silence this warning and continue using ARMA and ARIMA until they are\n",
            "removed, use:\n",
            "\n",
            "import warnings\n",
            "warnings.filterwarnings('ignore', 'statsmodels.tsa.arima_model.ARMA',\n",
            "                        FutureWarning)\n",
            "warnings.filterwarnings('ignore', 'statsmodels.tsa.arima_model.ARIMA',\n",
            "                        FutureWarning)\n",
            "\n",
            "  warnings.warn(ARIMA_DEPRECATION_WARN, FutureWarning)\n"
          ]
        },
        {
          "output_type": "stream",
          "name": "stdout",
          "text": [
            "                              ARMA Model Results                              \n",
            "==============================================================================\n",
            "Dep. Variable:                returns   No. Observations:                 5020\n",
            "Model:                     ARMA(6, 0)   Log Likelihood               -7886.945\n",
            "Method:                       css-mle   S.D. of innovations              1.164\n",
            "Date:                Tue, 08 Nov 2022   AIC                          15789.890\n",
            "Time:                        10:11:56   BIC                          15842.059\n",
            "Sample:                    01-10-1994   HQIC                         15808.170\n",
            "                         - 04-05-2013                                         \n",
            "=================================================================================\n",
            "                    coef    std err          z      P>|z|      [0.025      0.975]\n",
            "---------------------------------------------------------------------------------\n",
            "const             0.0189      0.013      1.414      0.157      -0.007       0.045\n",
            "ar.L1.returns    -0.0245      0.014     -1.740      0.082      -0.052       0.003\n",
            "ar.L2.returns    -0.0523      0.014     -3.716      0.000      -0.080      -0.025\n",
            "ar.L3.returns    -0.0870      0.014     -6.174      0.000      -0.115      -0.059\n",
            "ar.L4.returns     0.0424      0.014      3.009      0.003       0.015       0.070\n",
            "ar.L5.returns    -0.0607      0.014     -4.309      0.000      -0.088      -0.033\n",
            "ar.L6.returns    -0.0466      0.014     -3.302      0.001      -0.074      -0.019\n",
            "                                    Roots                                    \n",
            "=============================================================================\n",
            "                  Real          Imaginary           Modulus         Frequency\n",
            "-----------------------------------------------------------------------------\n",
            "AR.1            1.2869           -0.9022j            1.5716           -0.0973\n",
            "AR.2            1.2869           +0.9022j            1.5716            0.0973\n",
            "AR.3           -0.0727           -1.5282j            1.5299           -0.2576\n",
            "AR.4           -0.0727           +1.5282j            1.5299            0.2576\n",
            "AR.5           -1.8659           -0.4836j            1.9275           -0.4596\n",
            "AR.6           -1.8659           +0.4836j            1.9275            0.4596\n",
            "-----------------------------------------------------------------------------\n",
            "LLR Test: 0.001\n"
          ]
        }
      ]
    },
    {
      "cell_type": "code",
      "source": [
        "model_ret_ar_7 = ARMA(df.returns, order = (7,0))\n",
        "results_ret_ar_7 = model_ret_ar_7.fit()\n",
        "print(results_ret_ar_7.summary())\n",
        "print(\"LLR Test:\",LLR_test(model_ret_ar_6,model_ret_ar_7))"
      ],
      "metadata": {
        "colab": {
          "base_uri": "https://localhost:8080/"
        },
        "id": "rDeM5EMWuZu2",
        "outputId": "2513f6f7-6792-4b89-aef9-7cee4ba3d9b5"
      },
      "execution_count": 43,
      "outputs": [
        {
          "output_type": "stream",
          "name": "stderr",
          "text": [
            "/usr/local/lib/python3.7/dist-packages/statsmodels/tsa/arima_model.py:472: FutureWarning: \n",
            "statsmodels.tsa.arima_model.ARMA and statsmodels.tsa.arima_model.ARIMA have\n",
            "been deprecated in favor of statsmodels.tsa.arima.model.ARIMA (note the .\n",
            "between arima and model) and\n",
            "statsmodels.tsa.SARIMAX. These will be removed after the 0.12 release.\n",
            "\n",
            "statsmodels.tsa.arima.model.ARIMA makes use of the statespace framework and\n",
            "is both well tested and maintained.\n",
            "\n",
            "To silence this warning and continue using ARMA and ARIMA until they are\n",
            "removed, use:\n",
            "\n",
            "import warnings\n",
            "warnings.filterwarnings('ignore', 'statsmodels.tsa.arima_model.ARMA',\n",
            "                        FutureWarning)\n",
            "warnings.filterwarnings('ignore', 'statsmodels.tsa.arima_model.ARIMA',\n",
            "                        FutureWarning)\n",
            "\n",
            "  warnings.warn(ARIMA_DEPRECATION_WARN, FutureWarning)\n"
          ]
        },
        {
          "output_type": "stream",
          "name": "stdout",
          "text": [
            "                              ARMA Model Results                              \n",
            "==============================================================================\n",
            "Dep. Variable:                returns   No. Observations:                 5020\n",
            "Model:                     ARMA(7, 0)   Log Likelihood               -7886.647\n",
            "Method:                       css-mle   S.D. of innovations              1.164\n",
            "Date:                Tue, 08 Nov 2022   AIC                          15791.294\n",
            "Time:                        10:12:25   BIC                          15849.985\n",
            "Sample:                    01-10-1994   HQIC                         15811.860\n",
            "                         - 04-05-2013                                         \n",
            "=================================================================================\n",
            "                    coef    std err          z      P>|z|      [0.025      0.975]\n",
            "---------------------------------------------------------------------------------\n",
            "const             0.0189      0.014      1.399      0.162      -0.008       0.045\n",
            "ar.L1.returns    -0.0240      0.014     -1.702      0.089      -0.052       0.004\n",
            "ar.L2.returns    -0.0517      0.014     -3.663      0.000      -0.079      -0.024\n",
            "ar.L3.returns    -0.0874      0.014     -6.202      0.000      -0.115      -0.060\n",
            "ar.L4.returns     0.0433      0.014      3.064      0.002       0.016       0.071\n",
            "ar.L5.returns    -0.0601      0.014     -4.263      0.000      -0.088      -0.032\n",
            "ar.L6.returns    -0.0463      0.014     -3.282      0.001      -0.074      -0.019\n",
            "ar.L7.returns     0.0109      0.014      0.772      0.440      -0.017       0.039\n",
            "                                    Roots                                    \n",
            "=============================================================================\n",
            "                  Real          Imaginary           Modulus         Frequency\n",
            "-----------------------------------------------------------------------------\n",
            "AR.1           -1.6490           -0.5384j            1.7347           -0.4498\n",
            "AR.2           -1.6490           +0.5384j            1.7347            0.4498\n",
            "AR.3           -0.1189           -1.4954j            1.5001           -0.2626\n",
            "AR.4           -0.1189           +1.4954j            1.5001            0.2626\n",
            "AR.5            1.2790           -0.9786j            1.6105           -0.1039\n",
            "AR.6            1.2790           +0.9786j            1.6105            0.1039\n",
            "AR.7            5.2270           -0.0000j            5.2270           -0.0000\n",
            "-----------------------------------------------------------------------------\n",
            "LLR Test: 0.44\n"
          ]
        }
      ]
    },
    {
      "cell_type": "markdown",
      "source": [
        "We are realizing on the returns rather than prices because of the non-stationarity nature of the prices"
      ],
      "metadata": {
        "id": "MSWHpHcvvfwB"
      }
    },
    {
      "cell_type": "markdown",
      "source": [
        "## Normalizing Values"
      ],
      "metadata": {
        "id": "NL8gwcP3vowX"
      }
    },
    {
      "cell_type": "code",
      "source": [
        "benchmark = df.market_value.iloc[0]"
      ],
      "metadata": {
        "id": "2X2jTNUVugef"
      },
      "execution_count": 49,
      "outputs": []
    },
    {
      "cell_type": "code",
      "source": [
        "df['norm'] = df.market_value.div(benchmark).mul(100)"
      ],
      "metadata": {
        "id": "a0_3V7imwGKS"
      },
      "execution_count": 50,
      "outputs": []
    },
    {
      "cell_type": "code",
      "source": [
        "sts.adfuller(df.norm)"
      ],
      "metadata": {
        "colab": {
          "base_uri": "https://localhost:8080/"
        },
        "id": "tN7Uw38RwNXp",
        "outputId": "6bcd1f63-e6d6-4329-9a5e-9fabc801142e"
      },
      "execution_count": 51,
      "outputs": [
        {
          "output_type": "execute_result",
          "data": {
            "text/plain": [
              "(-1.892871013267235,\n",
              " 0.3354222074330072,\n",
              " 6,\n",
              " 5013,\n",
              " {'1%': -3.431655136974821,\n",
              "  '5%': -2.8621167297421373,\n",
              "  '10%': -2.567076993884522},\n",
              " 19553.90073102193)"
            ]
          },
          "metadata": {},
          "execution_count": 51
        }
      ]
    },
    {
      "cell_type": "markdown",
      "source": [
        "## Normalizing Returns"
      ],
      "metadata": {
        "id": "aMcPCr5Nwhxh"
      }
    },
    {
      "cell_type": "code",
      "source": [
        "bench_ret = df.returns.iloc[0]"
      ],
      "metadata": {
        "id": "2dXLblSbwR0w"
      },
      "execution_count": 52,
      "outputs": []
    },
    {
      "cell_type": "code",
      "source": [
        "df['norm_ret'] = df.returns.div(bench_ret).mul(100)"
      ],
      "metadata": {
        "id": "un2Q-hZCwpBb"
      },
      "execution_count": 53,
      "outputs": []
    },
    {
      "cell_type": "code",
      "source": [
        "sts.adfuller(df.norm_ret)"
      ],
      "metadata": {
        "colab": {
          "base_uri": "https://localhost:8080/"
        },
        "id": "jspJlwQVwy0l",
        "outputId": "c44fb393-32c3-4a4d-ca43-9be9234bb193"
      },
      "execution_count": 54,
      "outputs": [
        {
          "output_type": "execute_result",
          "data": {
            "text/plain": [
              "(-12.770265719497244,\n",
              " 7.798058336037938e-24,\n",
              " 32,\n",
              " 4987,\n",
              " {'1%': -3.431661944885779,\n",
              "  '5%': -2.8621197374408225,\n",
              "  '10%': -2.5670785949998973},\n",
              " 80114.49116124898)"
            ]
          },
          "metadata": {},
          "execution_count": 54
        }
      ]
    },
    {
      "cell_type": "markdown",
      "source": [
        "## AR(1) model for Normalized Returns"
      ],
      "metadata": {
        "id": "4tV7S2IPxUbH"
      }
    },
    {
      "cell_type": "code",
      "source": [
        "model_norm_ret_ar_1 = ARMA(df.norm_ret, order = (1,0))\n",
        "results_norm_ret_ar_1 = model_norm_ret_ar_1.fit()\n",
        "print(results_norm_ret_ar_1.summary())"
      ],
      "metadata": {
        "colab": {
          "base_uri": "https://localhost:8080/"
        },
        "id": "SFqI6HQPw2lf",
        "outputId": "200c5ecf-0ffc-4937-c33c-2da424804942"
      },
      "execution_count": 55,
      "outputs": [
        {
          "output_type": "stream",
          "name": "stdout",
          "text": [
            "                              ARMA Model Results                              \n",
            "==============================================================================\n",
            "Dep. Variable:               norm_ret   No. Observations:                 5020\n",
            "Model:                     ARMA(1, 0)   Log Likelihood              -40351.743\n",
            "Method:                       css-mle   S.D. of innovations            749.388\n",
            "Date:                Tue, 08 Nov 2022   AIC                          80709.487\n",
            "Time:                        10:26:08   BIC                          80729.050\n",
            "Sample:                    01-10-1994   HQIC                         80716.342\n",
            "                         - 04-05-2013                                         \n",
            "==================================================================================\n",
            "                     coef    std err          z      P>|z|      [0.025      0.975]\n",
            "----------------------------------------------------------------------------------\n",
            "const            -11.9731     10.339     -1.158      0.247     -32.237       8.291\n",
            "ar.L1.norm_ret    -0.0230      0.014     -1.631      0.103      -0.051       0.005\n",
            "                                    Roots                                    \n",
            "=============================================================================\n",
            "                  Real          Imaginary           Modulus         Frequency\n",
            "-----------------------------------------------------------------------------\n",
            "AR.1          -43.4387           +0.0000j           43.4387            0.5000\n",
            "-----------------------------------------------------------------------------\n"
          ]
        },
        {
          "output_type": "stream",
          "name": "stderr",
          "text": [
            "/usr/local/lib/python3.7/dist-packages/statsmodels/tsa/arima_model.py:472: FutureWarning: \n",
            "statsmodels.tsa.arima_model.ARMA and statsmodels.tsa.arima_model.ARIMA have\n",
            "been deprecated in favor of statsmodels.tsa.arima.model.ARIMA (note the .\n",
            "between arima and model) and\n",
            "statsmodels.tsa.SARIMAX. These will be removed after the 0.12 release.\n",
            "\n",
            "statsmodels.tsa.arima.model.ARIMA makes use of the statespace framework and\n",
            "is both well tested and maintained.\n",
            "\n",
            "To silence this warning and continue using ARMA and ARIMA until they are\n",
            "removed, use:\n",
            "\n",
            "import warnings\n",
            "warnings.filterwarnings('ignore', 'statsmodels.tsa.arima_model.ARMA',\n",
            "                        FutureWarning)\n",
            "warnings.filterwarnings('ignore', 'statsmodels.tsa.arima_model.ARIMA',\n",
            "                        FutureWarning)\n",
            "\n",
            "  warnings.warn(ARIMA_DEPRECATION_WARN, FutureWarning)\n"
          ]
        }
      ]
    },
    {
      "cell_type": "code",
      "source": [
        "model_norm_ret_ar_2 = ARMA(df.norm_ret, order = (2,0))\n",
        "results_norm_ret_ar_2 = model_norm_ret_ar_2.fit()\n",
        "print(results_norm_ret_ar_2.summary())"
      ],
      "metadata": {
        "colab": {
          "base_uri": "https://localhost:8080/"
        },
        "id": "kLk6M492xp4F",
        "outputId": "ebeb3531-8837-4108-b54f-a182d90fca4b"
      },
      "execution_count": 56,
      "outputs": [
        {
          "output_type": "stream",
          "name": "stdout",
          "text": [
            "                              ARMA Model Results                              \n",
            "==============================================================================\n",
            "Dep. Variable:               norm_ret   No. Observations:                 5020\n",
            "Model:                     ARMA(2, 0)   Log Likelihood              -40345.450\n",
            "Method:                       css-mle   S.D. of innovations            748.449\n",
            "Date:                Tue, 08 Nov 2022   AIC                          80698.901\n",
            "Time:                        10:27:17   BIC                          80724.985\n",
            "Sample:                    01-10-1994   HQIC                         80708.041\n",
            "                         - 04-05-2013                                         \n",
            "==================================================================================\n",
            "                     coef    std err          z      P>|z|      [0.025      0.975]\n",
            "----------------------------------------------------------------------------------\n",
            "const            -11.9731      9.834     -1.218      0.223     -31.247       7.301\n",
            "ar.L1.norm_ret    -0.0242      0.014     -1.716      0.086      -0.052       0.003\n",
            "ar.L2.norm_ret    -0.0500      0.014     -3.550      0.000      -0.078      -0.022\n",
            "                                    Roots                                    \n",
            "=============================================================================\n",
            "                  Real          Imaginary           Modulus         Frequency\n",
            "-----------------------------------------------------------------------------\n",
            "AR.1           -0.2417           -4.4635j            4.4701           -0.2586\n",
            "AR.2           -0.2417           +4.4635j            4.4701            0.2586\n",
            "-----------------------------------------------------------------------------\n"
          ]
        },
        {
          "output_type": "stream",
          "name": "stderr",
          "text": [
            "/usr/local/lib/python3.7/dist-packages/statsmodels/tsa/arima_model.py:472: FutureWarning: \n",
            "statsmodels.tsa.arima_model.ARMA and statsmodels.tsa.arima_model.ARIMA have\n",
            "been deprecated in favor of statsmodels.tsa.arima.model.ARIMA (note the .\n",
            "between arima and model) and\n",
            "statsmodels.tsa.SARIMAX. These will be removed after the 0.12 release.\n",
            "\n",
            "statsmodels.tsa.arima.model.ARIMA makes use of the statespace framework and\n",
            "is both well tested and maintained.\n",
            "\n",
            "To silence this warning and continue using ARMA and ARIMA until they are\n",
            "removed, use:\n",
            "\n",
            "import warnings\n",
            "warnings.filterwarnings('ignore', 'statsmodels.tsa.arima_model.ARMA',\n",
            "                        FutureWarning)\n",
            "warnings.filterwarnings('ignore', 'statsmodels.tsa.arima_model.ARIMA',\n",
            "                        FutureWarning)\n",
            "\n",
            "  warnings.warn(ARIMA_DEPRECATION_WARN, FutureWarning)\n"
          ]
        }
      ]
    },
    {
      "cell_type": "code",
      "source": [
        "model_norm_ret_ar_7 = ARMA(df.norm_ret, order = (7,0))\n",
        "results_norm_ret_ar_7 = model_norm_ret_ar_7.fit()\n",
        "print(results_norm_ret_ar_7.summary())"
      ],
      "metadata": {
        "colab": {
          "base_uri": "https://localhost:8080/"
        },
        "id": "5g7xZlX5x6ft",
        "outputId": "af5829fc-7342-473c-fb51-b9021a74cf13"
      },
      "execution_count": 57,
      "outputs": [
        {
          "output_type": "stream",
          "name": "stderr",
          "text": [
            "/usr/local/lib/python3.7/dist-packages/statsmodels/tsa/arima_model.py:472: FutureWarning: \n",
            "statsmodels.tsa.arima_model.ARMA and statsmodels.tsa.arima_model.ARIMA have\n",
            "been deprecated in favor of statsmodels.tsa.arima.model.ARIMA (note the .\n",
            "between arima and model) and\n",
            "statsmodels.tsa.SARIMAX. These will be removed after the 0.12 release.\n",
            "\n",
            "statsmodels.tsa.arima.model.ARIMA makes use of the statespace framework and\n",
            "is both well tested and maintained.\n",
            "\n",
            "To silence this warning and continue using ARMA and ARIMA until they are\n",
            "removed, use:\n",
            "\n",
            "import warnings\n",
            "warnings.filterwarnings('ignore', 'statsmodels.tsa.arima_model.ARMA',\n",
            "                        FutureWarning)\n",
            "warnings.filterwarnings('ignore', 'statsmodels.tsa.arima_model.ARIMA',\n",
            "                        FutureWarning)\n",
            "\n",
            "  warnings.warn(ARIMA_DEPRECATION_WARN, FutureWarning)\n"
          ]
        },
        {
          "output_type": "stream",
          "name": "stdout",
          "text": [
            "                              ARMA Model Results                              \n",
            "==============================================================================\n",
            "Dep. Variable:               norm_ret   No. Observations:                 5020\n",
            "Model:                     ARMA(7, 0)   Log Likelihood              -40308.642\n",
            "Method:                       css-mle   S.D. of innovations            742.977\n",
            "Date:                Tue, 08 Nov 2022   AIC                          80635.283\n",
            "Time:                        10:28:09   BIC                          80693.974\n",
            "Sample:                    01-10-1994   HQIC                         80655.849\n",
            "                         - 04-05-2013                                         \n",
            "==================================================================================\n",
            "                     coef    std err          z      P>|z|      [0.025      0.975]\n",
            "----------------------------------------------------------------------------------\n",
            "const            -11.9731      8.630     -1.387      0.165     -28.887       4.941\n",
            "ar.L1.norm_ret    -0.0240      0.014     -1.702      0.089      -0.052       0.004\n",
            "ar.L2.norm_ret    -0.0517      0.014     -3.663      0.000      -0.079      -0.024\n",
            "ar.L3.norm_ret    -0.0874      0.014     -6.202      0.000      -0.115      -0.060\n",
            "ar.L4.norm_ret     0.0433      0.014      3.064      0.002       0.016       0.071\n",
            "ar.L5.norm_ret    -0.0601      0.014     -4.263      0.000      -0.088      -0.032\n",
            "ar.L6.norm_ret    -0.0463      0.014     -3.282      0.001      -0.074      -0.019\n",
            "ar.L7.norm_ret     0.0109      0.014      0.772      0.440      -0.017       0.039\n",
            "                                    Roots                                    \n",
            "=============================================================================\n",
            "                  Real          Imaginary           Modulus         Frequency\n",
            "-----------------------------------------------------------------------------\n",
            "AR.1           -1.6490           -0.5384j            1.7347           -0.4498\n",
            "AR.2           -1.6490           +0.5384j            1.7347            0.4498\n",
            "AR.3           -0.1189           -1.4954j            1.5001           -0.2626\n",
            "AR.4           -0.1189           +1.4954j            1.5001            0.2626\n",
            "AR.5            1.2790           -0.9786j            1.6105           -0.1039\n",
            "AR.6            1.2790           +0.9786j            1.6105            0.1039\n",
            "AR.7            5.2269           -0.0000j            5.2269           -0.0000\n",
            "-----------------------------------------------------------------------------\n"
          ]
        }
      ]
    },
    {
      "cell_type": "markdown",
      "source": [
        "## Analysing the Residuals"
      ],
      "metadata": {
        "id": "FpWBe2ebyqcu"
      }
    },
    {
      "cell_type": "code",
      "source": [
        "df['res_price'] = results_ar_7.resid"
      ],
      "metadata": {
        "id": "-n-psbwQyHEs"
      },
      "execution_count": 58,
      "outputs": []
    },
    {
      "cell_type": "code",
      "source": [
        "df.res_price.mean()"
      ],
      "metadata": {
        "colab": {
          "base_uri": "https://localhost:8080/"
        },
        "id": "v72g6vlwy_ed",
        "outputId": "4220c651-646a-4e11-f6ba-79ed02bf96f7"
      },
      "execution_count": 59,
      "outputs": [
        {
          "output_type": "execute_result",
          "data": {
            "text/plain": [
              "0.6797376418423323"
            ]
          },
          "metadata": {},
          "execution_count": 59
        }
      ]
    },
    {
      "cell_type": "code",
      "source": [
        "df.res_price.var()"
      ],
      "metadata": {
        "colab": {
          "base_uri": "https://localhost:8080/"
        },
        "id": "DlHk77JSzCQ4",
        "outputId": "fc467e90-5357-4326-aad0-da1f1846d433"
      },
      "execution_count": 60,
      "outputs": [
        {
          "output_type": "execute_result",
          "data": {
            "text/plain": [
              "3468.125822986878"
            ]
          },
          "metadata": {},
          "execution_count": 60
        }
      ]
    },
    {
      "cell_type": "code",
      "source": [
        "sts.adfuller(df.res_price)"
      ],
      "metadata": {
        "colab": {
          "base_uri": "https://localhost:8080/"
        },
        "id": "WL5DuXTBzSnc",
        "outputId": "31bc9b16-db71-418b-874e-dbff3648ed50"
      },
      "execution_count": 61,
      "outputs": [
        {
          "output_type": "execute_result",
          "data": {
            "text/plain": [
              "(-70.81715900382693,\n",
              " 0.0,\n",
              " 0,\n",
              " 5019,\n",
              " {'1%': -3.4316535759402753,\n",
              "  '5%': -2.8621160400844468,\n",
              "  '10%': -2.567076626752987},\n",
              " 54832.41973918653)"
            ]
          },
          "metadata": {},
          "execution_count": 61
        }
      ]
    },
    {
      "cell_type": "code",
      "source": [
        "sgt.plot_acf(df.res_price, lags = 40, zero= False)\n",
        "plt.title(\"ACF of Residuals for Prices\",size=24)\n",
        "plt.show()"
      ],
      "metadata": {
        "colab": {
          "base_uri": "https://localhost:8080/",
          "height": 293
        },
        "id": "XTQ7d7ZMzaQT",
        "outputId": "93cf2ee8-1156-4024-d64a-63d1790473e7"
      },
      "execution_count": 62,
      "outputs": [
        {
          "output_type": "display_data",
          "data": {
            "text/plain": [
              "<Figure size 432x288 with 1 Axes>"
            ],
            "image/png": "[encoded data removed]"
          },
          "metadata": {}
        }
      ]
    },
    {
      "cell_type": "code",
      "source": [
        "df.res_price[1:].plot(figsize=(20,5))\n",
        "plt.title(\"Residuals of Prices\", size=24)\n",
        "plt.show()"
      ],
      "metadata": {
        "colab": {
          "base_uri": "https://localhost:8080/",
          "height": 364
        },
        "id": "WCUbnc7VzveJ",
        "outputId": "c94bdbe3-ee48-44cd-8c40-8aa106f1e5a8"
      },
      "execution_count": 63,
      "outputs": [
        {
          "output_type": "display_data",
          "data": {
            "text/plain": [
              "<Figure size 1440x360 with 1 Axes>"
            ],
            "image/png": "[encoded data removed]"
          },
          "metadata": {}
        }
      ]
    },
    {
      "cell_type": "code",
      "source": [
        "df['res_ret'] = results_ret_ar_6.resid"
      ],
      "metadata": {
        "id": "dQuKQe2a0ISX"
      },
      "execution_count": 64,
      "outputs": []
    },
    {
      "cell_type": "code",
      "source": [
        "df.res_ret.mean()"
      ],
      "metadata": {
        "colab": {
          "base_uri": "https://localhost:8080/"
        },
        "id": "UbnvmgM40cB-",
        "outputId": "d1656d81-5a4f-4af5-f2ca-208e0b72626b"
      },
      "execution_count": 65,
      "outputs": [
        {
          "output_type": "execute_result",
          "data": {
            "text/plain": [
              "-5.373184077997254e-05"
            ]
          },
          "metadata": {},
          "execution_count": 65
        }
      ]
    },
    {
      "cell_type": "code",
      "source": [
        "df.res_ret.var()"
      ],
      "metadata": {
        "colab": {
          "base_uri": "https://localhost:8080/"
        },
        "id": "8dcpBTEc0f8e",
        "outputId": "4bd90719-ca1a-4798-b438-69063040428d"
      },
      "execution_count": 66,
      "outputs": [
        {
          "output_type": "execute_result",
          "data": {
            "text/plain": [
              "1.3559802110702988"
            ]
          },
          "metadata": {},
          "execution_count": 66
        }
      ]
    },
    {
      "cell_type": "code",
      "source": [
        "sts.adfuller(df.res_ret)"
      ],
      "metadata": {
        "colab": {
          "base_uri": "https://localhost:8080/"
        },
        "id": "mheMgFR30h5J",
        "outputId": "1c8089c8-834d-4e6e-966b-32a5504582c7"
      },
      "execution_count": 67,
      "outputs": [
        {
          "output_type": "execute_result",
          "data": {
            "text/plain": [
              "(-70.783800369195,\n",
              " 0.0,\n",
              " 0,\n",
              " 5019,\n",
              " {'1%': -3.4316535759402753,\n",
              "  '5%': -2.8621160400844468,\n",
              "  '10%': -2.567076626752987},\n",
              " 15692.570834096634)"
            ]
          },
          "metadata": {},
          "execution_count": 67
        }
      ]
    },
    {
      "cell_type": "code",
      "source": [
        "sgt.plot_acf(df.res_ret, lags = 40, zero= False)\n",
        "plt.title(\"ACF of Residuals for Returns\",size=24)\n",
        "plt.show()"
      ],
      "metadata": {
        "colab": {
          "base_uri": "https://localhost:8080/",
          "height": 293
        },
        "id": "golVeyul0qJw",
        "outputId": "47e06af0-c9cb-403a-8865-f768e2e9f0e6"
      },
      "execution_count": 68,
      "outputs": [
        {
          "output_type": "display_data",
          "data": {
            "text/plain": [
              "<Figure size 432x288 with 1 Axes>"
            ],
            "image/png": "[encoded data removed]"
          },
          "metadata": {}
        }
      ]
    },
    {
      "cell_type": "code",
      "source": [
        "df.res_ret[1:].plot(figsize=(20,5))\n",
        "plt.title(\"Residuals of Returns\", size=24)\n",
        "plt.show()"
      ],
      "metadata": {
        "colab": {
          "base_uri": "https://localhost:8080/",
          "height": 364
        },
        "id": "REdv03KN00BE",
        "outputId": "5a73c6ed-b05b-48e9-c3e0-a5e119fd058f"
      },
      "execution_count": 69,
      "outputs": [
        {
          "output_type": "display_data",
          "data": {
            "text/plain": [
              "<Figure size 1440x360 with 1 Axes>"
            ],
            "image/png": "[encoded data removed]"
          },
          "metadata": {}
        }
      ]
    },
    {
      "cell_type": "code",
      "source": [],
      "metadata": {
        "id": "EXDaRaQl07Du"
      },
      "execution_count": null,
      "outputs": []
    }
  ]
}