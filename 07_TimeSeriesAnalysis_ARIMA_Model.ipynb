{
  "nbformat": 4,
  "nbformat_minor": 0,
  "metadata": {
    "colab": {
      "provenance": []
    },
    "kernelspec": {
      "name": "python3",
      "display_name": "Python 3"
    },
    "language_info": {
      "name": "python"
    }
  },
  "cells": [
    {
      "cell_type": "markdown",
      "source": [
        "## Importing the relevant packages"
      ],
      "metadata": {
        "id": "_s5VRPnwadVW"
      }
    },
    {
      "cell_type": "code",
      "execution_count": 1,
      "metadata": {
        "id": "pYZPQeCaaXnG"
      },
      "outputs": [],
      "source": [
        "import pandas as pd\n",
        "import numpy as np\n",
        "import matplotlib.pyplot as plt\n",
        "import statsmodels.graphics.tsaplots as sgt\n",
        "import statsmodels.tsa.stattools as sts\n",
        "from statsmodels.tsa.arima_model import ARIMA\n",
        "from scipy.stats.distributions import chi2\n",
        "import seaborn as sns\n",
        "import warnings\n",
        "warnings.filterwarnings(\"ignore\")\n",
        "sns.set()"
      ]
    },
    {
      "cell_type": "markdown",
      "source": [
        "## Importing the Data and Preprocessing"
      ],
      "metadata": {
        "id": "quA-kHVJjRUv"
      }
    },
    {
      "cell_type": "code",
      "source": [
        "raw_csv_data = pd.read_csv(\"/content/Index2018.csv\")\n",
        "df_comp = raw_csv_data.copy()\n",
        "df_comp.date = pd.to_datetime(df_comp.date, dayfirst = True)\n",
        "df_comp.set_index(\"date\",inplace=True)\n",
        "df_comp = df_comp.asfreq(\"b\")\n",
        "df_comp = df_comp.fillna(method=\"ffill\")"
      ],
      "metadata": {
        "id": "cesSo2JQaf7r"
      },
      "execution_count": 2,
      "outputs": []
    },
    {
      "cell_type": "code",
      "source": [
        "df_comp['market_value'] = df_comp.ftse"
      ],
      "metadata": {
        "id": "9GQlgi_bapqU"
      },
      "execution_count": 3,
      "outputs": []
    },
    {
      "cell_type": "code",
      "source": [
        "df_comp.head()"
      ],
      "metadata": {
        "colab": {
          "base_uri": "https://localhost:8080/",
          "height": 237
        },
        "id": "yGpfxibgaroH",
        "outputId": "f2a9c275-e0a0-4108-e643-dd3c73f2110f"
      },
      "execution_count": 4,
      "outputs": [
        {
          "output_type": "execute_result",
          "data": {
            "text/plain": [
              "               spx      dax     ftse    nikkei  market_value\n",
              "date                                                        \n",
              "1994-01-07  469.90  2224.95  3445.98  18124.01       3445.98\n",
              "1994-01-10  475.27  2225.00  3440.58  18443.44       3440.58\n",
              "1994-01-11  474.13  2228.10  3413.77  18485.25       3413.77\n",
              "1994-01-12  474.17  2182.06  3372.02  18793.88       3372.02\n",
              "1994-01-13  472.47  2142.37  3360.01  18577.26       3360.01"
            ],
            "text/html": [
              "\n",
              "  <div id=\"df-c8f5623e-5b78-43bb-ae44-43278ebac621\">\n",
              "    <div class=\"colab-df-container\">\n",
              "      <div>\n",
              "<style scoped>\n",
              "    .dataframe tbody tr th:only-of-type {\n",
              "        vertical-align: middle;\n",
              "    }\n",
              "\n",
              "    .dataframe tbody tr th {\n",
              "        vertical-align: top;\n",
              "    }\n",
              "\n",
              "    .dataframe thead th {\n",
              "        text-align: right;\n",
              "    }\n",
              "</style>\n",
              "<table border=\"1\" class=\"dataframe\">\n",
              "  <thead>\n",
              "    <tr style=\"text-align: right;\">\n",
              "      <th></th>\n",
              "      <th>spx</th>\n",
              "      <th>dax</th>\n",
              "      <th>ftse</th>\n",
              "      <th>nikkei</th>\n",
              "      <th>market_value</th>\n",
              "    </tr>\n",
              "    <tr>\n",
              "      <th>date</th>\n",
              "      <th></th>\n",
              "      <th></th>\n",
              "      <th></th>\n",
              "      <th></th>\n",
              "      <th></th>\n",
              "    </tr>\n",
              "  </thead>\n",
              "  <tbody>\n",
              "    <tr>\n",
              "      <th>1994-01-07</th>\n",
              "      <td>469.90</td>\n",
              "      <td>2224.95</td>\n",
              "      <td>3445.98</td>\n",
              "      <td>18124.01</td>\n",
              "      <td>3445.98</td>\n",
              "    </tr>\n",
              "    <tr>\n",
              "      <th>1994-01-10</th>\n",
              "      <td>475.27</td>\n",
              "      <td>2225.00</td>\n",
              "      <td>3440.58</td>\n",
              "      <td>18443.44</td>\n",
              "      <td>3440.58</td>\n",
              "    </tr>\n",
              "    <tr>\n",
              "      <th>1994-01-11</th>\n",
              "      <td>474.13</td>\n",
              "      <td>2228.10</td>\n",
              "      <td>3413.77</td>\n",
              "      <td>18485.25</td>\n",
              "      <td>3413.77</td>\n",
              "    </tr>\n",
              "    <tr>\n",
              "      <th>1994-01-12</th>\n",
              "      <td>474.17</td>\n",
              "      <td>2182.06</td>\n",
              "      <td>3372.02</td>\n",
              "      <td>18793.88</td>\n",
              "      <td>3372.02</td>\n",
              "    </tr>\n",
              "    <tr>\n",
              "      <th>1994-01-13</th>\n",
              "      <td>472.47</td>\n",
              "      <td>2142.37</td>\n",
              "      <td>3360.01</td>\n",
              "      <td>18577.26</td>\n",
              "      <td>3360.01</td>\n",
              "    </tr>\n",
              "  </tbody>\n",
              "</table>\n",
              "</div>\n",
              "      <button class=\"colab-df-convert\" onclick=\"convertToInteractive('df-c8f5623e-5b78-43bb-ae44-43278ebac621')\"\n",
              "              title=\"Convert this dataframe to an interactive table.\"\n",
              "              style=\"display:none;\">\n",
              "        \n",
              "  <svg xmlns=\"http://www.w3.org/2000/svg\" height=\"24px\"viewBox=\"0 0 24 24\"\n",
              "       width=\"24px\">\n",
              "    <path d=\"M0 0h24v24H0V0z\" fill=\"none\"/>\n",
              "    <path d=\"M18.56 5.44l.94 2.06.94-2.06 2.06-.94-2.06-.94-.94-2.06-.94 2.06-2.06.94zm-11 1L8.5 8.5l.94-2.06 2.06-.94-2.06-.94L8.5 2.5l-.94 2.06-2.06.94zm10 10l.94 2.06.94-2.06 2.06-.94-2.06-.94-.94-2.06-.94 2.06-2.06.94z\"/><path d=\"M17.41 7.96l-1.37-1.37c-.4-.4-.92-.59-1.43-.59-.52 0-1.04.2-1.43.59L10.3 9.45l-7.72 7.72c-.78.78-.78 2.05 0 2.83L4 21.41c.39.39.9.59 1.41.59.51 0 1.02-.2 1.41-.59l7.78-7.78 2.81-2.81c.8-.78.8-2.07 0-2.86zM5.41 20L4 18.59l7.72-7.72 1.47 1.35L5.41 20z\"/>\n",
              "  </svg>\n",
              "      </button>\n",
              "      \n",
              "  <style>\n",
              "    .colab-df-container {\n",
              "      display:flex;\n",
              "      flex-wrap:wrap;\n",
              "      gap: 12px;\n",
              "    }\n",
              "\n",
              "    .colab-df-convert {\n",
              "      background-color: #E8F0FE;\n",
              "      border: none;\n",
              "      border-radius: 50%;\n",
              "      cursor: pointer;\n",
              "      display: none;\n",
              "      fill: #1967D2;\n",
              "      height: 32px;\n",
              "      padding: 0 0 0 0;\n",
              "      width: 32px;\n",
              "    }\n",
              "\n",
              "    .colab-df-convert:hover {\n",
              "      background-color: #E2EBFA;\n",
              "      box-shadow: 0px 1px 2px rgba(60, 64, 67, 0.3), 0px 1px 3px 1px rgba(60, 64, 67, 0.15);\n",
              "      fill: #174EA6;\n",
              "    }\n",
              "\n",
              "    [theme=dark] .colab-df-convert {\n",
              "      background-color: #3B4455;\n",
              "      fill: #D2E3FC;\n",
              "    }\n",
              "\n",
              "    [theme=dark] .colab-df-convert:hover {\n",
              "      background-color: #434B5C;\n",
              "      box-shadow: 0px 1px 3px 1px rgba(0, 0, 0, 0.15);\n",
              "      filter: drop-shadow(0px 1px 2px rgba(0, 0, 0, 0.3));\n",
              "      fill: #FFFFFF;\n",
              "    }\n",
              "  </style>\n",
              "\n",
              "      <script>\n",
              "        const buttonEl =\n",
              "          document.querySelector('#df-c8f5623e-5b78-43bb-ae44-43278ebac621 button.colab-df-convert');\n",
              "        buttonEl.style.display =\n",
              "          google.colab.kernel.accessAllowed ? 'block' : 'none';\n",
              "\n",
              "        async function convertToInteractive(key) {\n",
              "          const element = document.querySelector('#df-c8f5623e-5b78-43bb-ae44-43278ebac621');\n",
              "          const dataTable =\n",
              "            await google.colab.kernel.invokeFunction('convertToInteractive',\n",
              "                                                     [key], {});\n",
              "          if (!dataTable) return;\n",
              "\n",
              "          const docLinkHtml = 'Like what you see? Visit the ' +\n",
              "            '<a target=\"_blank\" href=https://colab.research.google.com/notebooks/data_table.ipynb>data table notebook</a>'\n",
              "            + ' to learn more about interactive tables.';\n",
              "          element.innerHTML = '';\n",
              "          dataTable['output_type'] = 'display_data';\n",
              "          await google.colab.output.renderOutput(dataTable, element);\n",
              "          const docLink = document.createElement('div');\n",
              "          docLink.innerHTML = docLinkHtml;\n",
              "          element.appendChild(docLink);\n",
              "        }\n",
              "      </script>\n",
              "    </div>\n",
              "  </div>\n",
              "  "
            ]
          },
          "metadata": {},
          "execution_count": 4
        }
      ]
    },
    {
      "cell_type": "code",
      "source": [
        "#del df_comp[\"spx\"]\n",
        "del df_comp[\"dax\"]\n",
        "del df_comp[\"ftse\"]\n",
        "del df_comp[\"nikkei\"]\n",
        "size = int(len(df_comp)*0.80)\n",
        "df,df_test = df_comp.iloc[:size],df_comp.iloc[size:]"
      ],
      "metadata": {
        "id": "L5vrUNV9atRk"
      },
      "execution_count": 5,
      "outputs": []
    },
    {
      "cell_type": "markdown",
      "source": [
        "## LLR Test"
      ],
      "metadata": {
        "id": "Q0Y9Bg3Kaxqr"
      }
    },
    {
      "cell_type": "code",
      "source": [
        "def LLR_test(mod_1,mod_2,DF=1):\n",
        "  L1 = mod_1.fit(start_ar_lags = 11).llf\n",
        "  L2 = mod_2.fit(start_ar_lags = 11).llf\n",
        "  LR = (2*(L2-L1))\n",
        "  p = chi2.sf(LR,DF).round(3)\n",
        "  return p"
      ],
      "metadata": {
        "id": "V_xXOasCavZL"
      },
      "execution_count": 6,
      "outputs": []
    },
    {
      "cell_type": "markdown",
      "source": [
        "## Creating Returns"
      ],
      "metadata": {
        "id": "Xl_goQeOj3_G"
      }
    },
    {
      "cell_type": "code",
      "source": [
        "df['returns'] =  df.market_value.pct_change(1)*100"
      ],
      "metadata": {
        "id": "yW7aXoqNaz7P"
      },
      "execution_count": 7,
      "outputs": []
    },
    {
      "cell_type": "markdown",
      "source": [
        "## ARIMA(1,1,1)"
      ],
      "metadata": {
        "id": "lRmWb1xCkFcu"
      }
    },
    {
      "cell_type": "code",
      "source": [
        "model_ar_1_i_1_ma_1 = ARIMA(df.market_value, order=(1,1,1))\n",
        "results_ar_1_i_1_ma_1 = model_ar_1_i_1_ma_1.fit()\n",
        "print(results_ar_1_i_1_ma_1.summary())"
      ],
      "metadata": {
        "colab": {
          "base_uri": "https://localhost:8080/"
        },
        "id": "T_HtIcwbkD1l",
        "outputId": "aa8aa981-a691-4be0-a37d-f83664d5cd75"
      },
      "execution_count": 8,
      "outputs": [
        {
          "output_type": "stream",
          "name": "stdout",
          "text": [
            "                             ARIMA Model Results                              \n",
            "==============================================================================\n",
            "Dep. Variable:         D.market_value   No. Observations:                 5020\n",
            "Model:                 ARIMA(1, 1, 1)   Log Likelihood              -27603.666\n",
            "Method:                       css-mle   S.D. of innovations             59.134\n",
            "Date:                Mon, 14 Nov 2022   AIC                          55215.333\n",
            "Time:                        09:27:13   BIC                          55241.418\n",
            "Sample:                    01-10-1994   HQIC                         55224.473\n",
            "                         - 04-05-2013                                         \n",
            "========================================================================================\n",
            "                           coef    std err          z      P>|z|      [0.025      0.975]\n",
            "----------------------------------------------------------------------------------------\n",
            "const                    0.5655      0.682      0.829      0.407      -0.772       1.903\n",
            "ar.L1.D.market_value     0.7475      0.070     10.652      0.000       0.610       0.885\n",
            "ma.L1.D.market_value    -0.7936      0.064    -12.378      0.000      -0.919      -0.668\n",
            "                                    Roots                                    \n",
            "=============================================================================\n",
            "                  Real          Imaginary           Modulus         Frequency\n",
            "-----------------------------------------------------------------------------\n",
            "AR.1            1.3378           +0.0000j            1.3378            0.0000\n",
            "MA.1            1.2601           +0.0000j            1.2601            0.0000\n",
            "-----------------------------------------------------------------------------\n"
          ]
        }
      ]
    },
    {
      "cell_type": "markdown",
      "source": [
        "## Residuals of the ARIMA(1,1,1)"
      ],
      "metadata": {
        "id": "f6fSiuZ_mW4H"
      }
    },
    {
      "cell_type": "code",
      "source": [
        "df['results_ar_1_i_1_ma_1'] = results_ar_1_i_1_ma_1.resid\n",
        "sgt.plot_acf(df.results_ar_1_i_1_ma_1[1:], lags = 40, zero= False)\n",
        "plt.title(\"ACF of Residuals for ARIMA(1,1,1)\",size=24)\n",
        "plt.show()"
      ],
      "metadata": {
        "colab": {
          "base_uri": "https://localhost:8080/",
          "height": 293
        },
        "id": "AOoQ3LvQkjLo",
        "outputId": "32ce4669-23bf-4f0b-ce5f-d00608c175af"
      },
      "execution_count": 9,
      "outputs": [
        {
          "output_type": "display_data",
          "data": {
            "text/plain": [
              "<Figure size 432x288 with 1 Axes>"
            ],
            "image/png": "[encoded data removed]"
          },
          "metadata": {}
        }
      ]
    },
    {
      "cell_type": "markdown",
      "source": [
        "Higher-lag ARIMA Model"
      ],
      "metadata": {
        "id": "riPtOIxkoSLQ"
      }
    },
    {
      "cell_type": "code",
      "source": [
        "model_ar_1_i_1_ma_2 = ARIMA(df.market_value, order=(1,1,2))\n",
        "results_ar_1_i_1_ma_2 = model_ar_1_i_1_ma_2.fit()\n",
        "\n",
        "model_ar_1_i_1_ma_3 = ARIMA(df.market_value, order=(1,1,3))\n",
        "results_ar_1_i_1_ma_3 = model_ar_1_i_1_ma_3.fit()\n",
        "\n",
        "model_ar_2_i_1_ma_1 = ARIMA(df.market_value, order=(2,1,1))\n",
        "results_ar_2_i_1_ma_1 = model_ar_2_i_1_ma_1.fit()\n",
        "\n",
        "model_ar_3_i_1_ma_1 = ARIMA(df.market_value, order=(3,1,1))\n",
        "results_ar_3_i_1_ma_1 = model_ar_3_i_1_ma_1.fit()\n",
        "\n",
        "model_ar_3_i_1_ma_2 = ARIMA(df.market_value, order=(3,1,2))\n",
        "results_ar_3_i_1_ma_2 = model_ar_3_i_1_ma_2.fit(start_ar_lags = 5)\n",
        "\n"
      ],
      "metadata": {
        "id": "Lz6dUVhCm1La"
      },
      "execution_count": 10,
      "outputs": []
    },
    {
      "cell_type": "code",
      "source": [
        "print(\"\\n ARMA(1,1,1): \\tLL = \", results_ar_1_i_1_ma_1.llf,\"\\tAIC = \", results_ar_1_i_1_ma_1.aic)\n",
        "\n",
        "print(\"\\n ARMA(1,1,2): \\tLL = \", results_ar_1_i_1_ma_2.llf,\"\\tAIC = \", results_ar_1_i_1_ma_2.aic)\n",
        "\n",
        "print(\"\\n ARMA(1,1,3): \\tLL = \", results_ar_1_i_1_ma_3.llf,\"\\tAIC = \", results_ar_1_i_1_ma_3.aic)\n",
        "\n",
        "print(\"\\n ARMA(2,1,1): \\tLL = \", results_ar_2_i_1_ma_1.llf,\"\\tAIC = \", results_ar_2_i_1_ma_1.aic)\n",
        "\n",
        "print(\"\\n ARMA(3,1,1): \\tLL = \", results_ar_3_i_1_ma_1.llf,\"\\tAIC = \", results_ar_3_i_1_ma_1.aic)\n",
        "\n",
        "print(\"\\n ARMA(3,1,2): \\tLL = \", results_ar_3_i_1_ma_2.llf,\"\\tAIC = \", results_ar_3_i_1_ma_2.aic)\n",
        "\n"
      ],
      "metadata": {
        "colab": {
          "base_uri": "https://localhost:8080/"
        },
        "id": "1RbBMN5Tp80r",
        "outputId": "e632584c-2c4c-4d2a-f05c-3989742916ba"
      },
      "execution_count": 11,
      "outputs": [
        {
          "output_type": "stream",
          "name": "stdout",
          "text": [
            "\n",
            " ARMA(1,1,1): \tLL =  -27603.666412774845 \tAIC =  55215.33282554969\n",
            "\n",
            " ARMA(1,1,2): \tLL =  -27600.081863139967 \tAIC =  55210.163726279934\n",
            "\n",
            " ARMA(1,1,3): \tLL =  -27590.424032545823 \tAIC =  55192.848065091646\n",
            "\n",
            " ARMA(2,1,1): \tLL =  -27599.80748784872 \tAIC =  55209.61497569744\n",
            "\n",
            " ARMA(3,1,1): \tLL =  -27592.05537170885 \tAIC =  55196.1107434177\n",
            "\n",
            " ARMA(3,1,2): \tLL =  -27590.660808987082 \tAIC =  55195.321617974165\n"
          ]
        }
      ]
    },
    {
      "cell_type": "code",
      "source": [
        "print(\"\\nLLR Test p-value \" + str(LLR_test(model_ar_1_i_1_ma_2,model_ar_1_i_1_ma_3)))"
      ],
      "metadata": {
        "colab": {
          "base_uri": "https://localhost:8080/"
        },
        "id": "oChNh5RCqlS8",
        "outputId": "ce591d75-44d2-46a4-81b8-43eac4a1012b"
      },
      "execution_count": 12,
      "outputs": [
        {
          "output_type": "stream",
          "name": "stdout",
          "text": [
            "\n",
            "LLR Test p-value 0.0\n"
          ]
        }
      ]
    },
    {
      "cell_type": "code",
      "source": [
        "print(\"\\nLLR Test p-value \" + str(LLR_test(model_ar_1_i_1_ma_1,model_ar_1_i_1_ma_3)))"
      ],
      "metadata": {
        "colab": {
          "base_uri": "https://localhost:8080/"
        },
        "id": "yBDFmwLHq4rI",
        "outputId": "356175f0-d0b3-4b14-91e9-30acc76cb2da"
      },
      "execution_count": 13,
      "outputs": [
        {
          "output_type": "stream",
          "name": "stdout",
          "text": [
            "\n",
            "LLR Test p-value 0.0\n"
          ]
        }
      ]
    },
    {
      "cell_type": "code",
      "source": [
        "df['results_ar_1_i_1_ma_3'] = results_ar_1_i_1_ma_3.resid.iloc[:]\n",
        "sgt.plot_acf(df.results_ar_1_i_1_ma_3[1:], lags = 40, zero= False)\n",
        "plt.title(\"ACF of Residuals for ARIMA(1,1,3)\",size=24)\n",
        "plt.show()"
      ],
      "metadata": {
        "colab": {
          "base_uri": "https://localhost:8080/",
          "height": 293
        },
        "id": "iINmH0-STixw",
        "outputId": "8ebf567c-b2f2-40c7-8516-8c928b0a9dfb"
      },
      "execution_count": 14,
      "outputs": [
        {
          "output_type": "display_data",
          "data": {
            "text/plain": [
              "<Figure size 432x288 with 1 Axes>"
            ],
            "image/png": "[encoded data removed]"
          },
          "metadata": {}
        }
      ]
    },
    {
      "cell_type": "code",
      "source": [
        "model_ar_5_i_1_ma_1 = ARIMA(df.market_value, order=(5,1,1))\n",
        "results_ar_5_i_1_ma_1 = model_ar_5_i_1_ma_1.fit(start_ar_lags = 11)\n",
        "\n",
        "model_ar_6_i_1_ma_3 = ARIMA(df.market_value, order=(6,1,3))\n",
        "results_ar_6_i_1_ma_3 = model_ar_6_i_1_ma_3.fit(start_ar_lags = 11)\n"
      ],
      "metadata": {
        "id": "Dd9S1S9DUCTy"
      },
      "execution_count": 15,
      "outputs": []
    },
    {
      "cell_type": "code",
      "source": [
        "print(\"\\n ARMA(1,1,3): \\tLL = \", results_ar_1_i_1_ma_3.llf,\"\\tAIC = \", results_ar_1_i_1_ma_3.aic)\n",
        "print(\"\\n ARMA(5,1,1): \\tLL = \", results_ar_5_i_1_ma_1.llf,\"\\tAIC = \", results_ar_5_i_1_ma_1.aic)\n",
        "print(\"\\n ARMA(6,1,3): \\tLL = \", results_ar_6_i_1_ma_3.llf,\"\\tAIC = \", results_ar_6_i_1_ma_3.aic)"
      ],
      "metadata": {
        "colab": {
          "base_uri": "https://localhost:8080/"
        },
        "id": "Q6YHaTo1WSYg",
        "outputId": "79a571e3-e7f1-43c0-a4e2-8d8b1c867358"
      },
      "execution_count": 16,
      "outputs": [
        {
          "output_type": "stream",
          "name": "stdout",
          "text": [
            "\n",
            " ARMA(1,1,3): \tLL =  -27590.424032545823 \tAIC =  55192.848065091646\n",
            "\n",
            " ARMA(5,1,1): \tLL =  -27586.51188812616 \tAIC =  55189.02377625232\n",
            "\n",
            " ARMA(6,1,3): \tLL =  -27583.565320399106 \tAIC =  55189.13064079821\n"
          ]
        }
      ]
    },
    {
      "cell_type": "code",
      "source": [
        "print(\"\\nLLR Test p-value \" + str(LLR_test(model_ar_1_i_1_ma_3,model_ar_6_i_1_ma_3, DF=5)))"
      ],
      "metadata": {
        "colab": {
          "base_uri": "https://localhost:8080/"
        },
        "id": "e38OTvQBWi3A",
        "outputId": "de265a49-c7c0-4af0-9059-1be0473a9122"
      },
      "execution_count": 17,
      "outputs": [
        {
          "output_type": "stream",
          "name": "stdout",
          "text": [
            "\n",
            "LLR Test p-value 0.018\n"
          ]
        }
      ]
    },
    {
      "cell_type": "code",
      "source": [
        "print(\"\\nLLR Test p-value \" + str(LLR_test(model_ar_5_i_1_ma_1,model_ar_6_i_1_ma_3, DF=3)))"
      ],
      "metadata": {
        "colab": {
          "base_uri": "https://localhost:8080/"
        },
        "id": "vQq8eX0TW178",
        "outputId": "f394d67f-0bdc-4930-d299-637ba2e9a0a3"
      },
      "execution_count": 18,
      "outputs": [
        {
          "output_type": "stream",
          "name": "stdout",
          "text": [
            "\n",
            "LLR Test p-value 0.117\n"
          ]
        }
      ]
    },
    {
      "cell_type": "code",
      "source": [
        "df['results_ar_5_i_1_ma_1'] = results_ar_5_i_1_ma_1.resid\n",
        "sgt.plot_acf(df.results_ar_5_i_1_ma_1[1:], lags = 40, zero= False)\n",
        "plt.title(\"ACF of Residuals for ARIMA(5,1,1)\",size=24)\n",
        "plt.show()"
      ],
      "metadata": {
        "colab": {
          "base_uri": "https://localhost:8080/",
          "height": 293
        },
        "id": "jEjE832wXYd1",
        "outputId": "761a20e8-bc2c-453d-f785-49a92a687b60"
      },
      "execution_count": 19,
      "outputs": [
        {
          "output_type": "display_data",
          "data": {
            "text/plain": [
              "<Figure size 432x288 with 1 Axes>"
            ],
            "image/png": "[encoded data removed]"
          },
          "metadata": {}
        }
      ]
    },
    {
      "cell_type": "code",
      "source": [
        "print(results_ar_5_i_1_ma_1.summary())"
      ],
      "metadata": {
        "colab": {
          "base_uri": "https://localhost:8080/"
        },
        "id": "qL_MQkaLX2yI",
        "outputId": "e93fca50-11de-4a94-b16d-a14f587d086c"
      },
      "execution_count": 20,
      "outputs": [
        {
          "output_type": "stream",
          "name": "stdout",
          "text": [
            "                             ARIMA Model Results                              \n",
            "==============================================================================\n",
            "Dep. Variable:         D.market_value   No. Observations:                 5020\n",
            "Model:                 ARIMA(5, 1, 1)   Log Likelihood              -27586.512\n",
            "Method:                       css-mle   S.D. of innovations             58.932\n",
            "Date:                Mon, 14 Nov 2022   AIC                          55189.024\n",
            "Time:                        09:27:55   BIC                          55241.193\n",
            "Sample:                    01-10-1994   HQIC                         55207.305\n",
            "                         - 04-05-2013                                         \n",
            "========================================================================================\n",
            "                           coef    std err          z      P>|z|      [0.025      0.975]\n",
            "----------------------------------------------------------------------------------------\n",
            "const                    0.5662      0.690      0.820      0.412      -0.787       1.919\n",
            "ar.L1.D.market_value     0.4011      0.159      2.530      0.011       0.090       0.712\n",
            "ar.L2.D.market_value    -0.0445      0.016     -2.856      0.004      -0.075      -0.014\n",
            "ar.L3.D.market_value    -0.0543      0.017     -3.163      0.002      -0.088      -0.021\n",
            "ar.L4.D.market_value     0.0586      0.019      3.069      0.002       0.021       0.096\n",
            "ar.L5.D.market_value    -0.0581      0.014     -4.118      0.000      -0.086      -0.030\n",
            "ma.L1.D.market_value    -0.4214      0.158     -2.659      0.008      -0.732      -0.111\n",
            "                                    Roots                                    \n",
            "=============================================================================\n",
            "                  Real          Imaginary           Modulus         Frequency\n",
            "-----------------------------------------------------------------------------\n",
            "AR.1           -1.7609           -0.0000j            1.7609           -0.5000\n",
            "AR.2            1.4633           -0.8605j            1.6975           -0.0846\n",
            "AR.3            1.4633           +0.8605j            1.6975            0.0846\n",
            "AR.4           -0.0789           -1.8393j            1.8410           -0.2568\n",
            "AR.5           -0.0789           +1.8393j            1.8410            0.2568\n",
            "MA.1            2.3732           +0.0000j            2.3732            0.0000\n",
            "-----------------------------------------------------------------------------\n"
          ]
        }
      ]
    },
    {
      "cell_type": "markdown",
      "source": [
        "## Models with Higher Level of Integration"
      ],
      "metadata": {
        "id": "itQ_EDK6Yk9W"
      }
    },
    {
      "cell_type": "code",
      "source": [
        "df['delta_prices'] = df.market_value.diff(1)"
      ],
      "metadata": {
        "id": "-20xTkQsYP7f"
      },
      "execution_count": 21,
      "outputs": []
    },
    {
      "cell_type": "code",
      "source": [
        "model_delta_ar_1_i_1_ma_1 = ARIMA(df.delta_prices[1:], order=(1,0,1))\n",
        "results_delta_ar_1_i_1_ma_1 = model_delta_ar_1_i_1_ma_1.fit()\n",
        "print(results_delta_ar_1_i_1_ma_1.summary())"
      ],
      "metadata": {
        "colab": {
          "base_uri": "https://localhost:8080/"
        },
        "id": "TvdTnQksY-DR",
        "outputId": "ef0b3798-48c5-4cd3-9049-92d926a636fd"
      },
      "execution_count": 22,
      "outputs": [
        {
          "output_type": "stream",
          "name": "stdout",
          "text": [
            "                              ARMA Model Results                              \n",
            "==============================================================================\n",
            "Dep. Variable:           delta_prices   No. Observations:                 5020\n",
            "Model:                     ARMA(1, 1)   Log Likelihood              -27603.666\n",
            "Method:                       css-mle   S.D. of innovations             59.134\n",
            "Date:                Mon, 14 Nov 2022   AIC                          55215.333\n",
            "Time:                        09:27:57   BIC                          55241.418\n",
            "Sample:                    01-10-1994   HQIC                         55224.473\n",
            "                         - 04-05-2013                                         \n",
            "======================================================================================\n",
            "                         coef    std err          z      P>|z|      [0.025      0.975]\n",
            "--------------------------------------------------------------------------------------\n",
            "const                  0.5655      0.682      0.829      0.407      -0.772       1.903\n",
            "ar.L1.delta_prices     0.7475      0.070     10.652      0.000       0.610       0.885\n",
            "ma.L1.delta_prices    -0.7936      0.064    -12.378      0.000      -0.919      -0.668\n",
            "                                    Roots                                    \n",
            "=============================================================================\n",
            "                  Real          Imaginary           Modulus         Frequency\n",
            "-----------------------------------------------------------------------------\n",
            "AR.1            1.3378           +0.0000j            1.3378            0.0000\n",
            "MA.1            1.2601           +0.0000j            1.2601            0.0000\n",
            "-----------------------------------------------------------------------------\n"
          ]
        }
      ]
    },
    {
      "cell_type": "code",
      "source": [
        "sts.adfuller(df.delta_prices[1:])"
      ],
      "metadata": {
        "colab": {
          "base_uri": "https://localhost:8080/"
        },
        "id": "qWoivD9FZg-p",
        "outputId": "3b3a19c0-ac0b-40ce-d839-0d724eccc9d3"
      },
      "execution_count": 23,
      "outputs": [
        {
          "output_type": "execute_result",
          "data": {
            "text/plain": [
              "(-32.244093495707475,\n",
              " 0.0,\n",
              " 5,\n",
              " 5014,\n",
              " {'1%': -3.4316548765428174,\n",
              "  '5%': -2.8621166146845334,\n",
              "  '10%': -2.5670769326348926},\n",
              " 54845.96104221891)"
            ]
          },
          "metadata": {},
          "execution_count": 23
        }
      ]
    },
    {
      "cell_type": "code",
      "source": [
        "model_ar_1_i_2_ma_1 = ARIMA(df.market_value, order=(1,2,1))\n",
        "results_ar_1_i_2_ma_1 = model_ar_1_i_2_ma_1.fit(start_ar_lags = 10)\n",
        "print(results_ar_1_i_2_ma_1.summary())"
      ],
      "metadata": {
        "colab": {
          "base_uri": "https://localhost:8080/"
        },
        "id": "rQIBVlMoaBmV",
        "outputId": "f21f43ed-0711-4091-dca9-364eff2d5cb1"
      },
      "execution_count": 24,
      "outputs": [
        {
          "output_type": "stream",
          "name": "stdout",
          "text": [
            "                             ARIMA Model Results                              \n",
            "==============================================================================\n",
            "Dep. Variable:        D2.market_value   No. Observations:                 5019\n",
            "Model:                 ARIMA(1, 2, 1)   Log Likelihood              -27614.165\n",
            "Method:                       css-mle   S.D. of innovations             59.274\n",
            "Date:                Mon, 14 Nov 2022   AIC                          55236.331\n",
            "Time:                        09:27:59   BIC                          55262.415\n",
            "Sample:                    01-11-1994   HQIC                         55245.471\n",
            "                         - 04-05-2013                                         \n",
            "=========================================================================================\n",
            "                            coef    std err          z      P>|z|      [0.025      0.975]\n",
            "-----------------------------------------------------------------------------------------\n",
            "const                    -0.0001      0.001     -0.200      0.841      -0.001       0.001\n",
            "ar.L1.D2.market_value    -0.0178      0.014     -1.262      0.207      -0.045       0.010\n",
            "ma.L1.D2.market_value    -0.9999      0.001  -1690.414      0.000      -1.001      -0.999\n",
            "                                    Roots                                    \n",
            "=============================================================================\n",
            "                  Real          Imaginary           Modulus         Frequency\n",
            "-----------------------------------------------------------------------------\n",
            "AR.1          -56.1294           +0.0000j           56.1294            0.5000\n",
            "MA.1            1.0001           +0.0000j            1.0001            0.0000\n",
            "-----------------------------------------------------------------------------\n"
          ]
        }
      ]
    },
    {
      "cell_type": "code",
      "source": [
        "df['results_ar_1_i_2_ma_1'] = results_ar_1_i_2_ma_1.resid.iloc[:]\n",
        "sgt.plot_acf(df.results_ar_1_i_2_ma_1[2:], lags = 40, zero= False)\n",
        "plt.title(\"ACF of Residuals for ARIMA(1,2,1)\",size=24)\n",
        "plt.show()"
      ],
      "metadata": {
        "colab": {
          "base_uri": "https://localhost:8080/",
          "height": 293
        },
        "id": "jVv4TUNEai52",
        "outputId": "4fc7c693-017c-45ee-c2d9-4d2f4696abbf"
      },
      "execution_count": 25,
      "outputs": [
        {
          "output_type": "display_data",
          "data": {
            "text/plain": [
              "<Figure size 432x288 with 1 Axes>"
            ],
            "image/png": "[encoded data removed]"
          },
          "metadata": {}
        }
      ]
    },
    {
      "cell_type": "markdown",
      "source": [
        "##ARIMAX"
      ],
      "metadata": {
        "id": "IAePqrEbcWpk"
      }
    },
    {
      "cell_type": "code",
      "source": [
        "model_ar_1_i_1_ma_1_Xspx = ARIMA(df.market_value, exog = df.spx , order=(1,1,1))\n",
        "results_ar_1_i_1_ma_1_Xspx = model_ar_1_i_1_ma_1_Xspx.fit()\n",
        "print(results_ar_1_i_1_ma_1_Xspx.summary())"
      ],
      "metadata": {
        "colab": {
          "base_uri": "https://localhost:8080/"
        },
        "id": "2dsEHSkZa1xH",
        "outputId": "d7c0cf32-d033-4380-a782-80f4b550f340"
      },
      "execution_count": 26,
      "outputs": [
        {
          "output_type": "stream",
          "name": "stdout",
          "text": [
            "                             ARIMA Model Results                              \n",
            "==============================================================================\n",
            "Dep. Variable:         D.market_value   No. Observations:                 5020\n",
            "Model:                 ARIMA(1, 1, 1)   Log Likelihood              -27603.556\n",
            "Method:                       css-mle   S.D. of innovations             59.132\n",
            "Date:                Mon, 14 Nov 2022   AIC                          55217.112\n",
            "Time:                        09:28:01   BIC                          55249.718\n",
            "Sample:                    01-10-1994   HQIC                         55228.538\n",
            "                         - 04-05-2013                                         \n",
            "========================================================================================\n",
            "                           coef    std err          z      P>|z|      [0.025      0.975]\n",
            "----------------------------------------------------------------------------------------\n",
            "const                   -0.5874      2.655     -0.221      0.825      -5.790       4.616\n",
            "spx                      0.0011      0.002      0.451      0.652      -0.004       0.006\n",
            "ar.L1.D.market_value     0.7463      0.070     10.602      0.000       0.608       0.884\n",
            "ma.L1.D.market_value    -0.7923      0.064    -12.305      0.000      -0.918      -0.666\n",
            "                                    Roots                                    \n",
            "=============================================================================\n",
            "                  Real          Imaginary           Modulus         Frequency\n",
            "-----------------------------------------------------------------------------\n",
            "AR.1            1.3400           +0.0000j            1.3400            0.0000\n",
            "MA.1            1.2622           +0.0000j            1.2622            0.0000\n",
            "-----------------------------------------------------------------------------\n"
          ]
        }
      ]
    },
    {
      "cell_type": "markdown",
      "source": [
        "## SARIMAX"
      ],
      "metadata": {
        "id": "xSjB7Ijcg0-M"
      }
    },
    {
      "cell_type": "code",
      "source": [
        "from statsmodels.tsa.statespace.sarimax import SARIMAX"
      ],
      "metadata": {
        "id": "ZS2FlDtjdkN2"
      },
      "execution_count": 28,
      "outputs": []
    },
    {
      "cell_type": "code",
      "source": [
        "model_sarimax = SARIMAX(df.market_value, exog = df.spx , order=(1,0,1), seasonal_order = (2,0,1,5))\n",
        "results_sarimax = model_sarimax.fit()\n",
        "print(results_sarimax.summary())"
      ],
      "metadata": {
        "colab": {
          "base_uri": "https://localhost:8080/"
        },
        "id": "MO_h9vdJg75W",
        "outputId": "ad4141c5-abd0-49db-a3c6-52a9549ca670"
      },
      "execution_count": 30,
      "outputs": [
        {
          "output_type": "stream",
          "name": "stdout",
          "text": [
            "                                     SARIMAX Results                                     \n",
            "=========================================================================================\n",
            "Dep. Variable:                      market_value   No. Observations:                 5021\n",
            "Model:             SARIMAX(1, 0, 1)x(2, 0, 1, 5)   Log Likelihood              -26712.576\n",
            "Date:                           Mon, 14 Nov 2022   AIC                          53439.152\n",
            "Time:                                   09:44:28   BIC                          53484.802\n",
            "Sample:                               01-07-1994   HQIC                         53455.148\n",
            "                                    - 04-05-2013                                         \n",
            "Covariance Type:                             opg                                         \n",
            "==============================================================================\n",
            "                 coef    std err          z      P>|z|      [0.025      0.975]\n",
            "------------------------------------------------------------------------------\n",
            "spx            2.7045      0.034     78.637      0.000       2.637       2.772\n",
            "ar.L1          0.9999      0.000   2671.878      0.000       0.999       1.001\n",
            "ma.L1         -0.3108      0.009    -33.193      0.000      -0.329      -0.292\n",
            "ar.S.L5        0.9653      0.011     88.069      0.000       0.944       0.987\n",
            "ar.S.L10       0.0344      0.010      3.347      0.001       0.014       0.055\n",
            "ma.S.L5       -0.9991      0.006   -153.774      0.000      -1.012      -0.986\n",
            "sigma2      2441.2174     28.239     86.448      0.000    2385.870    2496.565\n",
            "===================================================================================\n",
            "Ljung-Box (L1) (Q):                   1.74   Jarque-Bera (JB):              4200.84\n",
            "Prob(Q):                              0.19   Prob(JB):                         0.00\n",
            "Heteroskedasticity (H):               1.23   Skew:                            -0.52\n",
            "Prob(H) (two-sided):                  0.00   Kurtosis:                         7.36\n",
            "===================================================================================\n",
            "\n",
            "Warnings:\n",
            "[1] Covariance matrix calculated using the outer product of gradients (complex-step).\n"
          ]
        }
      ]
    },
    {
      "cell_type": "code",
      "source": [],
      "metadata": {
        "id": "kJ8-QejhhaDV"
      },
      "execution_count": null,
      "outputs": []
    }
  ]
}