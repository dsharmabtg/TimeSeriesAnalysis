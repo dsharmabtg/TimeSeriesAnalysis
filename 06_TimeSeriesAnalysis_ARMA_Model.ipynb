{
  "nbformat": 4,
  "nbformat_minor": 0,
  "metadata": {
    "colab": {
      "provenance": []
    },
    "kernelspec": {
      "name": "python3",
      "display_name": "Python 3"
    },
    "language_info": {
      "name": "python"
    }
  },
  "cells": [
    {
      "cell_type": "markdown",
      "source": [
        "## Importing the relevant packages"
      ],
      "metadata": {
        "id": "IS69ZMhY9IZD"
      }
    },
    {
      "cell_type": "code",
      "execution_count": 7,
      "metadata": {
        "id": "lR0bCqgT7w2X"
      },
      "outputs": [],
      "source": [
        "import pandas as pd\n",
        "import numpy as np\n",
        "import matplotlib.pyplot as plt\n",
        "import statsmodels.graphics.tsaplots as sgt\n",
        "import statsmodels.tsa.stattools as sts\n",
        "from statsmodels.tsa.arima_model import ARMA\n",
        "from scipy.stats.distributions import chi2\n",
        "import seaborn as sns\n",
        "import warnings\n",
        "warnings.filterwarnings(\"ignore\")\n",
        "sns.set()"
      ]
    },
    {
      "cell_type": "code",
      "source": [
        "raw_csv_data = pd.read_csv(\"/content/Index2018.csv\")\n",
        "df_comp = raw_csv_data.copy()\n",
        "df_comp.date = pd.to_datetime(df_comp.date, dayfirst = True)\n",
        "df_comp.set_index(\"date\",inplace=True)\n",
        "df_comp = df_comp.asfreq(\"b\")\n",
        "df_comp = df_comp.fillna(method=\"ffill\")"
      ],
      "metadata": {
        "id": "_zQRqKEc7_Ac"
      },
      "execution_count": 2,
      "outputs": []
    },
    {
      "cell_type": "code",
      "source": [
        "df_comp['market_value'] = df_comp.ftse"
      ],
      "metadata": {
        "id": "5NayE5dK8E1R"
      },
      "execution_count": 3,
      "outputs": []
    },
    {
      "cell_type": "code",
      "source": [
        "df_comp.head()"
      ],
      "metadata": {
        "colab": {
          "base_uri": "https://localhost:8080/",
          "height": 237
        },
        "id": "3aPttgCs-2NQ",
        "outputId": "903cdbad-c5c3-4ebd-e6ee-8e8f747b2ee0"
      },
      "execution_count": 4,
      "outputs": [
        {
          "output_type": "execute_result",
          "data": {
            "text/plain": [
              "               spx      dax     ftse    nikkei  market_value\n",
              "date                                                        \n",
              "1994-01-07  469.90  2224.95  3445.98  18124.01       3445.98\n",
              "1994-01-10  475.27  2225.00  3440.58  18443.44       3440.58\n",
              "1994-01-11  474.13  2228.10  3413.77  18485.25       3413.77\n",
              "1994-01-12  474.17  2182.06  3372.02  18793.88       3372.02\n",
              "1994-01-13  472.47  2142.37  3360.01  18577.26       3360.01"
            ],
            "text/html": [
              "\n",
              "  <div id=\"df-afa1fc74-3852-4519-a74f-815fbf63866c\">\n",
              "    <div class=\"colab-df-container\">\n",
              "      <div>\n",
              "<style scoped>\n",
              "    .dataframe tbody tr th:only-of-type {\n",
              "        vertical-align: middle;\n",
              "    }\n",
              "\n",
              "    .dataframe tbody tr th {\n",
              "        vertical-align: top;\n",
              "    }\n",
              "\n",
              "    .dataframe thead th {\n",
              "        text-align: right;\n",
              "    }\n",
              "</style>\n",
              "<table border=\"1\" class=\"dataframe\">\n",
              "  <thead>\n",
              "    <tr style=\"text-align: right;\">\n",
              "      <th></th>\n",
              "      <th>spx</th>\n",
              "      <th>dax</th>\n",
              "      <th>ftse</th>\n",
              "      <th>nikkei</th>\n",
              "      <th>market_value</th>\n",
              "    </tr>\n",
              "    <tr>\n",
              "      <th>date</th>\n",
              "      <th></th>\n",
              "      <th></th>\n",
              "      <th></th>\n",
              "      <th></th>\n",
              "      <th></th>\n",
              "    </tr>\n",
              "  </thead>\n",
              "  <tbody>\n",
              "    <tr>\n",
              "      <th>1994-01-07</th>\n",
              "      <td>469.90</td>\n",
              "      <td>2224.95</td>\n",
              "      <td>3445.98</td>\n",
              "      <td>18124.01</td>\n",
              "      <td>3445.98</td>\n",
              "    </tr>\n",
              "    <tr>\n",
              "      <th>1994-01-10</th>\n",
              "      <td>475.27</td>\n",
              "      <td>2225.00</td>\n",
              "      <td>3440.58</td>\n",
              "      <td>18443.44</td>\n",
              "      <td>3440.58</td>\n",
              "    </tr>\n",
              "    <tr>\n",
              "      <th>1994-01-11</th>\n",
              "      <td>474.13</td>\n",
              "      <td>2228.10</td>\n",
              "      <td>3413.77</td>\n",
              "      <td>18485.25</td>\n",
              "      <td>3413.77</td>\n",
              "    </tr>\n",
              "    <tr>\n",
              "      <th>1994-01-12</th>\n",
              "      <td>474.17</td>\n",
              "      <td>2182.06</td>\n",
              "      <td>3372.02</td>\n",
              "      <td>18793.88</td>\n",
              "      <td>3372.02</td>\n",
              "    </tr>\n",
              "    <tr>\n",
              "      <th>1994-01-13</th>\n",
              "      <td>472.47</td>\n",
              "      <td>2142.37</td>\n",
              "      <td>3360.01</td>\n",
              "      <td>18577.26</td>\n",
              "      <td>3360.01</td>\n",
              "    </tr>\n",
              "  </tbody>\n",
              "</table>\n",
              "</div>\n",
              "      <button class=\"colab-df-convert\" onclick=\"convertToInteractive('df-afa1fc74-3852-4519-a74f-815fbf63866c')\"\n",
              "              title=\"Convert this dataframe to an interactive table.\"\n",
              "              style=\"display:none;\">\n",
              "        \n",
              "  <svg xmlns=\"http://www.w3.org/2000/svg\" height=\"24px\"viewBox=\"0 0 24 24\"\n",
              "       width=\"24px\">\n",
              "    <path d=\"M0 0h24v24H0V0z\" fill=\"none\"/>\n",
              "    <path d=\"M18.56 5.44l.94 2.06.94-2.06 2.06-.94-2.06-.94-.94-2.06-.94 2.06-2.06.94zm-11 1L8.5 8.5l.94-2.06 2.06-.94-2.06-.94L8.5 2.5l-.94 2.06-2.06.94zm10 10l.94 2.06.94-2.06 2.06-.94-2.06-.94-.94-2.06-.94 2.06-2.06.94z\"/><path d=\"M17.41 7.96l-1.37-1.37c-.4-.4-.92-.59-1.43-.59-.52 0-1.04.2-1.43.59L10.3 9.45l-7.72 7.72c-.78.78-.78 2.05 0 2.83L4 21.41c.39.39.9.59 1.41.59.51 0 1.02-.2 1.41-.59l7.78-7.78 2.81-2.81c.8-.78.8-2.07 0-2.86zM5.41 20L4 18.59l7.72-7.72 1.47 1.35L5.41 20z\"/>\n",
              "  </svg>\n",
              "      </button>\n",
              "      \n",
              "  <style>\n",
              "    .colab-df-container {\n",
              "      display:flex;\n",
              "      flex-wrap:wrap;\n",
              "      gap: 12px;\n",
              "    }\n",
              "\n",
              "    .colab-df-convert {\n",
              "      background-color: #E8F0FE;\n",
              "      border: none;\n",
              "      border-radius: 50%;\n",
              "      cursor: pointer;\n",
              "      display: none;\n",
              "      fill: #1967D2;\n",
              "      height: 32px;\n",
              "      padding: 0 0 0 0;\n",
              "      width: 32px;\n",
              "    }\n",
              "\n",
              "    .colab-df-convert:hover {\n",
              "      background-color: #E2EBFA;\n",
              "      box-shadow: 0px 1px 2px rgba(60, 64, 67, 0.3), 0px 1px 3px 1px rgba(60, 64, 67, 0.15);\n",
              "      fill: #174EA6;\n",
              "    }\n",
              "\n",
              "    [theme=dark] .colab-df-convert {\n",
              "      background-color: #3B4455;\n",
              "      fill: #D2E3FC;\n",
              "    }\n",
              "\n",
              "    [theme=dark] .colab-df-convert:hover {\n",
              "      background-color: #434B5C;\n",
              "      box-shadow: 0px 1px 3px 1px rgba(0, 0, 0, 0.15);\n",
              "      filter: drop-shadow(0px 1px 2px rgba(0, 0, 0, 0.3));\n",
              "      fill: #FFFFFF;\n",
              "    }\n",
              "  </style>\n",
              "\n",
              "      <script>\n",
              "        const buttonEl =\n",
              "          document.querySelector('#df-afa1fc74-3852-4519-a74f-815fbf63866c button.colab-df-convert');\n",
              "        buttonEl.style.display =\n",
              "          google.colab.kernel.accessAllowed ? 'block' : 'none';\n",
              "\n",
              "        async function convertToInteractive(key) {\n",
              "          const element = document.querySelector('#df-afa1fc74-3852-4519-a74f-815fbf63866c');\n",
              "          const dataTable =\n",
              "            await google.colab.kernel.invokeFunction('convertToInteractive',\n",
              "                                                     [key], {});\n",
              "          if (!dataTable) return;\n",
              "\n",
              "          const docLinkHtml = 'Like what you see? Visit the ' +\n",
              "            '<a target=\"_blank\" href=https://colab.research.google.com/notebooks/data_table.ipynb>data table notebook</a>'\n",
              "            + ' to learn more about interactive tables.';\n",
              "          element.innerHTML = '';\n",
              "          dataTable['output_type'] = 'display_data';\n",
              "          await google.colab.output.renderOutput(dataTable, element);\n",
              "          const docLink = document.createElement('div');\n",
              "          docLink.innerHTML = docLinkHtml;\n",
              "          element.appendChild(docLink);\n",
              "        }\n",
              "      </script>\n",
              "    </div>\n",
              "  </div>\n",
              "  "
            ]
          },
          "metadata": {},
          "execution_count": 4
        }
      ]
    },
    {
      "cell_type": "code",
      "source": [
        "del df_comp[\"spx\"]\n",
        "del df_comp[\"dax\"]\n",
        "del df_comp[\"ftse\"]\n",
        "del df_comp[\"nikkei\"]\n",
        "size = int(len(df_comp)*0.80)\n",
        "df,df_test = df_comp.iloc[:size],df_comp.iloc[size:]"
      ],
      "metadata": {
        "id": "7dqPc0Ai-5HA"
      },
      "execution_count": 5,
      "outputs": []
    },
    {
      "cell_type": "markdown",
      "source": [
        "## LLR Test"
      ],
      "metadata": {
        "id": "UVom1jqV_Cpq"
      }
    },
    {
      "cell_type": "code",
      "source": [
        "def LLR_test(mod_1,mod_2,DF=1):\n",
        "  L1 = mod_1.fit().llf\n",
        "  L2 = mod_2.fit().llf\n",
        "  LR = (2*(L2-L1))\n",
        "  p = chi2.sf(LR,DF).round(3)\n",
        "  return p"
      ],
      "metadata": {
        "id": "FaIf5Alq-9HF"
      },
      "execution_count": 6,
      "outputs": []
    },
    {
      "cell_type": "markdown",
      "source": [
        "## Creating Returns"
      ],
      "metadata": {
        "id": "owdAmpRF_O7W"
      }
    },
    {
      "cell_type": "code",
      "source": [
        "df[\"returns\"] = df.market_value.pct_change(1).mul(100)"
      ],
      "metadata": {
        "id": "QbWK6ZgH_Q96"
      },
      "execution_count": 8,
      "outputs": []
    },
    {
      "cell_type": "code",
      "source": [
        "model_ret_ar_1_ma_1 = ARMA(df.returns[1:], order=(1,1))\n",
        "results_ret_ar_1_ma_1 = model_ret_ar_1_ma_1.fit()\n",
        "print(results_ret_ar_1_ma_1.summary())"
      ],
      "metadata": {
        "colab": {
          "base_uri": "https://localhost:8080/"
        },
        "id": "d3W1N6qP_Q7X",
        "outputId": "d99a8778-6159-42bb-a6ff-d3317d9448a5"
      },
      "execution_count": 9,
      "outputs": [
        {
          "output_type": "stream",
          "name": "stdout",
          "text": [
            "                              ARMA Model Results                              \n",
            "==============================================================================\n",
            "Dep. Variable:                returns   No. Observations:                 5020\n",
            "Model:                     ARMA(1, 1)   Log Likelihood               -7916.500\n",
            "Method:                       css-mle   S.D. of innovations              1.171\n",
            "Date:                Fri, 11 Nov 2022   AIC                          15841.000\n",
            "Time:                        09:22:41   BIC                          15867.085\n",
            "Sample:                    01-10-1994   HQIC                         15850.140\n",
            "                         - 04-05-2013                                         \n",
            "=================================================================================\n",
            "                    coef    std err          z      P>|z|      [0.025      0.975]\n",
            "---------------------------------------------------------------------------------\n",
            "const             0.0189      0.013      1.446      0.148      -0.007       0.045\n",
            "ar.L1.returns     0.7649      0.067     11.349      0.000       0.633       0.897\n",
            "ma.L1.returns    -0.8141      0.061    -13.406      0.000      -0.933      -0.695\n",
            "                                    Roots                                    \n",
            "=============================================================================\n",
            "                  Real          Imaginary           Modulus         Frequency\n",
            "-----------------------------------------------------------------------------\n",
            "AR.1            1.3074           +0.0000j            1.3074            0.0000\n",
            "MA.1            1.2284           +0.0000j            1.2284            0.0000\n",
            "-----------------------------------------------------------------------------\n"
          ]
        }
      ]
    },
    {
      "cell_type": "code",
      "source": [
        "model_ret_ar_1 = ARMA(df.returns[1:], order=(1,0))\n",
        "model_ret_ma_1 = ARMA(df.returns[1:], order=(0,1))"
      ],
      "metadata": {
        "id": "MaMucS-b_4an"
      },
      "execution_count": 10,
      "outputs": []
    },
    {
      "cell_type": "code",
      "source": [
        "print(\"\\nARMA vs AR \" + str(LLR_test(model_ret_ar_1,model_ret_ar_1_ma_1)))\n",
        "print(\"\\nARMA vs MA \" + str(LLR_test(model_ret_ma_1,model_ret_ar_1_ma_1)))"
      ],
      "metadata": {
        "colab": {
          "base_uri": "https://localhost:8080/"
        },
        "id": "0i41cYq_CFfa",
        "outputId": "e758aa10-1ddb-4334-caf0-69636eb6d17f"
      },
      "execution_count": 12,
      "outputs": [
        {
          "output_type": "stream",
          "name": "stdout",
          "text": [
            "\n",
            "ARMA vs AR 0.0\n",
            "\n",
            "ARMA vs MA 0.0\n"
          ]
        }
      ]
    },
    {
      "cell_type": "markdown",
      "source": [
        "## Higher-Lag ARMA Model"
      ],
      "metadata": {
        "id": "UCD4kRywDpmR"
      }
    },
    {
      "cell_type": "code",
      "source": [
        "sgt.plot_acf(df.returns[1:], lags = 40, zero= False)\n",
        "plt.title(\"ACF for Returns\",size=24)\n",
        "plt.show()"
      ],
      "metadata": {
        "colab": {
          "base_uri": "https://localhost:8080/",
          "height": 293
        },
        "id": "bSny9KUgCdfE",
        "outputId": "f40ff74d-dd9d-4ad6-d2b3-8301a29a5350"
      },
      "execution_count": 14,
      "outputs": [
        {
          "output_type": "display_data",
          "data": {
            "text/plain": [
              "<Figure size 432x288 with 1 Axes>"
            ],
            "image/png": "[encoded data removed]"
          },
          "metadata": {}
        }
      ]
    },
    {
      "cell_type": "code",
      "source": [
        "sgt.plot_pacf(df.returns[1:], lags = 40, zero= False, method=(\"ols\"))\n",
        "plt.title(\"PACF for Returns\",size=24)\n",
        "plt.show()"
      ],
      "metadata": {
        "colab": {
          "base_uri": "https://localhost:8080/",
          "height": 293
        },
        "id": "Wzpj62pCEjh6",
        "outputId": "bdb86fc0-a360-4228-c9e9-320ef91a3ea0"
      },
      "execution_count": 15,
      "outputs": [
        {
          "output_type": "display_data",
          "data": {
            "text/plain": [
              "<Figure size 432x288 with 1 Axes>"
            ],
            "image/png": "[encoded data removed]"
          },
          "metadata": {}
        }
      ]
    },
    {
      "cell_type": "code",
      "source": [
        "model_ret_ar_3_ma_3 = ARMA(df.returns[1:], order=(3,3))\n",
        "results_ret_ar_3_ma_3 = model_ret_ar_3_ma_3.fit()\n",
        "print(results_ret_ar_3_ma_3.summary())"
      ],
      "metadata": {
        "colab": {
          "base_uri": "https://localhost:8080/"
        },
        "id": "7esdPtxQEved",
        "outputId": "201e4b7e-6ba5-4b8f-bffa-763abe740f9a"
      },
      "execution_count": 18,
      "outputs": [
        {
          "output_type": "stream",
          "name": "stdout",
          "text": [
            "                              ARMA Model Results                              \n",
            "==============================================================================\n",
            "Dep. Variable:                returns   No. Observations:                 5020\n",
            "Model:                     ARMA(3, 3)   Log Likelihood               -7893.515\n",
            "Method:                       css-mle   S.D. of innovations              1.166\n",
            "Date:                Fri, 11 Nov 2022   AIC                          15803.030\n",
            "Time:                        09:48:13   BIC                          15855.199\n",
            "Sample:                    01-10-1994   HQIC                         15821.310\n",
            "                         - 04-05-2013                                         \n",
            "=================================================================================\n",
            "                    coef    std err          z      P>|z|      [0.025      0.975]\n",
            "---------------------------------------------------------------------------------\n",
            "const             0.0189      0.014      1.395      0.163      -0.008       0.045\n",
            "ar.L1.returns    -0.1898      0.104     -1.827      0.068      -0.393       0.014\n",
            "ar.L2.returns    -0.2942      0.087     -3.389      0.001      -0.464      -0.124\n",
            "ar.L3.returns     0.4459      0.138      3.225      0.001       0.175       0.717\n",
            "ma.L1.returns     0.1707      0.099      1.726      0.084      -0.023       0.365\n",
            "ma.L2.returns     0.2277      0.084      2.701      0.007       0.062       0.393\n",
            "ma.L3.returns    -0.5432      0.127     -4.270      0.000      -0.793      -0.294\n",
            "                                    Roots                                    \n",
            "=============================================================================\n",
            "                  Real          Imaginary           Modulus         Frequency\n",
            "-----------------------------------------------------------------------------\n",
            "AR.1           -0.5168           -1.0283j            1.1508           -0.3241\n",
            "AR.2           -0.5168           +1.0283j            1.1508            0.3241\n",
            "AR.3            1.6932           -0.0000j            1.6932           -0.0000\n",
            "MA.1           -0.5286           -0.9835j            1.1166           -0.3285\n",
            "MA.2           -0.5286           +0.9835j            1.1166            0.3285\n",
            "MA.3            1.4764           -0.0000j            1.4764           -0.0000\n",
            "-----------------------------------------------------------------------------\n"
          ]
        }
      ]
    },
    {
      "cell_type": "code",
      "source": [
        "print(\"\\nLLR Test \" + str(LLR_test(model_ret_ar_1_ma_1,model_ret_ar_3_ma_3,DF=4)))"
      ],
      "metadata": {
        "colab": {
          "base_uri": "https://localhost:8080/"
        },
        "id": "Uz7mP-c1FCJ1",
        "outputId": "615bc457-4913-4977-a135-b5bcbed18292"
      },
      "execution_count": 19,
      "outputs": [
        {
          "output_type": "stream",
          "name": "stdout",
          "text": [
            "\n",
            "LLR Test 0.0\n"
          ]
        }
      ]
    },
    {
      "cell_type": "code",
      "source": [
        "model_ret_ar_3_ma_2 = ARMA(df.returns[1:], order=(3,2))\n",
        "results_ret_ar_3_ma_2 = model_ret_ar_3_ma_2.fit()\n",
        "print(results_ret_ar_3_ma_2.summary())"
      ],
      "metadata": {
        "colab": {
          "base_uri": "https://localhost:8080/"
        },
        "id": "v8vE3Y23GBvg",
        "outputId": "b0a85843-bc1d-4515-b2c3-8d4ad9fbf924"
      },
      "execution_count": 20,
      "outputs": [
        {
          "output_type": "stream",
          "name": "stdout",
          "text": [
            "                              ARMA Model Results                              \n",
            "==============================================================================\n",
            "Dep. Variable:                returns   No. Observations:                 5020\n",
            "Model:                     ARMA(3, 2)   Log Likelihood               -7895.747\n",
            "Method:                       css-mle   S.D. of innovations              1.166\n",
            "Date:                Fri, 11 Nov 2022   AIC                          15805.495\n",
            "Time:                        09:52:02   BIC                          15851.143\n",
            "Sample:                    01-10-1994   HQIC                         15821.491\n",
            "                         - 04-05-2013                                         \n",
            "=================================================================================\n",
            "                    coef    std err          z      P>|z|      [0.025      0.975]\n",
            "---------------------------------------------------------------------------------\n",
            "const             0.0188      0.015      1.251      0.211      -0.011       0.048\n",
            "ar.L1.returns    -0.6785      0.087     -7.799      0.000      -0.849      -0.508\n",
            "ar.L2.returns    -0.5088      0.139     -3.670      0.000      -0.780      -0.237\n",
            "ar.L3.returns    -0.1141      0.015     -7.655      0.000      -0.143      -0.085\n",
            "ma.L1.returns     0.6568      0.087      7.536      0.000       0.486       0.828\n",
            "ma.L2.returns     0.4474      0.141      3.175      0.001       0.171       0.724\n",
            "                                    Roots                                    \n",
            "=============================================================================\n",
            "                  Real          Imaginary           Modulus         Frequency\n",
            "-----------------------------------------------------------------------------\n",
            "AR.1           -0.4929           -1.5101j            1.5885           -0.3002\n",
            "AR.2           -0.4929           +1.5101j            1.5885            0.3002\n",
            "AR.3           -3.4748           -0.0000j            3.4748           -0.5000\n",
            "MA.1           -0.7340           -1.3025j            1.4951           -0.3317\n",
            "MA.2           -0.7340           +1.3025j            1.4951            0.3317\n",
            "-----------------------------------------------------------------------------\n"
          ]
        }
      ]
    },
    {
      "cell_type": "code",
      "source": [
        "model_ret_ar_2_ma_3 = ARMA(df.returns[1:], order=(2,3))\n",
        "results_ret_ar_2_ma_3 = model_ret_ar_2_ma_3.fit()\n",
        "print(results_ret_ar_2_ma_3.summary())"
      ],
      "metadata": {
        "colab": {
          "base_uri": "https://localhost:8080/"
        },
        "id": "LnSZW6FmGmgQ",
        "outputId": "d2ca6807-1f04-4c23-f5c9-b7a434a1e94d"
      },
      "execution_count": 22,
      "outputs": [
        {
          "output_type": "stream",
          "name": "stdout",
          "text": [
            "                              ARMA Model Results                              \n",
            "==============================================================================\n",
            "Dep. Variable:                returns   No. Observations:                 5020\n",
            "Model:                     ARMA(2, 3)   Log Likelihood               -7895.587\n",
            "Method:                       css-mle   S.D. of innovations              1.166\n",
            "Date:                Fri, 11 Nov 2022   AIC                          15805.174\n",
            "Time:                        09:55:58   BIC                          15850.823\n",
            "Sample:                    01-10-1994   HQIC                         15821.170\n",
            "                         - 04-05-2013                                         \n",
            "=================================================================================\n",
            "                    coef    std err          z      P>|z|      [0.025      0.975]\n",
            "---------------------------------------------------------------------------------\n",
            "const             0.0189      0.015      1.276      0.202      -0.010       0.048\n",
            "ar.L1.returns    -0.5605      0.090     -6.245      0.000      -0.736      -0.385\n",
            "ar.L2.returns    -0.4187      0.193     -2.172      0.030      -0.797      -0.041\n",
            "ma.L1.returns     0.5378      0.090      6.000      0.000       0.362       0.714\n",
            "ma.L2.returns     0.3540      0.195      1.818      0.069      -0.028       0.736\n",
            "ma.L3.returns    -0.1158      0.016     -7.369      0.000      -0.147      -0.085\n",
            "                                    Roots                                    \n",
            "=============================================================================\n",
            "                  Real          Imaginary           Modulus         Frequency\n",
            "-----------------------------------------------------------------------------\n",
            "AR.1           -0.6694           -1.3930j            1.5455           -0.3213\n",
            "AR.2           -0.6694           +1.3930j            1.5455            0.3213\n",
            "MA.1           -0.7270           -1.1772j            1.3836           -0.3381\n",
            "MA.2           -0.7270           +1.1772j            1.3836            0.3381\n",
            "MA.3            4.5096           -0.0000j            4.5096           -0.0000\n",
            "-----------------------------------------------------------------------------\n"
          ]
        }
      ]
    },
    {
      "cell_type": "code",
      "source": [
        "print(\"\\nLLR Test \" + str(LLR_test(model_ret_ar_2_ma_3,model_ret_ar_3_ma_3)))"
      ],
      "metadata": {
        "colab": {
          "base_uri": "https://localhost:8080/"
        },
        "id": "3oxFa06bHde2",
        "outputId": "bfd8a2be-6f15-4495-b2cc-dd46c33dac23"
      },
      "execution_count": 23,
      "outputs": [
        {
          "output_type": "stream",
          "name": "stdout",
          "text": [
            "\n",
            "LLR Test 0.042\n"
          ]
        }
      ]
    },
    {
      "cell_type": "code",
      "source": [
        "model_ret_ar_3_ma_1 = ARMA(df.returns[1:], order=(3,1))\n",
        "results_ret_ar_3_ma_1 = model_ret_ar_3_ma_1.fit()\n",
        "print(results_ret_ar_3_ma_1.summary())"
      ],
      "metadata": {
        "colab": {
          "base_uri": "https://localhost:8080/"
        },
        "id": "FODeUOf8HyVP",
        "outputId": "03d82b13-d2b8-44a7-ca63-3beb6ab51d77"
      },
      "execution_count": 24,
      "outputs": [
        {
          "output_type": "stream",
          "name": "stdout",
          "text": [
            "                              ARMA Model Results                              \n",
            "==============================================================================\n",
            "Dep. Variable:                returns   No. Observations:                 5020\n",
            "Model:                     ARMA(3, 1)   Log Likelihood               -7899.072\n",
            "Method:                       css-mle   S.D. of innovations              1.167\n",
            "Date:                Fri, 11 Nov 2022   AIC                          15810.144\n",
            "Time:                        09:58:39   BIC                          15849.271\n",
            "Sample:                    01-10-1994   HQIC                         15823.855\n",
            "                         - 04-05-2013                                         \n",
            "=================================================================================\n",
            "                    coef    std err          z      P>|z|      [0.025      0.975]\n",
            "---------------------------------------------------------------------------------\n",
            "const             0.0189      0.015      1.298      0.194      -0.010       0.047\n",
            "ar.L1.returns    -0.5077      0.088     -5.769      0.000      -0.680      -0.335\n",
            "ar.L2.returns    -0.0638      0.016     -4.023      0.000      -0.095      -0.033\n",
            "ar.L3.returns    -0.1102      0.014     -7.850      0.000      -0.138      -0.083\n",
            "ma.L1.returns     0.4838      0.088      5.500      0.000       0.311       0.656\n",
            "                                    Roots                                    \n",
            "=============================================================================\n",
            "                  Real          Imaginary           Modulus         Frequency\n",
            "-----------------------------------------------------------------------------\n",
            "AR.1           -1.5095           -0.0000j            1.5095           -0.5000\n",
            "AR.2            0.4653           -2.4076j            2.4521           -0.2196\n",
            "AR.3            0.4653           +2.4076j            2.4521            0.2196\n",
            "MA.1           -2.0668           +0.0000j            2.0668            0.5000\n",
            "-----------------------------------------------------------------------------\n"
          ]
        }
      ]
    },
    {
      "cell_type": "code",
      "source": [
        "print(\"\\nLLR Test \" + str(LLR_test(model_ret_ar_3_ma_1,model_ret_ar_3_ma_2)))"
      ],
      "metadata": {
        "colab": {
          "base_uri": "https://localhost:8080/"
        },
        "id": "5ifbNMPNIHmh",
        "outputId": "efce5bb2-c001-499d-b9f5-91655771c5b6"
      },
      "execution_count": 26,
      "outputs": [
        {
          "output_type": "stream",
          "name": "stdout",
          "text": [
            "\n",
            "LLR Test 0.01\n"
          ]
        }
      ]
    },
    {
      "cell_type": "code",
      "source": [
        "model_ret_ar_2_ma_2 = ARMA(df.returns[1:], order=(2,2))\n",
        "results_ret_ar_2_ma_2 = model_ret_ar_2_ma_2.fit()\n",
        "print(results_ret_ar_2_ma_2.summary())"
      ],
      "metadata": {
        "colab": {
          "base_uri": "https://localhost:8080/"
        },
        "id": "HR_oXrIRIWIy",
        "outputId": "b839c099-33c8-4a83-b242-1038121ae624"
      },
      "execution_count": 27,
      "outputs": [
        {
          "output_type": "stream",
          "name": "stdout",
          "text": [
            "                              ARMA Model Results                              \n",
            "==============================================================================\n",
            "Dep. Variable:                returns   No. Observations:                 5020\n",
            "Model:                     ARMA(2, 2)   Log Likelihood               -7913.223\n",
            "Method:                       css-mle   S.D. of innovations              1.170\n",
            "Date:                Fri, 11 Nov 2022   AIC                          15838.446\n",
            "Time:                        10:00:44   BIC                          15877.573\n",
            "Sample:                    01-10-1994   HQIC                         15852.156\n",
            "                         - 04-05-2013                                         \n",
            "=================================================================================\n",
            "                    coef    std err          z      P>|z|      [0.025      0.975]\n",
            "---------------------------------------------------------------------------------\n",
            "const             0.0189      0.014      1.394      0.163      -0.008       0.045\n",
            "ar.L1.returns     0.7820      0.238      3.284      0.001       0.315       1.249\n",
            "ar.L2.returns    -0.1563      0.177     -0.884      0.377      -0.503       0.190\n",
            "ma.L1.returns    -0.8104      0.239     -3.388      0.001      -1.279      -0.342\n",
            "ma.L2.returns     0.1177      0.187      0.628      0.530      -0.250       0.485\n",
            "                                    Roots                                    \n",
            "=============================================================================\n",
            "                  Real          Imaginary           Modulus         Frequency\n",
            "-----------------------------------------------------------------------------\n",
            "AR.1            2.5018           -0.3737j            2.5295           -0.0236\n",
            "AR.2            2.5018           +0.3737j            2.5295            0.0236\n",
            "MA.1            1.6107           +0.0000j            1.6107            0.0000\n",
            "MA.2            5.2742           +0.0000j            5.2742            0.0000\n",
            "-----------------------------------------------------------------------------\n"
          ]
        }
      ]
    },
    {
      "cell_type": "code",
      "source": [
        "model_ret_ar_1_ma_3 = ARMA(df.returns[1:], order=(1,3))\n",
        "results_ret_ar_1_ma_3 = model_ret_ar_1_ma_3.fit()\n",
        "print(results_ret_ar_1_ma_3.summary())"
      ],
      "metadata": {
        "colab": {
          "base_uri": "https://localhost:8080/"
        },
        "id": "PNUfhCcuIl7U",
        "outputId": "23673521-b4ff-4e85-a588-3c6a9831d1d9"
      },
      "execution_count": 28,
      "outputs": [
        {
          "output_type": "stream",
          "name": "stdout",
          "text": [
            "                              ARMA Model Results                              \n",
            "==============================================================================\n",
            "Dep. Variable:                returns   No. Observations:                 5020\n",
            "Model:                     ARMA(1, 3)   Log Likelihood               -7896.838\n",
            "Method:                       css-mle   S.D. of innovations              1.167\n",
            "Date:                Fri, 11 Nov 2022   AIC                          15805.676\n",
            "Time:                        10:01:48   BIC                          15844.803\n",
            "Sample:                    01-10-1994   HQIC                         15819.386\n",
            "                         - 04-05-2013                                         \n",
            "=================================================================================\n",
            "                    coef    std err          z      P>|z|      [0.025      0.975]\n",
            "---------------------------------------------------------------------------------\n",
            "const             0.0189      0.014      1.332      0.183      -0.009       0.047\n",
            "ar.L1.returns    -0.4699      0.096     -4.901      0.000      -0.658      -0.282\n",
            "ma.L1.returns     0.4474      0.095      4.691      0.000       0.260       0.634\n",
            "ma.L2.returns    -0.0637      0.015     -4.113      0.000      -0.094      -0.033\n",
            "ma.L3.returns    -0.1182      0.014     -8.200      0.000      -0.146      -0.090\n",
            "                                    Roots                                    \n",
            "=============================================================================\n",
            "                  Real          Imaginary           Modulus         Frequency\n",
            "-----------------------------------------------------------------------------\n",
            "AR.1           -2.1282           +0.0000j            2.1282            0.5000\n",
            "MA.1           -1.4882           -1.1206j            1.8629           -0.3973\n",
            "MA.2           -1.4882           +1.1206j            1.8629            0.3973\n",
            "MA.3            2.4376           -0.0000j            2.4376           -0.0000\n",
            "-----------------------------------------------------------------------------\n"
          ]
        }
      ]
    },
    {
      "cell_type": "code",
      "source": [
        "print(\"\\n ARMA(3,2): \\tLL = \", results_ret_ar_3_ma_2.llf,\"\\tAIC = \", results_ret_ar_3_ma_2.aic)\n",
        "print(\"\\n ARMA(1,3): \\tLL = \",results_ret_ar_1_ma_3.llf ,\"\\tAIC = \", results_ret_ar_1_ma_3.aic)"
      ],
      "metadata": {
        "colab": {
          "base_uri": "https://localhost:8080/"
        },
        "id": "e7_8tgzoI1oN",
        "outputId": "a3ac86ce-de1f-4c65-a508-05512f921f19"
      },
      "execution_count": 31,
      "outputs": [
        {
          "output_type": "stream",
          "name": "stdout",
          "text": [
            "\n",
            " ARMA(3,2): \tLL =  -7895.747458514506 \tAIC =  15805.494917029013\n",
            "\n",
            " ARMA(1,3): \tLL =  -7896.837893752919 \tAIC =  15805.675787505837\n"
          ]
        }
      ]
    },
    {
      "cell_type": "markdown",
      "source": [
        "## Residuals for Return"
      ],
      "metadata": {
        "id": "LiNAyVMbKi9o"
      }
    },
    {
      "cell_type": "code",
      "source": [
        "df['res_ret_ar_3_ma_2'] = results_ret_ar_3_ma_2.resid[1:]"
      ],
      "metadata": {
        "id": "WTshyuNtJozf"
      },
      "execution_count": 32,
      "outputs": []
    },
    {
      "cell_type": "code",
      "source": [
        "df.res_ret_ar_3_ma_2[1:].plot(figsize=(20,5))\n",
        "plt.title(\"Residuals of Returns\", size = 24)\n",
        "plt.show()"
      ],
      "metadata": {
        "colab": {
          "base_uri": "https://localhost:8080/",
          "height": 364
        },
        "id": "1ubH3q0hK0S_",
        "outputId": "881a6938-8694-4937-a6b4-d48234eaa2cd"
      },
      "execution_count": 33,
      "outputs": [
        {
          "output_type": "display_data",
          "data": {
            "text/plain": [
              "<Figure size 1440x360 with 1 Axes>"
            ],
            "image/png": "[encoded data removed]"
          },
          "metadata": {}
        }
      ]
    },
    {
      "cell_type": "code",
      "source": [
        "sgt.plot_acf(df.res_ret_ar_3_ma_2[2:], lags = 40, zero= False)\n",
        "plt.title(\"ACF of Residuals for Returns\",size=24)\n",
        "plt.show()"
      ],
      "metadata": {
        "colab": {
          "base_uri": "https://localhost:8080/",
          "height": 293
        },
        "id": "RpurQJE7K8ST",
        "outputId": "405c96a0-6c0e-4445-c803-0e7475505dc5"
      },
      "execution_count": 35,
      "outputs": [
        {
          "output_type": "display_data",
          "data": {
            "text/plain": [
              "<Figure size 432x288 with 1 Axes>"
            ],
            "image/png": "[encoded data removed]"
          },
          "metadata": {}
        }
      ]
    },
    {
      "cell_type": "markdown",
      "source": [
        "##Reevaluating Model Selection"
      ],
      "metadata": {
        "id": "lOKHmNumLgpJ"
      }
    },
    {
      "cell_type": "code",
      "source": [
        "model_ret_ar_5_ma_5 = ARMA(df.returns[1:], order=(5,5))\n",
        "results_ret_ar_5_ma_5 = model_ret_ar_5_ma_5.fit()\n",
        "print(results_ret_ar_5_ma_5.summary())"
      ],
      "metadata": {
        "colab": {
          "base_uri": "https://localhost:8080/"
        },
        "id": "0niCDYbDLJvp",
        "outputId": "472eb414-02d5-40b9-c2a3-dd5f8dbd9994"
      },
      "execution_count": 36,
      "outputs": [
        {
          "output_type": "stream",
          "name": "stdout",
          "text": [
            "                              ARMA Model Results                              \n",
            "==============================================================================\n",
            "Dep. Variable:                returns   No. Observations:                 5020\n",
            "Model:                     ARMA(5, 5)   Log Likelihood               -7882.160\n",
            "Method:                       css-mle   S.D. of innovations              1.163\n",
            "Date:                Fri, 11 Nov 2022   AIC                          15788.321\n",
            "Time:                        10:14:32   BIC                          15866.575\n",
            "Sample:                    01-10-1994   HQIC                         15815.742\n",
            "                         - 04-05-2013                                         \n",
            "=================================================================================\n",
            "                    coef    std err          z      P>|z|      [0.025      0.975]\n",
            "---------------------------------------------------------------------------------\n",
            "const             0.0189      0.013      1.402      0.161      -0.008       0.045\n",
            "ar.L1.returns    -0.0684      0.140     -0.490      0.624      -0.342       0.205\n",
            "ar.L2.returns    -0.6722      0.146     -4.603      0.000      -0.958      -0.386\n",
            "ar.L3.returns    -0.1152      0.141     -0.817      0.414      -0.392       0.161\n",
            "ar.L4.returns     0.1779      0.129      1.381      0.167      -0.075       0.430\n",
            "ar.L5.returns     0.1215      0.107      1.132      0.258      -0.089       0.332\n",
            "ma.L1.returns     0.0443      0.138      0.322      0.748      -0.226       0.314\n",
            "ma.L2.returns     0.6223      0.144      4.321      0.000       0.340       0.905\n",
            "ma.L3.returns     0.0107      0.136      0.079      0.937      -0.256       0.277\n",
            "ma.L4.returns    -0.1753      0.122     -1.436      0.151      -0.415       0.064\n",
            "ma.L5.returns    -0.2240      0.104     -2.148      0.032      -0.428      -0.020\n",
            "                                    Roots                                    \n",
            "=============================================================================\n",
            "                  Real          Imaginary           Modulus         Frequency\n",
            "-----------------------------------------------------------------------------\n",
            "AR.1            0.0870           -1.0364j            1.0401           -0.2367\n",
            "AR.2            0.0870           +1.0364j            1.0401            0.2367\n",
            "AR.3            1.7715           -0.0000j            1.7715           -0.0000\n",
            "AR.4           -1.7050           -1.1784j            2.0726           -0.4038\n",
            "AR.5           -1.7050           +1.1784j            2.0726            0.4038\n",
            "MA.1            0.1033           -1.0434j            1.0485           -0.2343\n",
            "MA.2            0.1033           +1.0434j            1.0485            0.2343\n",
            "MA.3            1.4855           -0.0000j            1.4855           -0.0000\n",
            "MA.4           -1.2373           -1.0965j            1.6532           -0.3846\n",
            "MA.5           -1.2373           +1.0965j            1.6532            0.3846\n",
            "-----------------------------------------------------------------------------\n"
          ]
        }
      ]
    },
    {
      "cell_type": "code",
      "source": [
        "model_ret_ar_5_ma_1 = ARMA(df.returns[1:], order=(5,1))\n",
        "results_ret_ar_5_ma_1 = model_ret_ar_5_ma_1.fit()\n",
        "print(results_ret_ar_5_ma_1.summary())"
      ],
      "metadata": {
        "colab": {
          "base_uri": "https://localhost:8080/"
        },
        "id": "49IlTs7lLs7k",
        "outputId": "6ac1fbf0-2621-4c64-f0bb-ad4a8b498a48"
      },
      "execution_count": 37,
      "outputs": [
        {
          "output_type": "stream",
          "name": "stdout",
          "text": [
            "                              ARMA Model Results                              \n",
            "==============================================================================\n",
            "Dep. Variable:                returns   No. Observations:                 5020\n",
            "Model:                     ARMA(5, 1)   Log Likelihood               -7889.311\n",
            "Method:                       css-mle   S.D. of innovations              1.165\n",
            "Date:                Fri, 11 Nov 2022   AIC                          15794.623\n",
            "Time:                        10:15:45   BIC                          15846.792\n",
            "Sample:                    01-10-1994   HQIC                         15812.903\n",
            "                         - 04-05-2013                                         \n",
            "=================================================================================\n",
            "                    coef    std err          z      P>|z|      [0.025      0.975]\n",
            "---------------------------------------------------------------------------------\n",
            "const             0.0189      0.013      1.407      0.159      -0.007       0.045\n",
            "ar.L1.returns     0.3440      0.131      2.624      0.009       0.087       0.601\n",
            "ar.L2.returns    -0.0458      0.015     -3.005      0.003      -0.076      -0.016\n",
            "ar.L3.returns    -0.0652      0.016     -4.010      0.000      -0.097      -0.033\n",
            "ar.L4.returns     0.0741      0.018      4.068      0.000       0.038       0.110\n",
            "ar.L5.returns    -0.0813      0.014     -5.688      0.000      -0.109      -0.053\n",
            "ma.L1.returns    -0.3673      0.131     -2.801      0.005      -0.624      -0.110\n",
            "                                    Roots                                    \n",
            "=============================================================================\n",
            "                  Real          Imaginary           Modulus         Frequency\n",
            "-----------------------------------------------------------------------------\n",
            "AR.1           -1.6158           -0.0000j            1.6158           -0.5000\n",
            "AR.2            1.3793           -0.8613j            1.6261           -0.0888\n",
            "AR.3            1.3793           +0.8613j            1.6261            0.0888\n",
            "AR.4           -0.1156           -1.6929j            1.6968           -0.2608\n",
            "AR.5           -0.1156           +1.6929j            1.6968            0.2608\n",
            "MA.1            2.7223           +0.0000j            2.7223            0.0000\n",
            "-----------------------------------------------------------------------------\n"
          ]
        }
      ]
    },
    {
      "cell_type": "code",
      "source": [
        "model_ret_ar_1_ma_5 = ARMA(df.returns[1:], order=(1,5))\n",
        "results_ret_ar_1_ma_5 = model_ret_ar_1_ma_5.fit()\n",
        "print(results_ret_ar_1_ma_5.summary())"
      ],
      "metadata": {
        "colab": {
          "base_uri": "https://localhost:8080/"
        },
        "id": "ssGZ4MWyMB7D",
        "outputId": "7fe5b681-6c80-44bd-eae6-f5b9eb442b8d"
      },
      "execution_count": 38,
      "outputs": [
        {
          "output_type": "stream",
          "name": "stdout",
          "text": [
            "                              ARMA Model Results                              \n",
            "==============================================================================\n",
            "Dep. Variable:                returns   No. Observations:                 5020\n",
            "Model:                     ARMA(1, 5)   Log Likelihood               -7890.973\n",
            "Method:                       css-mle   S.D. of innovations              1.165\n",
            "Date:                Fri, 11 Nov 2022   AIC                          15797.947\n",
            "Time:                        10:16:29   BIC                          15850.116\n",
            "Sample:                    01-10-1994   HQIC                         15816.228\n",
            "                         - 04-05-2013                                         \n",
            "=================================================================================\n",
            "                    coef    std err          z      P>|z|      [0.025      0.975]\n",
            "---------------------------------------------------------------------------------\n",
            "const             0.0189      0.013      1.419      0.156      -0.007       0.045\n",
            "ar.L1.returns     0.3285      0.152      2.159      0.031       0.030       0.627\n",
            "ma.L1.returns    -0.3534      0.152     -2.332      0.020      -0.650      -0.056\n",
            "ma.L2.returns    -0.0404      0.015     -2.624      0.009      -0.071      -0.010\n",
            "ma.L3.returns    -0.0679      0.017     -4.022      0.000      -0.101      -0.035\n",
            "ma.L4.returns     0.0742      0.020      3.771      0.000       0.036       0.113\n",
            "ma.L5.returns    -0.0683      0.015     -4.660      0.000      -0.097      -0.040\n",
            "                                    Roots                                    \n",
            "=============================================================================\n",
            "                  Real          Imaginary           Modulus         Frequency\n",
            "-----------------------------------------------------------------------------\n",
            "AR.1            3.0443           +0.0000j            3.0443            0.0000\n",
            "MA.1           -1.1897           -1.1548j            1.6580           -0.3774\n",
            "MA.2           -1.1897           +1.1548j            1.6580            0.3774\n",
            "MA.3            1.5041           -0.0000j            1.5041           -0.0000\n",
            "MA.4            0.9809           -1.6057j            1.8815           -0.1627\n",
            "MA.5            0.9809           +1.6057j            1.8815            0.1627\n",
            "-----------------------------------------------------------------------------\n"
          ]
        }
      ]
    },
    {
      "cell_type": "code",
      "source": [
        "print(\"\\n ARMA(5,1): \\tLL = \", results_ret_ar_5_ma_1.llf,\"\\tAIC = \", results_ret_ar_5_ma_1.aic)\n",
        "print(\"\\n ARMA(1,5): \\tLL = \",results_ret_ar_1_ma_5.llf ,\"\\tAIC = \", results_ret_ar_1_ma_5.aic)"
      ],
      "metadata": {
        "colab": {
          "base_uri": "https://localhost:8080/"
        },
        "id": "heP08yroMMt6",
        "outputId": "2d246cd5-d0df-450e-801a-2e3494e09e41"
      },
      "execution_count": 39,
      "outputs": [
        {
          "output_type": "stream",
          "name": "stdout",
          "text": [
            "\n",
            " ARMA(5,1): \tLL =  -7889.31128294623 \tAIC =  15794.62256589246\n",
            "\n",
            " ARMA(1,5): \tLL =  -7890.973460209589 \tAIC =  15797.946920419177\n"
          ]
        }
      ]
    },
    {
      "cell_type": "code",
      "source": [
        "print(\"\\n ARMA(3,2): \\tLL = \",results_ret_ar_3_ma_2.llf ,\"\\tAIC = \", results_ret_ar_3_ma_2.aic)"
      ],
      "metadata": {
        "colab": {
          "base_uri": "https://localhost:8080/"
        },
        "id": "gkW-no0YMbMS",
        "outputId": "de179a63-007c-44ba-f6a9-ddc126bda26c"
      },
      "execution_count": 40,
      "outputs": [
        {
          "output_type": "stream",
          "name": "stdout",
          "text": [
            "\n",
            " ARMA(3,2): \tLL =  -7895.747458514506 \tAIC =  15805.494917029013\n"
          ]
        }
      ]
    },
    {
      "cell_type": "markdown",
      "source": [
        "## Residuals for the New Model"
      ],
      "metadata": {
        "id": "Df02jCEiNMFh"
      }
    },
    {
      "cell_type": "code",
      "source": [
        "df['res_ret_ar_5_ma_1'] = results_ret_ar_5_ma_1.resid[1:]"
      ],
      "metadata": {
        "id": "DeH-ZUapM0R6"
      },
      "execution_count": 41,
      "outputs": []
    },
    {
      "cell_type": "code",
      "source": [
        "sgt.plot_acf(df.res_ret_ar_5_ma_1[2:], lags = 40, zero= False)\n",
        "plt.title(\"ACF of Residuals for Returns\",size=24)\n",
        "plt.show()"
      ],
      "metadata": {
        "colab": {
          "base_uri": "https://localhost:8080/",
          "height": 293
        },
        "id": "WBve5JauNWfu",
        "outputId": "2fac55e7-1479-4c7f-f708-3d6d8a0906b5"
      },
      "execution_count": 43,
      "outputs": [
        {
          "output_type": "display_data",
          "data": {
            "text/plain": [
              "<Figure size 432x288 with 1 Axes>"
            ],
            "image/png": "[encoded data removed]"
          },
          "metadata": {}
        }
      ]
    },
    {
      "cell_type": "markdown",
      "source": [
        "## ARMA Models for Prices"
      ],
      "metadata": {
        "id": "f8M4kx-APQsJ"
      }
    },
    {
      "cell_type": "code",
      "source": [
        "sgt.plot_acf(df.market_value, unbiased=True, lags = 40, zero= False)\n",
        "plt.title(\"ACF for Prices\",size=24)\n",
        "plt.show()"
      ],
      "metadata": {
        "colab": {
          "base_uri": "https://localhost:8080/",
          "height": 293
        },
        "id": "ZaRd8bFhNf_I",
        "outputId": "13d61c73-3981-48a7-ebcb-8db798062ee2"
      },
      "execution_count": 44,
      "outputs": [
        {
          "output_type": "display_data",
          "data": {
            "text/plain": [
              "<Figure size 432x288 with 1 Axes>"
            ],
            "image/png": "[encoded data removed]"
          },
          "metadata": {}
        }
      ]
    },
    {
      "cell_type": "code",
      "source": [
        "sgt.plot_pacf(df.market_value, alpha=0.05, lags = 40, zero= False, method=(\"ols\"))\n",
        "plt.title(\"PACF for Prices\",size=24)\n",
        "plt.show()"
      ],
      "metadata": {
        "colab": {
          "base_uri": "https://localhost:8080/",
          "height": 293
        },
        "id": "6jFeLDUoPf5P",
        "outputId": "af80e4a6-48fc-4151-c2ab-01367378d747"
      },
      "execution_count": 45,
      "outputs": [
        {
          "output_type": "display_data",
          "data": {
            "text/plain": [
              "<Figure size 432x288 with 1 Axes>"
            ],
            "image/png": "[encoded data removed]"
          },
          "metadata": {}
        }
      ]
    },
    {
      "cell_type": "code",
      "source": [
        "model_ar_1_ma_1 = ARMA(df.market_value, order=(1,1))\n",
        "results_ar_1_ma_1 = model_ar_1_ma_1.fit()\n",
        "print(results_ar_1_ma_1.summary())"
      ],
      "metadata": {
        "colab": {
          "base_uri": "https://localhost:8080/"
        },
        "id": "iVmj4KP7QG0u",
        "outputId": "adce4245-e7a2-4e11-9e76-8fdd89ad5997"
      },
      "execution_count": 48,
      "outputs": [
        {
          "output_type": "stream",
          "name": "stdout",
          "text": [
            "                              ARMA Model Results                              \n",
            "==============================================================================\n",
            "Dep. Variable:           market_value   No. Observations:                 5021\n",
            "Model:                     ARMA(1, 1)   Log Likelihood              -27621.784\n",
            "Method:                       css-mle   S.D. of innovations             59.248\n",
            "Date:                Fri, 11 Nov 2022   AIC                          55251.568\n",
            "Time:                        10:37:27   BIC                          55277.654\n",
            "Sample:                    01-07-1994   HQIC                         55260.709\n",
            "                         - 04-05-2013                                         \n",
            "======================================================================================\n",
            "                         coef    std err          z      P>|z|      [0.025      0.975]\n",
            "--------------------------------------------------------------------------------------\n",
            "const               5031.5678    496.810     10.128      0.000    4057.837    6005.298\n",
            "ar.L1.market_value     0.9985      0.001   1324.999      0.000       0.997       1.000\n",
            "ma.L1.market_value    -0.0190      0.015     -1.274      0.203      -0.048       0.010\n",
            "                                    Roots                                    \n",
            "=============================================================================\n",
            "                  Real          Imaginary           Modulus         Frequency\n",
            "-----------------------------------------------------------------------------\n",
            "AR.1            1.0015           +0.0000j            1.0015            0.0000\n",
            "MA.1           52.5113           +0.0000j           52.5113            0.0000\n",
            "-----------------------------------------------------------------------------\n"
          ]
        }
      ]
    },
    {
      "cell_type": "code",
      "source": [
        "df['res_ar_1_ma_1'] = results_ar_1_ma_1.resid"
      ],
      "metadata": {
        "id": "tyPphMc_Qolr"
      },
      "execution_count": 49,
      "outputs": []
    },
    {
      "cell_type": "code",
      "source": [
        "sgt.plot_acf(df.res_ar_1_ma_1, unbiased=True, lags = 40, zero= False)\n",
        "plt.title(\"ACF of Residuals of Prices\",size=24)\n",
        "plt.show()"
      ],
      "metadata": {
        "colab": {
          "base_uri": "https://localhost:8080/",
          "height": 293
        },
        "id": "xBcYpUmoQ6kU",
        "outputId": "1d527297-c196-4ee8-9637-d3ff20c4f116"
      },
      "execution_count": 50,
      "outputs": [
        {
          "output_type": "display_data",
          "data": {
            "text/plain": [
              "<Figure size 432x288 with 1 Axes>"
            ],
            "image/png": "[encoded data removed]"
          },
          "metadata": {}
        }
      ]
    },
    {
      "cell_type": "code",
      "source": [
        "model_ar_6_ma_6 = ARMA(df.market_value, order=(6,6))\n",
        "results_ar_6_ma_6 = model_ar_6_ma_6.fit(start_ar_lags=11)\n",
        "print(results_ar_6_ma_6.summary())"
      ],
      "metadata": {
        "colab": {
          "base_uri": "https://localhost:8080/"
        },
        "id": "PBS4JmlORJ4b",
        "outputId": "a9d4c13f-1850-4388-f9ce-2e29184abd83"
      },
      "execution_count": 56,
      "outputs": [
        {
          "output_type": "stream",
          "name": "stdout",
          "text": [
            "                              ARMA Model Results                              \n",
            "==============================================================================\n",
            "Dep. Variable:           market_value   No. Observations:                 5021\n",
            "Model:                     ARMA(6, 6)   Log Likelihood              -27587.932\n",
            "Method:                       css-mle   S.D. of innovations             58.849\n",
            "Date:                Fri, 11 Nov 2022   AIC                          55203.864\n",
            "Time:                        10:41:20   BIC                          55295.164\n",
            "Sample:                    01-07-1994   HQIC                         55235.856\n",
            "                         - 04-05-2013                                         \n",
            "======================================================================================\n",
            "                         coef    std err          z      P>|z|      [0.025      0.975]\n",
            "--------------------------------------------------------------------------------------\n",
            "const               5089.6488    568.148      8.958      0.000    3976.100    6203.198\n",
            "ar.L1.market_value     1.9272      0.032     59.876      0.000       1.864       1.990\n",
            "ar.L2.market_value    -1.7356      0.040    -43.336      0.000      -1.814      -1.657\n",
            "ar.L3.market_value     1.2677      0.034     36.798      0.000       1.200       1.335\n",
            "ar.L4.market_value    -0.2375      0.156     -1.522      0.128      -0.543       0.068\n",
            "ar.L5.market_value    -0.4059      0.163     -2.486      0.013      -0.726      -0.086\n",
            "ar.L6.market_value     0.1837      0.049      3.761      0.000       0.088       0.279\n",
            "ma.L1.market_value    -0.9483      0.035    -27.015      0.000      -1.017      -0.879\n",
            "ma.L2.market_value     0.7799      0.032     24.189      0.000       0.717       0.843\n",
            "ma.L3.market_value    -0.5084      0.031    -16.320      0.000      -0.569      -0.447\n",
            "ma.L4.market_value    -0.1561      0.157     -0.996      0.319      -0.463       0.151\n",
            "ma.L5.market_value     0.0949      0.057      1.675      0.094      -0.016       0.206\n",
            "ma.L6.market_value     0.0670      0.024      2.823      0.005       0.020       0.114\n",
            "                                    Roots                                    \n",
            "=============================================================================\n",
            "                  Real          Imaginary           Modulus         Frequency\n",
            "-----------------------------------------------------------------------------\n",
            "AR.1            0.0857           -1.0502j            1.0537           -0.2370\n",
            "AR.2            0.0857           +1.0502j            1.0537            0.2370\n",
            "AR.3           -2.0264           -0.0000j            2.0264           -0.5000\n",
            "AR.4            1.0011           -0.0000j            1.0011           -0.0000\n",
            "AR.5            1.5318           -0.2659j            1.5548           -0.0274\n",
            "AR.6            1.5318           +0.2659j            1.5548            0.0274\n",
            "MA.1            0.1028           -1.0612j            1.0662           -0.2346\n",
            "MA.2            0.1028           +1.0612j            1.0662            0.2346\n",
            "MA.3            1.3629           -0.2791j            1.3912           -0.0322\n",
            "MA.4            1.3629           +0.2791j            1.3912            0.0322\n",
            "MA.5           -2.1740           -1.4344j            2.6046           -0.4072\n",
            "MA.6           -2.1740           +1.4344j            2.6046            0.4072\n",
            "-----------------------------------------------------------------------------\n"
          ]
        }
      ]
    },
    {
      "cell_type": "code",
      "source": [
        "model_ar_5_ma_6 = ARMA(df.market_value, order=(5,6))\n",
        "results_ar_5_ma_6 = model_ar_5_ma_6.fit(start_ar_lags=7)\n",
        "print(results_ar_5_ma_6.summary())"
      ],
      "metadata": {
        "colab": {
          "base_uri": "https://localhost:8080/"
        },
        "id": "4tWQZ8XWRcFz",
        "outputId": "5943cd60-b794-46af-ac49-a8c41b6ddbe9"
      },
      "execution_count": 57,
      "outputs": [
        {
          "output_type": "stream",
          "name": "stdout",
          "text": [
            "                              ARMA Model Results                              \n",
            "==============================================================================\n",
            "Dep. Variable:           market_value   No. Observations:                 5021\n",
            "Model:                     ARMA(5, 6)   Log Likelihood              -27587.863\n",
            "Method:                       css-mle   S.D. of innovations             58.849\n",
            "Date:                Fri, 11 Nov 2022   AIC                          55201.726\n",
            "Time:                        10:43:13   BIC                          55286.504\n",
            "Sample:                    01-07-1994   HQIC                         55231.433\n",
            "                         - 04-05-2013                                         \n",
            "======================================================================================\n",
            "                         coef    std err          z      P>|z|      [0.025      0.975]\n",
            "--------------------------------------------------------------------------------------\n",
            "const               5089.6464    580.870      8.762      0.000    3951.163    6228.130\n",
            "ar.L1.market_value     1.3584      0.177      7.655      0.000       1.011       1.706\n",
            "ar.L2.market_value    -1.1288      0.237     -4.763      0.000      -1.593      -0.664\n",
            "ar.L3.market_value     0.9146      0.228      4.003      0.000       0.467       1.362\n",
            "ar.L4.market_value     0.0160      0.204      0.078      0.937      -0.383       0.415\n",
            "ar.L5.market_value    -0.1613      0.119     -1.353      0.176      -0.395       0.072\n",
            "ma.L1.market_value    -0.3795      0.178     -2.133      0.033      -0.728      -0.031\n",
            "ma.L2.market_value     0.7293      0.125      5.833      0.000       0.484       0.974\n",
            "ma.L3.market_value    -0.2197      0.153     -1.438      0.151      -0.519       0.080\n",
            "ma.L4.market_value    -0.1387      0.114     -1.216      0.224      -0.362       0.085\n",
            "ma.L5.market_value    -0.0879      0.017     -5.325      0.000      -0.120      -0.056\n",
            "ma.L6.market_value     0.0265      0.024      1.128      0.259      -0.020       0.073\n",
            "                                    Roots                                    \n",
            "=============================================================================\n",
            "                  Real          Imaginary           Modulus         Frequency\n",
            "-----------------------------------------------------------------------------\n",
            "AR.1            0.0917           -1.0418j            1.0459           -0.2360\n",
            "AR.2            0.0917           +1.0418j            1.0459            0.2360\n",
            "AR.3            1.0010           -0.0000j            1.0010           -0.0000\n",
            "AR.4            1.8980           -0.0000j            1.8980           -0.0000\n",
            "AR.5           -2.9835           -0.0000j            2.9835           -0.5000\n",
            "MA.1            0.1071           -1.0487j            1.0542           -0.2338\n",
            "MA.2            0.1071           +1.0487j            1.0542            0.2338\n",
            "MA.3           -1.5354           -1.5156j            2.1574           -0.3760\n",
            "MA.4           -1.5354           +1.5156j            2.1574            0.3760\n",
            "MA.5            1.5919           -0.0000j            1.5919           -0.0000\n",
            "MA.6            4.5792           -0.0000j            4.5792           -0.0000\n",
            "-----------------------------------------------------------------------------\n"
          ]
        }
      ]
    },
    {
      "cell_type": "code",
      "source": [
        "model_ar_6_ma_1 = ARMA(df.market_value, order=(6,1))\n",
        "results_ar_6_ma_1 = model_ar_6_ma_1.fit(start_ar_lags=7)\n",
        "print(results_ar_6_ma_1.summary())"
      ],
      "metadata": {
        "colab": {
          "base_uri": "https://localhost:8080/"
        },
        "id": "7ic-L5XDSSI6",
        "outputId": "0562ec95-df5d-4dc9-8ee3-7233968eda96"
      },
      "execution_count": 58,
      "outputs": [
        {
          "output_type": "stream",
          "name": "stdout",
          "text": [
            "                              ARMA Model Results                              \n",
            "==============================================================================\n",
            "Dep. Variable:           market_value   No. Observations:                 5021\n",
            "Model:                     ARMA(6, 1)   Log Likelihood              -27594.195\n",
            "Method:                       css-mle   S.D. of innovations             58.923\n",
            "Date:                Fri, 11 Nov 2022   AIC                          55206.389\n",
            "Time:                        10:44:34   BIC                          55265.082\n",
            "Sample:                    01-07-1994   HQIC                         55226.956\n",
            "                         - 04-05-2013                                         \n",
            "======================================================================================\n",
            "                         coef    std err          z      P>|z|      [0.025      0.975]\n",
            "--------------------------------------------------------------------------------------\n",
            "const               5089.6419    586.495      8.678      0.000    3940.133    6239.151\n",
            "ar.L1.market_value     1.3921      0.058     23.929      0.000       1.278       1.506\n",
            "ar.L2.market_value    -0.4369      0.059     -7.400      0.000      -0.553      -0.321\n",
            "ar.L3.market_value    -0.0101      0.025     -0.409      0.683      -0.059       0.038\n",
            "ar.L4.market_value     0.1126      0.025      4.527      0.000       0.064       0.161\n",
            "ar.L5.market_value    -0.1158      0.025     -4.717      0.000      -0.164      -0.068\n",
            "ar.L6.market_value     0.0573      0.014      4.067      0.000       0.030       0.085\n",
            "ma.L1.market_value    -0.4127      0.060     -6.925      0.000      -0.529      -0.296\n",
            "                                    Roots                                    \n",
            "=============================================================================\n",
            "                  Real          Imaginary           Modulus         Frequency\n",
            "-----------------------------------------------------------------------------\n",
            "AR.1            1.0010           -0.0000j            1.0010           -0.0000\n",
            "AR.2           -1.7608           -0.0000j            1.7608           -0.5000\n",
            "AR.3           -0.0803           -1.8407j            1.8425           -0.2569\n",
            "AR.4           -0.0803           +1.8407j            1.8425            0.2569\n",
            "AR.5            1.4694           -0.8691j            1.7072           -0.0850\n",
            "AR.6            1.4694           +0.8691j            1.7072            0.0850\n",
            "MA.1            2.4233           +0.0000j            2.4233            0.0000\n",
            "-----------------------------------------------------------------------------\n"
          ]
        }
      ]
    },
    {
      "cell_type": "code",
      "source": [
        "print(\"\\n ARMA(5,6): \\tLL = \", results_ar_5_ma_6.llf,\"\\tAIC = \", results_ar_5_ma_6.aic)\n",
        "print(\"\\n ARMA(6,1): \\tLL = \",results_ar_6_ma_1.llf ,\"\\tAIC = \", results_ar_6_ma_1.aic)"
      ],
      "metadata": {
        "colab": {
          "base_uri": "https://localhost:8080/"
        },
        "id": "ixYDC_GdSn5k",
        "outputId": "33c49f6f-737f-4d5a-c5c7-2991c57f3fb5"
      },
      "execution_count": 60,
      "outputs": [
        {
          "output_type": "stream",
          "name": "stdout",
          "text": [
            "\n",
            " ARMA(5,6): \tLL =  -27587.86294825482 \tAIC =  55201.72589650964\n",
            "\n",
            " ARMA(6,1): \tLL =  -27594.19457096373 \tAIC =  55206.38914192746\n"
          ]
        }
      ]
    },
    {
      "cell_type": "code",
      "source": [
        "df['res_ar_5_ma_6'] = results_ar_5_ma_6.resid\n",
        "sgt.plot_acf(df.res_ar_5_ma_6, unbiased=True, lags = 40, zero= False)\n",
        "plt.title(\"ACF of Residuals of Prices\",size=24)\n",
        "plt.show()"
      ],
      "metadata": {
        "colab": {
          "base_uri": "https://localhost:8080/",
          "height": 293
        },
        "id": "atlLh-M2S39D",
        "outputId": "1a7eb509-762d-4d4e-9bae-a0848667f730"
      },
      "execution_count": 61,
      "outputs": [
        {
          "output_type": "display_data",
          "data": {
            "text/plain": [
              "<Figure size 432x288 with 1 Axes>"
            ],
            "image/png": "[encoded data removed]"
          },
          "metadata": {}
        }
      ]
    },
    {
      "cell_type": "markdown",
      "source": [
        "## ARMA for Returns vs ARMA for Prices"
      ],
      "metadata": {
        "id": "ERIPWXrNTm6_"
      }
    },
    {
      "cell_type": "code",
      "source": [
        "print(\"\\n ARMA(5,6): \\tLL = \", results_ar_5_ma_6.llf,\"\\tAIC = \", results_ar_5_ma_6.aic)\n",
        "print(\"\\n ARMA(5,1): \\tLL = \",results_ret_ar_5_ma_1.llf ,\"\\tAIC = \", results_ret_ar_5_ma_1.aic)"
      ],
      "metadata": {
        "colab": {
          "base_uri": "https://localhost:8080/"
        },
        "id": "s1q-jfK-TWg_",
        "outputId": "d72675d3-9650-47c4-f60a-b3c2ec8d49c3"
      },
      "execution_count": 62,
      "outputs": [
        {
          "output_type": "stream",
          "name": "stdout",
          "text": [
            "\n",
            " ARMA(5,6): \tLL =  -27587.86294825482 \tAIC =  55201.72589650964\n",
            "\n",
            " ARMA(5,1): \tLL =  -7889.31128294623 \tAIC =  15794.62256589246\n"
          ]
        }
      ]
    },
    {
      "cell_type": "code",
      "source": [],
      "metadata": {
        "id": "RaYjfZ3BT2V_"
      },
      "execution_count": null,
      "outputs": []
    }
  ]
}