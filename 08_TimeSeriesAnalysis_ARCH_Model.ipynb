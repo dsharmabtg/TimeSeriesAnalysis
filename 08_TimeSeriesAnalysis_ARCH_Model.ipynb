{
  "nbformat": 4,
  "nbformat_minor": 0,
  "metadata": {
    "colab": {
      "provenance": []
    },
    "kernelspec": {
      "name": "python3",
      "display_name": "Python 3"
    },
    "language_info": {
      "name": "python"
    }
  },
  "cells": [
    {
      "cell_type": "markdown",
      "source": [
        "## Importing the relevant packages"
      ],
      "metadata": {
        "id": "3HZgCo9tnwRE"
      }
    },
    {
      "cell_type": "code",
      "execution_count": 21,
      "metadata": {
        "id": "gRgHKmmOnpb5"
      },
      "outputs": [],
      "source": [
        "import pandas as pd\n",
        "import numpy as np\n",
        "import matplotlib.pyplot as plt\n",
        "import statsmodels.graphics.tsaplots as sgt\n",
        "import statsmodels.tsa.stattools as sts\n",
        "from statsmodels.tsa.arima_model import ARIMA\n",
        "from scipy.stats.distributions import chi2\n",
        "from arch import arch_model\n",
        "import seaborn as sns\n",
        "import warnings\n",
        "warnings.filterwarnings(\"ignore\")\n",
        "sns.set()"
      ]
    },
    {
      "cell_type": "markdown",
      "source": [
        "## Importing the Data and Preprocessing"
      ],
      "metadata": {
        "id": "lU2kgTOXn1nR"
      }
    },
    {
      "cell_type": "code",
      "source": [
        "raw_csv_data = pd.read_csv(\"/content/Index2018.csv\")\n",
        "df_comp = raw_csv_data.copy()\n",
        "df_comp.date = pd.to_datetime(df_comp.date, dayfirst = True)\n",
        "df_comp.set_index(\"date\",inplace=True)\n",
        "df_comp = df_comp.asfreq(\"b\")\n",
        "df_comp = df_comp.fillna(method=\"ffill\")"
      ],
      "metadata": {
        "id": "81BKpwdfnzFE"
      },
      "execution_count": 2,
      "outputs": []
    },
    {
      "cell_type": "code",
      "source": [
        "df_comp['market_value'] = df_comp.ftse"
      ],
      "metadata": {
        "id": "s7jOZibbn6OX"
      },
      "execution_count": 3,
      "outputs": []
    },
    {
      "cell_type": "code",
      "source": [
        "df_comp.head()"
      ],
      "metadata": {
        "colab": {
          "base_uri": "https://localhost:8080/",
          "height": 237
        },
        "id": "l55dNJEUn9IG",
        "outputId": "bb7260a2-be18-4be9-edd6-d5b2b526ae0e"
      },
      "execution_count": 4,
      "outputs": [
        {
          "output_type": "execute_result",
          "data": {
            "text/plain": [
              "               spx      dax     ftse    nikkei  market_value\n",
              "date                                                        \n",
              "1994-01-07  469.90  2224.95  3445.98  18124.01       3445.98\n",
              "1994-01-10  475.27  2225.00  3440.58  18443.44       3440.58\n",
              "1994-01-11  474.13  2228.10  3413.77  18485.25       3413.77\n",
              "1994-01-12  474.17  2182.06  3372.02  18793.88       3372.02\n",
              "1994-01-13  472.47  2142.37  3360.01  18577.26       3360.01"
            ],
            "text/html": [
              "\n",
              "  <div id=\"df-ca373a91-2e2d-477f-807a-4bddfbf96d91\">\n",
              "    <div class=\"colab-df-container\">\n",
              "      <div>\n",
              "<style scoped>\n",
              "    .dataframe tbody tr th:only-of-type {\n",
              "        vertical-align: middle;\n",
              "    }\n",
              "\n",
              "    .dataframe tbody tr th {\n",
              "        vertical-align: top;\n",
              "    }\n",
              "\n",
              "    .dataframe thead th {\n",
              "        text-align: right;\n",
              "    }\n",
              "</style>\n",
              "<table border=\"1\" class=\"dataframe\">\n",
              "  <thead>\n",
              "    <tr style=\"text-align: right;\">\n",
              "      <th></th>\n",
              "      <th>spx</th>\n",
              "      <th>dax</th>\n",
              "      <th>ftse</th>\n",
              "      <th>nikkei</th>\n",
              "      <th>market_value</th>\n",
              "    </tr>\n",
              "    <tr>\n",
              "      <th>date</th>\n",
              "      <th></th>\n",
              "      <th></th>\n",
              "      <th></th>\n",
              "      <th></th>\n",
              "      <th></th>\n",
              "    </tr>\n",
              "  </thead>\n",
              "  <tbody>\n",
              "    <tr>\n",
              "      <th>1994-01-07</th>\n",
              "      <td>469.90</td>\n",
              "      <td>2224.95</td>\n",
              "      <td>3445.98</td>\n",
              "      <td>18124.01</td>\n",
              "      <td>3445.98</td>\n",
              "    </tr>\n",
              "    <tr>\n",
              "      <th>1994-01-10</th>\n",
              "      <td>475.27</td>\n",
              "      <td>2225.00</td>\n",
              "      <td>3440.58</td>\n",
              "      <td>18443.44</td>\n",
              "      <td>3440.58</td>\n",
              "    </tr>\n",
              "    <tr>\n",
              "      <th>1994-01-11</th>\n",
              "      <td>474.13</td>\n",
              "      <td>2228.10</td>\n",
              "      <td>3413.77</td>\n",
              "      <td>18485.25</td>\n",
              "      <td>3413.77</td>\n",
              "    </tr>\n",
              "    <tr>\n",
              "      <th>1994-01-12</th>\n",
              "      <td>474.17</td>\n",
              "      <td>2182.06</td>\n",
              "      <td>3372.02</td>\n",
              "      <td>18793.88</td>\n",
              "      <td>3372.02</td>\n",
              "    </tr>\n",
              "    <tr>\n",
              "      <th>1994-01-13</th>\n",
              "      <td>472.47</td>\n",
              "      <td>2142.37</td>\n",
              "      <td>3360.01</td>\n",
              "      <td>18577.26</td>\n",
              "      <td>3360.01</td>\n",
              "    </tr>\n",
              "  </tbody>\n",
              "</table>\n",
              "</div>\n",
              "      <button class=\"colab-df-convert\" onclick=\"convertToInteractive('df-ca373a91-2e2d-477f-807a-4bddfbf96d91')\"\n",
              "              title=\"Convert this dataframe to an interactive table.\"\n",
              "              style=\"display:none;\">\n",
              "        \n",
              "  <svg xmlns=\"http://www.w3.org/2000/svg\" height=\"24px\"viewBox=\"0 0 24 24\"\n",
              "       width=\"24px\">\n",
              "    <path d=\"M0 0h24v24H0V0z\" fill=\"none\"/>\n",
              "    <path d=\"M18.56 5.44l.94 2.06.94-2.06 2.06-.94-2.06-.94-.94-2.06-.94 2.06-2.06.94zm-11 1L8.5 8.5l.94-2.06 2.06-.94-2.06-.94L8.5 2.5l-.94 2.06-2.06.94zm10 10l.94 2.06.94-2.06 2.06-.94-2.06-.94-.94-2.06-.94 2.06-2.06.94z\"/><path d=\"M17.41 7.96l-1.37-1.37c-.4-.4-.92-.59-1.43-.59-.52 0-1.04.2-1.43.59L10.3 9.45l-7.72 7.72c-.78.78-.78 2.05 0 2.83L4 21.41c.39.39.9.59 1.41.59.51 0 1.02-.2 1.41-.59l7.78-7.78 2.81-2.81c.8-.78.8-2.07 0-2.86zM5.41 20L4 18.59l7.72-7.72 1.47 1.35L5.41 20z\"/>\n",
              "  </svg>\n",
              "      </button>\n",
              "      \n",
              "  <style>\n",
              "    .colab-df-container {\n",
              "      display:flex;\n",
              "      flex-wrap:wrap;\n",
              "      gap: 12px;\n",
              "    }\n",
              "\n",
              "    .colab-df-convert {\n",
              "      background-color: #E8F0FE;\n",
              "      border: none;\n",
              "      border-radius: 50%;\n",
              "      cursor: pointer;\n",
              "      display: none;\n",
              "      fill: #1967D2;\n",
              "      height: 32px;\n",
              "      padding: 0 0 0 0;\n",
              "      width: 32px;\n",
              "    }\n",
              "\n",
              "    .colab-df-convert:hover {\n",
              "      background-color: #E2EBFA;\n",
              "      box-shadow: 0px 1px 2px rgba(60, 64, 67, 0.3), 0px 1px 3px 1px rgba(60, 64, 67, 0.15);\n",
              "      fill: #174EA6;\n",
              "    }\n",
              "\n",
              "    [theme=dark] .colab-df-convert {\n",
              "      background-color: #3B4455;\n",
              "      fill: #D2E3FC;\n",
              "    }\n",
              "\n",
              "    [theme=dark] .colab-df-convert:hover {\n",
              "      background-color: #434B5C;\n",
              "      box-shadow: 0px 1px 3px 1px rgba(0, 0, 0, 0.15);\n",
              "      filter: drop-shadow(0px 1px 2px rgba(0, 0, 0, 0.3));\n",
              "      fill: #FFFFFF;\n",
              "    }\n",
              "  </style>\n",
              "\n",
              "      <script>\n",
              "        const buttonEl =\n",
              "          document.querySelector('#df-ca373a91-2e2d-477f-807a-4bddfbf96d91 button.colab-df-convert');\n",
              "        buttonEl.style.display =\n",
              "          google.colab.kernel.accessAllowed ? 'block' : 'none';\n",
              "\n",
              "        async function convertToInteractive(key) {\n",
              "          const element = document.querySelector('#df-ca373a91-2e2d-477f-807a-4bddfbf96d91');\n",
              "          const dataTable =\n",
              "            await google.colab.kernel.invokeFunction('convertToInteractive',\n",
              "                                                     [key], {});\n",
              "          if (!dataTable) return;\n",
              "\n",
              "          const docLinkHtml = 'Like what you see? Visit the ' +\n",
              "            '<a target=\"_blank\" href=https://colab.research.google.com/notebooks/data_table.ipynb>data table notebook</a>'\n",
              "            + ' to learn more about interactive tables.';\n",
              "          element.innerHTML = '';\n",
              "          dataTable['output_type'] = 'display_data';\n",
              "          await google.colab.output.renderOutput(dataTable, element);\n",
              "          const docLink = document.createElement('div');\n",
              "          docLink.innerHTML = docLinkHtml;\n",
              "          element.appendChild(docLink);\n",
              "        }\n",
              "      </script>\n",
              "    </div>\n",
              "  </div>\n",
              "  "
            ]
          },
          "metadata": {},
          "execution_count": 4
        }
      ]
    },
    {
      "cell_type": "code",
      "source": [
        "#del df_comp[\"spx\"]\n",
        "del df_comp[\"dax\"]\n",
        "del df_comp[\"ftse\"]\n",
        "del df_comp[\"nikkei\"]\n",
        "size = int(len(df_comp)*0.80)\n",
        "df,df_test = df_comp.iloc[:size],df_comp.iloc[size:]"
      ],
      "metadata": {
        "id": "J8NOHfdHn-p7"
      },
      "execution_count": 5,
      "outputs": []
    },
    {
      "cell_type": "markdown",
      "source": [
        "## LLR Test"
      ],
      "metadata": {
        "id": "1u_NqfZ8oC9L"
      }
    },
    {
      "cell_type": "code",
      "source": [
        "def LLR_test(mod_1,mod_2,DF=1):\n",
        "  L1 = mod_1.fit(start_ar_lags = 11).llf\n",
        "  L2 = mod_2.fit(start_ar_lags = 11).llf\n",
        "  LR = (2*(L2-L1))\n",
        "  p = chi2.sf(LR,DF).round(3)\n",
        "  return p"
      ],
      "metadata": {
        "id": "QEZSuwevoBEr"
      },
      "execution_count": 6,
      "outputs": []
    },
    {
      "cell_type": "markdown",
      "source": [
        "## Creating Returns"
      ],
      "metadata": {
        "id": "PT7QAe6BoIeB"
      }
    },
    {
      "cell_type": "code",
      "source": [
        "df['returns'] =  df.market_value.pct_change(1)*100"
      ],
      "metadata": {
        "id": "CSfHC42EoFa2"
      },
      "execution_count": 7,
      "outputs": []
    },
    {
      "cell_type": "markdown",
      "source": [
        "## Creating Squared Returns"
      ],
      "metadata": {
        "id": "AmgceWFToOEq"
      }
    },
    {
      "cell_type": "code",
      "source": [
        "df['sq_returns'] =  df.returns.mul(df.returns)"
      ],
      "metadata": {
        "id": "03w_pNRVoKwq"
      },
      "execution_count": 8,
      "outputs": []
    },
    {
      "cell_type": "markdown",
      "source": [
        "## Returns Vs Squared Returns"
      ],
      "metadata": {
        "id": "utYduJO8obJg"
      }
    },
    {
      "cell_type": "code",
      "source": [
        "df.returns.plot(figsize=(20,5))\n",
        "plt.title(\"Returns\",size=24)\n",
        "plt.show()"
      ],
      "metadata": {
        "colab": {
          "base_uri": "https://localhost:8080/",
          "height": 364
        },
        "id": "-aheEPMNoYN9",
        "outputId": "72cdbb90-36bf-43e5-ff0a-1e1803fdd72c"
      },
      "execution_count": 9,
      "outputs": [
        {
          "output_type": "display_data",
          "data": {
            "text/plain": [
              "<Figure size 1440x360 with 1 Axes>"
            ],
            "image/png": "[encoded data removed]"
          },
          "metadata": {}
        }
      ]
    },
    {
      "cell_type": "code",
      "source": [
        "df.sq_returns.plot(figsize=(20,5))\n",
        "plt.title(\"Votality\",size=24)\n",
        "plt.show()"
      ],
      "metadata": {
        "colab": {
          "base_uri": "https://localhost:8080/",
          "height": 364
        },
        "id": "sSAQgBg9o97n",
        "outputId": "b0e4782e-670a-4d5c-f198-3550dc4fde12"
      },
      "execution_count": 10,
      "outputs": [
        {
          "output_type": "display_data",
          "data": {
            "text/plain": [
              "<Figure size 1440x360 with 1 Axes>"
            ],
            "image/png": "[encoded data removed]"
          },
          "metadata": {}
        }
      ]
    },
    {
      "cell_type": "code",
      "source": [
        "sgt.plot_pacf(df.returns[1:], lags = 40, alpha=0.05,  zero= False, method=(\"ols\"))\n",
        "plt.title(\"PACF for Returns\",size=24)\n",
        "plt.show()"
      ],
      "metadata": {
        "colab": {
          "base_uri": "https://localhost:8080/",
          "height": 293
        },
        "id": "TsWoXaQgpJ30",
        "outputId": "e523d1d7-5367-4e5d-cde8-011c4c70524f"
      },
      "execution_count": 11,
      "outputs": [
        {
          "output_type": "display_data",
          "data": {
            "text/plain": [
              "<Figure size 432x288 with 1 Axes>"
            ],
            "image/png": "[encoded data removed]"
          },
          "metadata": {}
        }
      ]
    },
    {
      "cell_type": "code",
      "source": [
        "sgt.plot_pacf(df.sq_returns[1:], lags = 40, alpha=0.05,  zero= False, method=(\"ols\"))\n",
        "plt.title(\"PACF for Squared Returns\",size=24)\n",
        "plt.show() "
      ],
      "metadata": {
        "colab": {
          "base_uri": "https://localhost:8080/",
          "height": 293
        },
        "id": "2ng-crURpfDB",
        "outputId": "305739ab-6bf0-4340-d5ad-311431dd9b28"
      },
      "execution_count": 12,
      "outputs": [
        {
          "output_type": "display_data",
          "data": {
            "text/plain": [
              "<Figure size 432x288 with 1 Axes>"
            ],
            "image/png": "[encoded data removed]"
          },
          "metadata": {}
        }
      ]
    },
    {
      "cell_type": "markdown",
      "source": [
        "## The arch_model() Method"
      ],
      "metadata": {
        "id": "lAiwO-NOqWQQ"
      }
    },
    {
      "cell_type": "code",
      "source": [
        "!pip install arch"
      ],
      "metadata": {
        "colab": {
          "base_uri": "https://localhost:8080/"
        },
        "id": "Q3ryyTmuqfe5",
        "outputId": "302674ac-d692-4ea9-adbf-c538c392d001"
      },
      "execution_count": 13,
      "outputs": [
        {
          "output_type": "stream",
          "name": "stdout",
          "text": [
            "Looking in indexes: https://pypi.org/simple, https://us-python.pkg.dev/colab-wheels/public/simple/\n",
            "Collecting arch\n",
            "  Downloading arch-5.3.1-cp37-cp37m-manylinux_2_17_x86_64.manylinux2014_x86_64.whl (903 kB)\n",
            "\u001b[K     |████████████████████████████████| 903 kB 28.8 MB/s \n",
            "\u001b[?25hRequirement already satisfied: pandas>=1.0 in /usr/local/lib/python3.7/dist-packages (from arch) (1.3.5)\n",
            "Requirement already satisfied: scipy>=1.3 in /usr/local/lib/python3.7/dist-packages (from arch) (1.7.3)\n",
            "Collecting property-cached>=1.6.4\n",
            "  Downloading property_cached-1.6.4-py2.py3-none-any.whl (7.8 kB)\n",
            "Requirement already satisfied: numpy>=1.17 in /usr/local/lib/python3.7/dist-packages (from arch) (1.21.6)\n",
            "Requirement already satisfied: statsmodels>=0.11 in /usr/local/lib/python3.7/dist-packages (from arch) (0.12.2)\n",
            "Requirement already satisfied: pytz>=2017.3 in /usr/local/lib/python3.7/dist-packages (from pandas>=1.0->arch) (2022.6)\n",
            "Requirement already satisfied: python-dateutil>=2.7.3 in /usr/local/lib/python3.7/dist-packages (from pandas>=1.0->arch) (2.8.2)\n",
            "Requirement already satisfied: six>=1.5 in /usr/local/lib/python3.7/dist-packages (from python-dateutil>=2.7.3->pandas>=1.0->arch) (1.15.0)\n",
            "Requirement already satisfied: patsy>=0.5 in /usr/local/lib/python3.7/dist-packages (from statsmodels>=0.11->arch) (0.5.3)\n",
            "Installing collected packages: property-cached, arch\n",
            "Successfully installed arch-5.3.1 property-cached-1.6.4\n"
          ]
        }
      ]
    },
    {
      "cell_type": "code",
      "source": [
        "from arch import arch_model"
      ],
      "metadata": {
        "id": "pOra0XEyp0hB"
      },
      "execution_count": 14,
      "outputs": []
    },
    {
      "cell_type": "code",
      "source": [
        "model_arch_1 = arch_model(df.returns[1:])\n",
        "results_arch_1 = model_arch_1.fit()\n",
        "print(results_arch_1.summary())"
      ],
      "metadata": {
        "colab": {
          "base_uri": "https://localhost:8080/"
        },
        "id": "64TZeAdwqdkC",
        "outputId": "d4aa000a-2420-45b5-b538-c920a13ff80f"
      },
      "execution_count": 15,
      "outputs": [
        {
          "output_type": "stream",
          "name": "stdout",
          "text": [
            "Iteration:      1,   Func. Count:      6,   Neg. LLF: 6579303469.390623\n",
            "Iteration:      2,   Func. Count:     15,   Neg. LLF: 2701100877.2298183\n",
            "Iteration:      3,   Func. Count:     23,   Neg. LLF: 7009.030632045198\n",
            "Iteration:      4,   Func. Count:     29,   Neg. LLF: 7024.035835212278\n",
            "Iteration:      5,   Func. Count:     35,   Neg. LLF: 7010.712887007633\n",
            "Iteration:      6,   Func. Count:     41,   Neg. LLF: 6975.418108744094\n",
            "Iteration:      7,   Func. Count:     47,   Neg. LLF: 7092.271338807877\n",
            "Iteration:      8,   Func. Count:     53,   Neg. LLF: 6973.879266228052\n",
            "Iteration:      9,   Func. Count:     59,   Neg. LLF: 6970.088048943886\n",
            "Iteration:     10,   Func. Count:     64,   Neg. LLF: 6970.058478413694\n",
            "Iteration:     11,   Func. Count:     69,   Neg. LLF: 6970.0583674757745\n",
            "Iteration:     12,   Func. Count:     74,   Neg. LLF: 6970.058366189882\n",
            "Iteration:     13,   Func. Count:     78,   Neg. LLF: 6970.058366189167\n",
            "Optimization terminated successfully    (Exit mode 0)\n",
            "            Current function value: 6970.058366189882\n",
            "            Iterations: 13\n",
            "            Function evaluations: 78\n",
            "            Gradient evaluations: 13\n",
            "                     Constant Mean - GARCH Model Results                      \n",
            "==============================================================================\n",
            "Dep. Variable:                returns   R-squared:                       0.000\n",
            "Mean Model:             Constant Mean   Adj. R-squared:                  0.000\n",
            "Vol Model:                      GARCH   Log-Likelihood:               -6970.06\n",
            "Distribution:                  Normal   AIC:                           13948.1\n",
            "Method:            Maximum Likelihood   BIC:                           13974.2\n",
            "                                        No. Observations:                 5020\n",
            "Date:                Wed, Nov 16 2022   Df Residuals:                     5019\n",
            "Time:                        09:38:54   Df Model:                            1\n",
            "                                 Mean Model                                 \n",
            "============================================================================\n",
            "                 coef    std err          t      P>|t|      95.0% Conf. Int.\n",
            "----------------------------------------------------------------------------\n",
            "mu             0.0466  1.183e-02      3.939  8.187e-05 [2.342e-02,6.981e-02]\n",
            "                              Volatility Model                              \n",
            "============================================================================\n",
            "                 coef    std err          t      P>|t|      95.0% Conf. Int.\n",
            "----------------------------------------------------------------------------\n",
            "omega          0.0109  3.004e-03      3.640  2.724e-04 [5.048e-03,1.682e-02]\n",
            "alpha[1]       0.0835  1.071e-02      7.794  6.476e-15   [6.249e-02,  0.104]\n",
            "beta[1]        0.9089  1.148e-02     79.168      0.000     [  0.886,  0.931]\n",
            "============================================================================\n",
            "\n",
            "Covariance estimator: robust\n"
          ]
        }
      ]
    },
    {
      "cell_type": "markdown",
      "source": [
        "## The Simple ARCH(1) "
      ],
      "metadata": {
        "id": "DJeUGKmvtAaX"
      }
    },
    {
      "cell_type": "code",
      "source": [
        "model_arch_1 = arch_model(df.returns[1:], mean= \"Constant\", vol=\"ARCH\", p=1)\n",
        "results_arch_1 = model_arch_1.fit(update_freq = 5)\n",
        "print(results_arch_1.summary())"
      ],
      "metadata": {
        "colab": {
          "base_uri": "https://localhost:8080/"
        },
        "id": "vw9drPvirKl6",
        "outputId": "944434b8-e880-4674-ab73-36786b6e6c2e"
      },
      "execution_count": 16,
      "outputs": [
        {
          "output_type": "stream",
          "name": "stdout",
          "text": [
            "Iteration:      5,   Func. Count:     30,   Neg. LLF: 7660.088782040875\n",
            "Optimization terminated successfully    (Exit mode 0)\n",
            "            Current function value: 7660.088782040875\n",
            "            Iterations: 6\n",
            "            Function evaluations: 33\n",
            "            Gradient evaluations: 6\n",
            "                      Constant Mean - ARCH Model Results                      \n",
            "==============================================================================\n",
            "Dep. Variable:                returns   R-squared:                       0.000\n",
            "Mean Model:             Constant Mean   Adj. R-squared:                  0.000\n",
            "Vol Model:                       ARCH   Log-Likelihood:               -7660.09\n",
            "Distribution:                  Normal   AIC:                           15326.2\n",
            "Method:            Maximum Likelihood   BIC:                           15345.7\n",
            "                                        No. Observations:                 5020\n",
            "Date:                Wed, Nov 16 2022   Df Residuals:                     5019\n",
            "Time:                        09:38:54   Df Model:                            1\n",
            "                                 Mean Model                                 \n",
            "============================================================================\n",
            "                 coef    std err          t      P>|t|      95.0% Conf. Int.\n",
            "----------------------------------------------------------------------------\n",
            "mu             0.0345  1.603e-02      2.151  3.147e-02 [3.063e-03,6.590e-02]\n",
            "                            Volatility Model                            \n",
            "========================================================================\n",
            "                 coef    std err          t      P>|t|  95.0% Conf. Int.\n",
            "------------------------------------------------------------------------\n",
            "omega          0.9206  4.309e-02     21.365 2.855e-101 [  0.836,  1.005]\n",
            "alpha[1]       0.3684  5.040e-02      7.310  2.673e-13 [  0.270,  0.467]\n",
            "========================================================================\n",
            "\n",
            "Covariance estimator: robust\n"
          ]
        }
      ]
    },
    {
      "cell_type": "code",
      "source": [
        "model_arch_1 = arch_model(df.returns[1:], mean= \"AR\", lags = [2,3,6], vol=\"ARCH\", p=1, dist = \"ged\")\n",
        "results_arch_1 = model_arch_1.fit(update_freq = 5)\n",
        "print(results_arch_1.summary())"
      ],
      "metadata": {
        "colab": {
          "base_uri": "https://localhost:8080/"
        },
        "id": "wzhYooN7tjLK",
        "outputId": "e019fa50-65e4-4645-8609-53bffe02053c"
      },
      "execution_count": 17,
      "outputs": [
        {
          "output_type": "stream",
          "name": "stdout",
          "text": [
            "Iteration:      5,   Func. Count:     52,   Neg. LLF: 17359012.296447493\n",
            "Iteration:     10,   Func. Count:    100,   Neg. LLF: 7326.620361371647\n",
            "Iteration:     15,   Func. Count:    142,   Neg. LLF: 7317.121042094248\n",
            "Iteration:     20,   Func. Count:    186,   Neg. LLF: 7317.118105542874\n",
            "Optimization terminated successfully    (Exit mode 0)\n",
            "            Current function value: 7317.118092656902\n",
            "            Iterations: 22\n",
            "            Function evaluations: 206\n",
            "            Gradient evaluations: 22\n",
            "                                 AR - ARCH Model Results                                  \n",
            "==========================================================================================\n",
            "Dep. Variable:                            returns   R-squared:                       0.008\n",
            "Mean Model:                                    AR   Adj. R-squared:                  0.007\n",
            "Vol Model:                                   ARCH   Log-Likelihood:               -7317.12\n",
            "Distribution:      Generalized Error Distribution   AIC:                           14648.2\n",
            "Method:                        Maximum Likelihood   BIC:                           14693.9\n",
            "                                                    No. Observations:                 5014\n",
            "Date:                            Wed, Nov 16 2022   Df Residuals:                     5010\n",
            "Time:                                    09:38:54   Df Model:                            4\n",
            "                                  Mean Model                                  \n",
            "==============================================================================\n",
            "                 coef    std err          t      P>|t|        95.0% Conf. Int.\n",
            "------------------------------------------------------------------------------\n",
            "Const          0.0474  6.118e-03      7.749  9.277e-15   [3.542e-02,5.940e-02]\n",
            "returns[2]    -0.0396  2.806e-02     -1.410      0.158  [-9.456e-02,1.542e-02]\n",
            "returns[3]    -0.0348  5.924e-03     -5.870  4.355e-09 [-4.639e-02,-2.316e-02]\n",
            "returns[6]    -0.0283  1.726e-03    -16.406  1.730e-60 [-3.170e-02,-2.494e-02]\n",
            "                            Volatility Model                            \n",
            "========================================================================\n",
            "                 coef    std err          t      P>|t|  95.0% Conf. Int.\n",
            "------------------------------------------------------------------------\n",
            "omega          0.9166  3.760e-02     24.378 2.944e-131 [  0.843,  0.990]\n",
            "alpha[1]       0.3428  3.939e-02      8.703  3.227e-18 [  0.266,  0.420]\n",
            "                              Distribution                              \n",
            "========================================================================\n",
            "                 coef    std err          t      P>|t|  95.0% Conf. Int.\n",
            "------------------------------------------------------------------------\n",
            "nu             1.0675  3.251e-02     32.842 1.468e-236 [  1.004,  1.131]\n",
            "========================================================================\n",
            "\n",
            "Covariance estimator: robust\n"
          ]
        }
      ]
    },
    {
      "cell_type": "markdown",
      "source": [
        "## Higher-Lag ARCH Model"
      ],
      "metadata": {
        "id": "fTiHXBOrwH5n"
      }
    },
    {
      "cell_type": "code",
      "source": [
        "model_arch_2 = arch_model(df.returns[1:], mean= \"Constant\",  vol=\"ARCH\", p=2)\n",
        "results_arch_2 = model_arch_2.fit(update_freq = 5)\n",
        "print(results_arch_2.summary())"
      ],
      "metadata": {
        "colab": {
          "base_uri": "https://localhost:8080/"
        },
        "id": "zeWY6eL-wKuw",
        "outputId": "945da015-0716-4118-da41-11499b56bcff"
      },
      "execution_count": 18,
      "outputs": [
        {
          "output_type": "stream",
          "name": "stdout",
          "text": [
            "Iteration:      5,   Func. Count:     37,   Neg. LLF: 8810.02930517937\n",
            "Optimization terminated successfully    (Exit mode 0)\n",
            "            Current function value: 7449.545164098316\n",
            "            Iterations: 9\n",
            "            Function evaluations: 58\n",
            "            Gradient evaluations: 9\n",
            "                      Constant Mean - ARCH Model Results                      \n",
            "==============================================================================\n",
            "Dep. Variable:                returns   R-squared:                       0.000\n",
            "Mean Model:             Constant Mean   Adj. R-squared:                  0.000\n",
            "Vol Model:                       ARCH   Log-Likelihood:               -7449.55\n",
            "Distribution:                  Normal   AIC:                           14907.1\n",
            "Method:            Maximum Likelihood   BIC:                           14933.2\n",
            "                                        No. Observations:                 5020\n",
            "Date:                Wed, Nov 16 2022   Df Residuals:                     5019\n",
            "Time:                        09:38:55   Df Model:                            1\n",
            "                                 Mean Model                                 \n",
            "============================================================================\n",
            "                 coef    std err          t      P>|t|      95.0% Conf. Int.\n",
            "----------------------------------------------------------------------------\n",
            "mu             0.0484  1.401e-02      3.455  5.495e-04 [2.095e-02,7.585e-02]\n",
            "                            Volatility Model                            \n",
            "========================================================================\n",
            "                 coef    std err          t      P>|t|  95.0% Conf. Int.\n",
            "------------------------------------------------------------------------\n",
            "omega          0.6978  3.564e-02     19.580  2.272e-85 [  0.628,  0.768]\n",
            "alpha[1]       0.2202  3.474e-02      6.339  2.311e-10 [  0.152,  0.288]\n",
            "alpha[2]       0.2783  3.645e-02      7.635  2.260e-14 [  0.207,  0.350]\n",
            "========================================================================\n",
            "\n",
            "Covariance estimator: robust\n"
          ]
        }
      ]
    },
    {
      "cell_type": "code",
      "source": [
        "model_arch_3 = arch_model(df.returns[1:], mean= \"Constant\",  vol=\"ARCH\", p=3)\n",
        "results_arch_3 = model_arch_3.fit(update_freq = 5)\n",
        "print(results_arch_3.summary())"
      ],
      "metadata": {
        "colab": {
          "base_uri": "https://localhost:8080/"
        },
        "id": "mW64IuwFwo-O",
        "outputId": "2e6b16c0-7652-440f-f7d6-b9513e59dbcf"
      },
      "execution_count": 19,
      "outputs": [
        {
          "output_type": "stream",
          "name": "stdout",
          "text": [
            "Iteration:      5,   Func. Count:     41,   Neg. LLF: 7496.4079308108885\n",
            "Iteration:     10,   Func. Count:     75,   Neg. LLF: 7277.050452148393\n",
            "Optimization terminated successfully    (Exit mode 0)\n",
            "            Current function value: 7277.050452148393\n",
            "            Iterations: 11\n",
            "            Function evaluations: 80\n",
            "            Gradient evaluations: 11\n",
            "                      Constant Mean - ARCH Model Results                      \n",
            "==============================================================================\n",
            "Dep. Variable:                returns   R-squared:                       0.000\n",
            "Mean Model:             Constant Mean   Adj. R-squared:                  0.000\n",
            "Vol Model:                       ARCH   Log-Likelihood:               -7277.05\n",
            "Distribution:                  Normal   AIC:                           14564.1\n",
            "Method:            Maximum Likelihood   BIC:                           14596.7\n",
            "                                        No. Observations:                 5020\n",
            "Date:                Wed, Nov 16 2022   Df Residuals:                     5019\n",
            "Time:                        09:39:44   Df Model:                            1\n",
            "                                 Mean Model                                 \n",
            "============================================================================\n",
            "                 coef    std err          t      P>|t|      95.0% Conf. Int.\n",
            "----------------------------------------------------------------------------\n",
            "mu             0.0529  1.316e-02      4.018  5.875e-05 [2.707e-02,7.865e-02]\n",
            "                            Volatility Model                            \n",
            "========================================================================\n",
            "                 coef    std err          t      P>|t|  95.0% Conf. Int.\n",
            "------------------------------------------------------------------------\n",
            "omega          0.5012  2.834e-02     17.685  5.505e-70 [  0.446,  0.557]\n",
            "alpha[1]       0.1570  2.649e-02      5.926  3.108e-09 [  0.105,  0.209]\n",
            "alpha[2]       0.2197  2.588e-02      8.489  2.077e-17 [  0.169,  0.270]\n",
            "alpha[3]       0.2804  3.354e-02      8.359  6.302e-17 [  0.215,  0.346]\n",
            "========================================================================\n",
            "\n",
            "Covariance estimator: robust\n"
          ]
        }
      ]
    },
    {
      "cell_type": "code",
      "source": [
        "model_arch_13 = arch_model(df.returns[1:], mean= \"Constant\",  vol=\"ARCH\", p=13)\n",
        "results_arch_13 = model_arch_13.fit(update_freq = 5)\n",
        "print(results_arch_13.summary())"
      ],
      "metadata": {
        "colab": {
          "base_uri": "https://localhost:8080/"
        },
        "id": "hYPR4labzvR1",
        "outputId": "5e92f5b2-7176-44bd-b9b1-daa0f7d65028"
      },
      "execution_count": 20,
      "outputs": [
        {
          "output_type": "stream",
          "name": "stdout",
          "text": [
            "Iteration:      5,   Func. Count:     89,   Neg. LLF: 10011.775468928608\n",
            "Iteration:     10,   Func. Count:    179,   Neg. LLF: 7470.911405945963\n",
            "Iteration:     15,   Func. Count:    269,   Neg. LLF: 7087.90751318808\n",
            "Iteration:     20,   Func. Count:    359,   Neg. LLF: 7068.728949587957\n",
            "Iteration:     25,   Func. Count:    444,   Neg. LLF: 6984.175063695795\n",
            "Optimization terminated successfully    (Exit mode 0)\n",
            "            Current function value: 6984.1750626174235\n",
            "            Iterations: 27\n",
            "            Function evaluations: 475\n",
            "            Gradient evaluations: 27\n",
            "                      Constant Mean - ARCH Model Results                      \n",
            "==============================================================================\n",
            "Dep. Variable:                returns   R-squared:                       0.000\n",
            "Mean Model:             Constant Mean   Adj. R-squared:                  0.000\n",
            "Vol Model:                       ARCH   Log-Likelihood:               -6984.18\n",
            "Distribution:                  Normal   AIC:                           13998.4\n",
            "Method:            Maximum Likelihood   BIC:                           14096.2\n",
            "                                        No. Observations:                 5020\n",
            "Date:                Wed, Nov 16 2022   Df Residuals:                     5019\n",
            "Time:                        09:40:52   Df Model:                            1\n",
            "                                 Mean Model                                 \n",
            "============================================================================\n",
            "                 coef    std err          t      P>|t|      95.0% Conf. Int.\n",
            "----------------------------------------------------------------------------\n",
            "mu             0.0492  1.206e-02      4.077  4.566e-05 [2.553e-02,7.281e-02]\n",
            "                               Volatility Model                              \n",
            "=============================================================================\n",
            "                 coef    std err          t      P>|t|       95.0% Conf. Int.\n",
            "-----------------------------------------------------------------------------\n",
            "omega          0.1871  2.210e-02      8.466  2.538e-17      [  0.144,  0.230]\n",
            "alpha[1]       0.0568  1.729e-02      3.282  1.029e-03  [2.287e-02,9.065e-02]\n",
            "alpha[2]       0.1156  2.017e-02      5.733  9.840e-09    [7.610e-02,  0.155]\n",
            "alpha[3]       0.1265  2.625e-02      4.820  1.433e-06    [7.509e-02,  0.178]\n",
            "alpha[4]       0.0884  2.159e-02      4.093  4.265e-05    [4.605e-02,  0.131]\n",
            "alpha[5]       0.0695  1.750e-02      3.970  7.189e-05    [3.518e-02,  0.104]\n",
            "alpha[6]       0.0865  1.926e-02      4.491  7.092e-06    [4.874e-02,  0.124]\n",
            "alpha[7]       0.0404  1.846e-02      2.188  2.870e-02  [4.203e-03,7.658e-02]\n",
            "alpha[8]       0.0654  1.833e-02      3.565  3.633e-04    [2.943e-02,  0.101]\n",
            "alpha[9]       0.0292  1.603e-02      1.820  6.877e-02 [-2.245e-03,6.058e-02]\n",
            "alpha[10]      0.0335  1.605e-02      2.089  3.670e-02  [2.072e-03,6.498e-02]\n",
            "alpha[11]      0.0775  1.760e-02      4.403  1.067e-05    [4.300e-02,  0.112]\n",
            "alpha[12]      0.0473  1.873e-02      2.526  1.153e-02  [1.060e-02,8.402e-02]\n",
            "alpha[13]      0.0372  1.431e-02      2.600  9.317e-03  [9.162e-03,6.526e-02]\n",
            "=============================================================================\n",
            "\n",
            "Covariance estimator: robust\n"
          ]
        }
      ]
    },
    {
      "cell_type": "code",
      "source": [],
      "metadata": {
        "id": "nkRKFgmCz_06"
      },
      "execution_count": null,
      "outputs": []
    }
  ]
}