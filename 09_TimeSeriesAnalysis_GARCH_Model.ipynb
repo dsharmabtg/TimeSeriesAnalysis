{
  "nbformat": 4,
  "nbformat_minor": 0,
  "metadata": {
    "colab": {
      "provenance": []
    },
    "kernelspec": {
      "name": "python3",
      "display_name": "Python 3"
    },
    "language_info": {
      "name": "python"
    }
  },
  "cells": [
    {
      "cell_type": "markdown",
      "source": [
        "## Importing the relevant packages"
      ],
      "metadata": {
        "id": "PUrHr7RG3nq1"
      }
    },
    {
      "cell_type": "code",
      "source": [
        "!pip install arch"
      ],
      "metadata": {
        "colab": {
          "base_uri": "https://localhost:8080/"
        },
        "id": "nqTbg2XL5pnu",
        "outputId": "e757e4dc-5e43-46c4-dd66-2742929c242b"
      },
      "execution_count": 10,
      "outputs": [
        {
          "output_type": "stream",
          "name": "stdout",
          "text": [
            "Looking in indexes: https://pypi.org/simple, https://us-python.pkg.dev/colab-wheels/public/simple/\n",
            "Collecting arch\n",
            "  Downloading arch-5.3.1-cp37-cp37m-manylinux_2_17_x86_64.manylinux2014_x86_64.whl (903 kB)\n",
            "\u001b[K     |████████████████████████████████| 903 kB 6.6 MB/s \n",
            "\u001b[?25hRequirement already satisfied: pandas>=1.0 in /usr/local/lib/python3.7/dist-packages (from arch) (1.3.5)\n",
            "Collecting property-cached>=1.6.4\n",
            "  Downloading property_cached-1.6.4-py2.py3-none-any.whl (7.8 kB)\n",
            "Requirement already satisfied: scipy>=1.3 in /usr/local/lib/python3.7/dist-packages (from arch) (1.7.3)\n",
            "Requirement already satisfied: numpy>=1.17 in /usr/local/lib/python3.7/dist-packages (from arch) (1.21.6)\n",
            "Requirement already satisfied: statsmodels>=0.11 in /usr/local/lib/python3.7/dist-packages (from arch) (0.12.2)\n",
            "Requirement already satisfied: pytz>=2017.3 in /usr/local/lib/python3.7/dist-packages (from pandas>=1.0->arch) (2022.6)\n",
            "Requirement already satisfied: python-dateutil>=2.7.3 in /usr/local/lib/python3.7/dist-packages (from pandas>=1.0->arch) (2.8.2)\n",
            "Requirement already satisfied: six>=1.5 in /usr/local/lib/python3.7/dist-packages (from python-dateutil>=2.7.3->pandas>=1.0->arch) (1.15.0)\n",
            "Requirement already satisfied: patsy>=0.5 in /usr/local/lib/python3.7/dist-packages (from statsmodels>=0.11->arch) (0.5.3)\n",
            "Installing collected packages: property-cached, arch\n",
            "Successfully installed arch-5.3.1 property-cached-1.6.4\n"
          ]
        }
      ]
    },
    {
      "cell_type": "code",
      "execution_count": 11,
      "metadata": {
        "id": "7WwUzJ9r3iZx"
      },
      "outputs": [],
      "source": [
        "import pandas as pd\n",
        "import numpy as np\n",
        "import matplotlib.pyplot as plt\n",
        "import statsmodels.graphics.tsaplots as sgt\n",
        "import statsmodels.tsa.stattools as sts\n",
        "from statsmodels.tsa.arima_model import ARIMA\n",
        "from scipy.stats.distributions import chi2\n",
        "from arch import arch_model\n",
        "import seaborn as sns\n",
        "import warnings\n",
        "warnings.filterwarnings(\"ignore\")\n",
        "sns.set()"
      ]
    },
    {
      "cell_type": "markdown",
      "source": [
        "## Importing the Data and Preprocessing"
      ],
      "metadata": {
        "id": "iqkIkiqr3tpK"
      }
    },
    {
      "cell_type": "code",
      "source": [
        "raw_csv_data = pd.read_csv(\"/content/Index2018.csv\")\n",
        "df_comp = raw_csv_data.copy()\n",
        "df_comp.date = pd.to_datetime(df_comp.date, dayfirst = True)\n",
        "df_comp.set_index(\"date\",inplace=True)\n",
        "df_comp = df_comp.asfreq(\"b\")\n",
        "df_comp = df_comp.fillna(method=\"ffill\")"
      ],
      "metadata": {
        "id": "tARp0-8R3rTh"
      },
      "execution_count": 2,
      "outputs": []
    },
    {
      "cell_type": "code",
      "source": [
        "df_comp['market_value'] = df_comp.ftse"
      ],
      "metadata": {
        "id": "RcAeYWTS3yQR"
      },
      "execution_count": 3,
      "outputs": []
    },
    {
      "cell_type": "code",
      "source": [
        "df_comp.head()"
      ],
      "metadata": {
        "colab": {
          "base_uri": "https://localhost:8080/",
          "height": 237
        },
        "id": "GurX12ZS30Tj",
        "outputId": "c7521e88-6ea0-4546-804b-f204ce872b8d"
      },
      "execution_count": 4,
      "outputs": [
        {
          "output_type": "execute_result",
          "data": {
            "text/plain": [
              "               spx      dax     ftse    nikkei  market_value\n",
              "date                                                        \n",
              "1994-01-07  469.90  2224.95  3445.98  18124.01       3445.98\n",
              "1994-01-10  475.27  2225.00  3440.58  18443.44       3440.58\n",
              "1994-01-11  474.13  2228.10  3413.77  18485.25       3413.77\n",
              "1994-01-12  474.17  2182.06  3372.02  18793.88       3372.02\n",
              "1994-01-13  472.47  2142.37  3360.01  18577.26       3360.01"
            ],
            "text/html": [
              "\n",
              "  <div id=\"df-c1c596fb-07bc-43c3-b804-a5e7c737a82e\">\n",
              "    <div class=\"colab-df-container\">\n",
              "      <div>\n",
              "<style scoped>\n",
              "    .dataframe tbody tr th:only-of-type {\n",
              "        vertical-align: middle;\n",
              "    }\n",
              "\n",
              "    .dataframe tbody tr th {\n",
              "        vertical-align: top;\n",
              "    }\n",
              "\n",
              "    .dataframe thead th {\n",
              "        text-align: right;\n",
              "    }\n",
              "</style>\n",
              "<table border=\"1\" class=\"dataframe\">\n",
              "  <thead>\n",
              "    <tr style=\"text-align: right;\">\n",
              "      <th></th>\n",
              "      <th>spx</th>\n",
              "      <th>dax</th>\n",
              "      <th>ftse</th>\n",
              "      <th>nikkei</th>\n",
              "      <th>market_value</th>\n",
              "    </tr>\n",
              "    <tr>\n",
              "      <th>date</th>\n",
              "      <th></th>\n",
              "      <th></th>\n",
              "      <th></th>\n",
              "      <th></th>\n",
              "      <th></th>\n",
              "    </tr>\n",
              "  </thead>\n",
              "  <tbody>\n",
              "    <tr>\n",
              "      <th>1994-01-07</th>\n",
              "      <td>469.90</td>\n",
              "      <td>2224.95</td>\n",
              "      <td>3445.98</td>\n",
              "      <td>18124.01</td>\n",
              "      <td>3445.98</td>\n",
              "    </tr>\n",
              "    <tr>\n",
              "      <th>1994-01-10</th>\n",
              "      <td>475.27</td>\n",
              "      <td>2225.00</td>\n",
              "      <td>3440.58</td>\n",
              "      <td>18443.44</td>\n",
              "      <td>3440.58</td>\n",
              "    </tr>\n",
              "    <tr>\n",
              "      <th>1994-01-11</th>\n",
              "      <td>474.13</td>\n",
              "      <td>2228.10</td>\n",
              "      <td>3413.77</td>\n",
              "      <td>18485.25</td>\n",
              "      <td>3413.77</td>\n",
              "    </tr>\n",
              "    <tr>\n",
              "      <th>1994-01-12</th>\n",
              "      <td>474.17</td>\n",
              "      <td>2182.06</td>\n",
              "      <td>3372.02</td>\n",
              "      <td>18793.88</td>\n",
              "      <td>3372.02</td>\n",
              "    </tr>\n",
              "    <tr>\n",
              "      <th>1994-01-13</th>\n",
              "      <td>472.47</td>\n",
              "      <td>2142.37</td>\n",
              "      <td>3360.01</td>\n",
              "      <td>18577.26</td>\n",
              "      <td>3360.01</td>\n",
              "    </tr>\n",
              "  </tbody>\n",
              "</table>\n",
              "</div>\n",
              "      <button class=\"colab-df-convert\" onclick=\"convertToInteractive('df-c1c596fb-07bc-43c3-b804-a5e7c737a82e')\"\n",
              "              title=\"Convert this dataframe to an interactive table.\"\n",
              "              style=\"display:none;\">\n",
              "        \n",
              "  <svg xmlns=\"http://www.w3.org/2000/svg\" height=\"24px\"viewBox=\"0 0 24 24\"\n",
              "       width=\"24px\">\n",
              "    <path d=\"M0 0h24v24H0V0z\" fill=\"none\"/>\n",
              "    <path d=\"M18.56 5.44l.94 2.06.94-2.06 2.06-.94-2.06-.94-.94-2.06-.94 2.06-2.06.94zm-11 1L8.5 8.5l.94-2.06 2.06-.94-2.06-.94L8.5 2.5l-.94 2.06-2.06.94zm10 10l.94 2.06.94-2.06 2.06-.94-2.06-.94-.94-2.06-.94 2.06-2.06.94z\"/><path d=\"M17.41 7.96l-1.37-1.37c-.4-.4-.92-.59-1.43-.59-.52 0-1.04.2-1.43.59L10.3 9.45l-7.72 7.72c-.78.78-.78 2.05 0 2.83L4 21.41c.39.39.9.59 1.41.59.51 0 1.02-.2 1.41-.59l7.78-7.78 2.81-2.81c.8-.78.8-2.07 0-2.86zM5.41 20L4 18.59l7.72-7.72 1.47 1.35L5.41 20z\"/>\n",
              "  </svg>\n",
              "      </button>\n",
              "      \n",
              "  <style>\n",
              "    .colab-df-container {\n",
              "      display:flex;\n",
              "      flex-wrap:wrap;\n",
              "      gap: 12px;\n",
              "    }\n",
              "\n",
              "    .colab-df-convert {\n",
              "      background-color: #E8F0FE;\n",
              "      border: none;\n",
              "      border-radius: 50%;\n",
              "      cursor: pointer;\n",
              "      display: none;\n",
              "      fill: #1967D2;\n",
              "      height: 32px;\n",
              "      padding: 0 0 0 0;\n",
              "      width: 32px;\n",
              "    }\n",
              "\n",
              "    .colab-df-convert:hover {\n",
              "      background-color: #E2EBFA;\n",
              "      box-shadow: 0px 1px 2px rgba(60, 64, 67, 0.3), 0px 1px 3px 1px rgba(60, 64, 67, 0.15);\n",
              "      fill: #174EA6;\n",
              "    }\n",
              "\n",
              "    [theme=dark] .colab-df-convert {\n",
              "      background-color: #3B4455;\n",
              "      fill: #D2E3FC;\n",
              "    }\n",
              "\n",
              "    [theme=dark] .colab-df-convert:hover {\n",
              "      background-color: #434B5C;\n",
              "      box-shadow: 0px 1px 3px 1px rgba(0, 0, 0, 0.15);\n",
              "      filter: drop-shadow(0px 1px 2px rgba(0, 0, 0, 0.3));\n",
              "      fill: #FFFFFF;\n",
              "    }\n",
              "  </style>\n",
              "\n",
              "      <script>\n",
              "        const buttonEl =\n",
              "          document.querySelector('#df-c1c596fb-07bc-43c3-b804-a5e7c737a82e button.colab-df-convert');\n",
              "        buttonEl.style.display =\n",
              "          google.colab.kernel.accessAllowed ? 'block' : 'none';\n",
              "\n",
              "        async function convertToInteractive(key) {\n",
              "          const element = document.querySelector('#df-c1c596fb-07bc-43c3-b804-a5e7c737a82e');\n",
              "          const dataTable =\n",
              "            await google.colab.kernel.invokeFunction('convertToInteractive',\n",
              "                                                     [key], {});\n",
              "          if (!dataTable) return;\n",
              "\n",
              "          const docLinkHtml = 'Like what you see? Visit the ' +\n",
              "            '<a target=\"_blank\" href=https://colab.research.google.com/notebooks/data_table.ipynb>data table notebook</a>'\n",
              "            + ' to learn more about interactive tables.';\n",
              "          element.innerHTML = '';\n",
              "          dataTable['output_type'] = 'display_data';\n",
              "          await google.colab.output.renderOutput(dataTable, element);\n",
              "          const docLink = document.createElement('div');\n",
              "          docLink.innerHTML = docLinkHtml;\n",
              "          element.appendChild(docLink);\n",
              "        }\n",
              "      </script>\n",
              "    </div>\n",
              "  </div>\n",
              "  "
            ]
          },
          "metadata": {},
          "execution_count": 4
        }
      ]
    },
    {
      "cell_type": "code",
      "source": [
        "del df_comp[\"spx\"]\n",
        "del df_comp[\"dax\"]\n",
        "del df_comp[\"ftse\"]\n",
        "del df_comp[\"nikkei\"]\n",
        "size = int(len(df_comp)*0.80)\n",
        "df,df_test = df_comp.iloc[:size],df_comp.iloc[size:]"
      ],
      "metadata": {
        "id": "z9SPe4d932DI"
      },
      "execution_count": 5,
      "outputs": []
    },
    {
      "cell_type": "markdown",
      "source": [
        "## LLR Test"
      ],
      "metadata": {
        "id": "BNmeUJLD4AEb"
      }
    },
    {
      "cell_type": "code",
      "source": [
        "def LLR_test(mod_1,mod_2,DF=1):\n",
        "  L1 = mod_1.fit(start_ar_lags = 11).llf\n",
        "  L2 = mod_2.fit(start_ar_lags = 11).llf\n",
        "  LR = (2*(L2-L1))\n",
        "  p = chi2.sf(LR,DF).round(3)\n",
        "  return p"
      ],
      "metadata": {
        "id": "tKtYy4BG39af"
      },
      "execution_count": 6,
      "outputs": []
    },
    {
      "cell_type": "markdown",
      "source": [
        "## Creating Returns"
      ],
      "metadata": {
        "id": "6ZpHSJ5W4U9o"
      }
    },
    {
      "cell_type": "code",
      "source": [
        "df['returns'] =  df.market_value.pct_change(1)*100"
      ],
      "metadata": {
        "id": "tZ6itwR14Cc_"
      },
      "execution_count": 7,
      "outputs": []
    },
    {
      "cell_type": "markdown",
      "source": [
        "## The Simple GARCH Model"
      ],
      "metadata": {
        "id": "OGRUiOMW4bRq"
      }
    },
    {
      "cell_type": "code",
      "source": [
        "model_garch_1_1 = arch_model(df.returns[1:],  mean = \"Constant\", vol=\"GARCH\", p=1, q=1)\n",
        "results_garch_1_1 = model_garch_1_1.fit(update_freq = 5)\n",
        "print(results_garch_1_1.summary())"
      ],
      "metadata": {
        "colab": {
          "base_uri": "https://localhost:8080/"
        },
        "id": "o16hy1Ms4Xtl",
        "outputId": "b5f8f3ae-c9e8-478f-d604-51fe629ec35d"
      },
      "execution_count": 12,
      "outputs": [
        {
          "output_type": "stream",
          "name": "stdout",
          "text": [
            "Iteration:      5,   Func. Count:     35,   Neg. LLF: 7010.712887007633\n",
            "Iteration:     10,   Func. Count:     64,   Neg. LLF: 6970.058478413694\n",
            "Optimization terminated successfully    (Exit mode 0)\n",
            "            Current function value: 6970.058366189882\n",
            "            Iterations: 13\n",
            "            Function evaluations: 78\n",
            "            Gradient evaluations: 13\n",
            "                     Constant Mean - GARCH Model Results                      \n",
            "==============================================================================\n",
            "Dep. Variable:                returns   R-squared:                       0.000\n",
            "Mean Model:             Constant Mean   Adj. R-squared:                  0.000\n",
            "Vol Model:                      GARCH   Log-Likelihood:               -6970.06\n",
            "Distribution:                  Normal   AIC:                           13948.1\n",
            "Method:            Maximum Likelihood   BIC:                           13974.2\n",
            "                                        No. Observations:                 5020\n",
            "Date:                Wed, Nov 16 2022   Df Residuals:                     5019\n",
            "Time:                        10:05:50   Df Model:                            1\n",
            "                                 Mean Model                                 \n",
            "============================================================================\n",
            "                 coef    std err          t      P>|t|      95.0% Conf. Int.\n",
            "----------------------------------------------------------------------------\n",
            "mu             0.0466  1.183e-02      3.939  8.187e-05 [2.342e-02,6.981e-02]\n",
            "                              Volatility Model                              \n",
            "============================================================================\n",
            "                 coef    std err          t      P>|t|      95.0% Conf. Int.\n",
            "----------------------------------------------------------------------------\n",
            "omega          0.0109  3.004e-03      3.640  2.724e-04 [5.048e-03,1.682e-02]\n",
            "alpha[1]       0.0835  1.071e-02      7.794  6.476e-15   [6.249e-02,  0.104]\n",
            "beta[1]        0.9089  1.148e-02     79.168      0.000     [  0.886,  0.931]\n",
            "============================================================================\n",
            "\n",
            "Covariance estimator: robust\n"
          ]
        }
      ]
    },
    {
      "cell_type": "markdown",
      "source": [
        "## Higher-Lag GARCH Model"
      ],
      "metadata": {
        "id": "WVrtIwJV6X4q"
      }
    },
    {
      "cell_type": "code",
      "source": [
        "model_garch_1_2 = arch_model(df.returns[1:],  mean = \"Constant\", vol=\"GARCH\", p=1, q=2)\n",
        "results_garch_1_2 = model_garch_1_2.fit(update_freq = 5)\n",
        "print(results_garch_1_2.summary())"
      ],
      "metadata": {
        "colab": {
          "base_uri": "https://localhost:8080/"
        },
        "id": "e1bU9aIi5cWT",
        "outputId": "b38585c1-67e2-4f44-a984-ebd1334a38db"
      },
      "execution_count": 13,
      "outputs": [
        {
          "output_type": "stream",
          "name": "stdout",
          "text": [
            "Iteration:      5,   Func. Count:     40,   Neg. LLF: 6974.173831538361\n",
            "Iteration:     10,   Func. Count:     71,   Neg. LLF: 6970.058391826686\n",
            "Optimization terminated successfully    (Exit mode 0)\n",
            "            Current function value: 6970.05836622724\n",
            "            Iterations: 12\n",
            "            Function evaluations: 83\n",
            "            Gradient evaluations: 12\n",
            "                     Constant Mean - GARCH Model Results                      \n",
            "==============================================================================\n",
            "Dep. Variable:                returns   R-squared:                       0.000\n",
            "Mean Model:             Constant Mean   Adj. R-squared:                  0.000\n",
            "Vol Model:                      GARCH   Log-Likelihood:               -6970.06\n",
            "Distribution:                  Normal   AIC:                           13950.1\n",
            "Method:            Maximum Likelihood   BIC:                           13982.7\n",
            "                                        No. Observations:                 5020\n",
            "Date:                Wed, Nov 16 2022   Df Residuals:                     5019\n",
            "Time:                        10:11:45   Df Model:                            1\n",
            "                                 Mean Model                                 \n",
            "============================================================================\n",
            "                 coef    std err          t      P>|t|      95.0% Conf. Int.\n",
            "----------------------------------------------------------------------------\n",
            "mu             0.0466  1.184e-02      3.938  8.219e-05 [2.341e-02,6.982e-02]\n",
            "                              Volatility Model                              \n",
            "============================================================================\n",
            "                 coef    std err          t      P>|t|      95.0% Conf. Int.\n",
            "----------------------------------------------------------------------------\n",
            "omega          0.0109  2.908e-03      3.761  1.696e-04 [5.236e-03,1.663e-02]\n",
            "alpha[1]       0.0835  1.189e-02      7.019  2.231e-12   [6.017e-02,  0.107]\n",
            "beta[1]        0.9089      0.188      4.845  1.268e-06     [  0.541,  1.277]\n",
            "beta[2]        0.0000      0.180      0.000      1.000     [ -0.352,  0.352]\n",
            "============================================================================\n",
            "\n",
            "Covariance estimator: robust\n"
          ]
        }
      ]
    },
    {
      "cell_type": "code",
      "source": [
        "model_garch_1_3 = arch_model(df.returns[1:],  mean = \"Constant\", vol=\"GARCH\", p=1, q=3)\n",
        "results_garch_1_3 = model_garch_1_3.fit(update_freq = 5)\n",
        "print(results_garch_1_3.summary())"
      ],
      "metadata": {
        "colab": {
          "base_uri": "https://localhost:8080/"
        },
        "id": "0GJDNPAu7EF2",
        "outputId": "db2fd339-ed84-4c03-d05e-bd01243d28b1"
      },
      "execution_count": 14,
      "outputs": [
        {
          "output_type": "stream",
          "name": "stdout",
          "text": [
            "Iteration:      5,   Func. Count:     47,   Neg. LLF: 7044.91400453258\n",
            "Iteration:     10,   Func. Count:     88,   Neg. LLF: 6973.179513958814\n",
            "Iteration:     15,   Func. Count:    124,   Neg. LLF: 6970.058367403908\n",
            "Optimization terminated successfully    (Exit mode 0)\n",
            "            Current function value: 6970.05836622959\n",
            "            Iterations: 17\n",
            "            Function evaluations: 137\n",
            "            Gradient evaluations: 17\n",
            "                     Constant Mean - GARCH Model Results                      \n",
            "==============================================================================\n",
            "Dep. Variable:                returns   R-squared:                       0.000\n",
            "Mean Model:             Constant Mean   Adj. R-squared:                  0.000\n",
            "Vol Model:                      GARCH   Log-Likelihood:               -6970.06\n",
            "Distribution:                  Normal   AIC:                           13952.1\n",
            "Method:            Maximum Likelihood   BIC:                           13991.2\n",
            "                                        No. Observations:                 5020\n",
            "Date:                Wed, Nov 16 2022   Df Residuals:                     5019\n",
            "Time:                        10:12:31   Df Model:                            1\n",
            "                                 Mean Model                                 \n",
            "============================================================================\n",
            "                 coef    std err          t      P>|t|      95.0% Conf. Int.\n",
            "----------------------------------------------------------------------------\n",
            "mu             0.0466  1.179e-02      3.954  7.687e-05 [2.351e-02,6.972e-02]\n",
            "                               Volatility Model                              \n",
            "=============================================================================\n",
            "                 coef    std err          t      P>|t|       95.0% Conf. Int.\n",
            "-----------------------------------------------------------------------------\n",
            "omega          0.0109  8.110e-03      1.348      0.178 [-4.959e-03,2.683e-02]\n",
            "alpha[1]       0.0835  6.021e-02      1.386      0.166   [-3.453e-02,  0.202]\n",
            "beta[1]        0.9089      2.134      0.426      0.670      [ -3.274,  5.092]\n",
            "beta[2]    2.1687e-12      3.353  6.468e-13      1.000      [ -6.571,  6.571]\n",
            "beta[3]        0.0000      1.285      0.000      1.000      [ -2.519,  2.519]\n",
            "=============================================================================\n",
            "\n",
            "Covariance estimator: robust\n"
          ]
        }
      ]
    },
    {
      "cell_type": "code",
      "source": [
        "model_garch_2_1 = arch_model(df.returns[1:],  mean = \"Constant\", vol=\"GARCH\", p=2, q=1)\n",
        "results_garch_2_1 = model_garch_2_1.fit(update_freq = 5)\n",
        "print(results_garch_2_1.summary())"
      ],
      "metadata": {
        "colab": {
          "base_uri": "https://localhost:8080/"
        },
        "id": "WhimzvPu7PaR",
        "outputId": "0fb4a59c-9a56-4926-96f7-ec4703c8259a"
      },
      "execution_count": 15,
      "outputs": [
        {
          "output_type": "stream",
          "name": "stdout",
          "text": [
            "Iteration:      5,   Func. Count:     40,   Neg. LLF: 8793.711867692436\n",
            "Iteration:     10,   Func. Count:     76,   Neg. LLF: 6967.73124749643\n",
            "Optimization terminated successfully    (Exit mode 0)\n",
            "            Current function value: 6967.731020076215\n",
            "            Iterations: 12\n",
            "            Function evaluations: 87\n",
            "            Gradient evaluations: 12\n",
            "                     Constant Mean - GARCH Model Results                      \n",
            "==============================================================================\n",
            "Dep. Variable:                returns   R-squared:                       0.000\n",
            "Mean Model:             Constant Mean   Adj. R-squared:                  0.000\n",
            "Vol Model:                      GARCH   Log-Likelihood:               -6967.73\n",
            "Distribution:                  Normal   AIC:                           13945.5\n",
            "Method:            Maximum Likelihood   BIC:                           13978.1\n",
            "                                        No. Observations:                 5020\n",
            "Date:                Wed, Nov 16 2022   Df Residuals:                     5019\n",
            "Time:                        10:13:06   Df Model:                            1\n",
            "                                 Mean Model                                 \n",
            "============================================================================\n",
            "                 coef    std err          t      P>|t|      95.0% Conf. Int.\n",
            "----------------------------------------------------------------------------\n",
            "mu             0.0466  1.187e-02      3.922  8.780e-05 [2.329e-02,6.982e-02]\n",
            "                               Volatility Model                              \n",
            "=============================================================================\n",
            "                 coef    std err          t      P>|t|       95.0% Conf. Int.\n",
            "-----------------------------------------------------------------------------\n",
            "omega          0.0129  4.097e-03      3.158  1.589e-03  [4.908e-03,2.097e-02]\n",
            "alpha[1]       0.0547  1.665e-02      3.286  1.017e-03  [2.208e-02,8.735e-02]\n",
            "alpha[2]       0.0389  2.345e-02      1.659  9.709e-02 [-7.055e-03,8.488e-02]\n",
            "beta[1]        0.8974  1.712e-02     52.415      0.000      [  0.864,  0.931]\n",
            "=============================================================================\n",
            "\n",
            "Covariance estimator: robust\n"
          ]
        }
      ]
    },
    {
      "cell_type": "code",
      "source": [
        "model_garch_3_1 = arch_model(df.returns[1:],  mean = \"Constant\", vol=\"GARCH\", p=3, q=1)\n",
        "results_garch_3_1 = model_garch_3_1.fit(update_freq = 5)\n",
        "print(results_garch_3_1.summary())"
      ],
      "metadata": {
        "colab": {
          "base_uri": "https://localhost:8080/"
        },
        "id": "_BJYMo097X53",
        "outputId": "e1843bfd-306c-4e49-c823-e49e1b7366bf"
      },
      "execution_count": 16,
      "outputs": [
        {
          "output_type": "stream",
          "name": "stdout",
          "text": [
            "Iteration:      5,   Func. Count:     45,   Neg. LLF: 6998.999162950054\n",
            "Iteration:     10,   Func. Count:     85,   Neg. LLF: 6967.743973995421\n",
            "Iteration:     15,   Func. Count:    119,   Neg. LLF: 6967.731020053497\n",
            "Optimization terminated successfully    (Exit mode 0)\n",
            "            Current function value: 6967.731020054134\n",
            "            Iterations: 15\n",
            "            Function evaluations: 119\n",
            "            Gradient evaluations: 15\n",
            "                     Constant Mean - GARCH Model Results                      \n",
            "==============================================================================\n",
            "Dep. Variable:                returns   R-squared:                       0.000\n",
            "Mean Model:             Constant Mean   Adj. R-squared:                  0.000\n",
            "Vol Model:                      GARCH   Log-Likelihood:               -6967.73\n",
            "Distribution:                  Normal   AIC:                           13947.5\n",
            "Method:            Maximum Likelihood   BIC:                           13986.6\n",
            "                                        No. Observations:                 5020\n",
            "Date:                Wed, Nov 16 2022   Df Residuals:                     5019\n",
            "Time:                        10:14:01   Df Model:                            1\n",
            "                                 Mean Model                                 \n",
            "============================================================================\n",
            "                 coef    std err          t      P>|t|      95.0% Conf. Int.\n",
            "----------------------------------------------------------------------------\n",
            "mu             0.0466  1.187e-02      3.924  8.721e-05 [2.330e-02,6.982e-02]\n",
            "                               Volatility Model                              \n",
            "=============================================================================\n",
            "                 coef    std err          t      P>|t|       95.0% Conf. Int.\n",
            "-----------------------------------------------------------------------------\n",
            "omega          0.0129  4.816e-03      2.687  7.217e-03  [3.500e-03,2.238e-02]\n",
            "alpha[1]       0.0547  1.665e-02      3.285  1.019e-03  [2.207e-02,8.736e-02]\n",
            "alpha[2]       0.0389  2.505e-02      1.553      0.120 [-1.018e-02,8.800e-02]\n",
            "alpha[3]   6.7624e-11  2.572e-02  2.629e-09      1.000 [-5.041e-02,5.041e-02]\n",
            "beta[1]        0.8974  2.245e-02     39.978      0.000      [  0.853,  0.941]\n",
            "=============================================================================\n",
            "\n",
            "Covariance estimator: robust\n"
          ]
        }
      ]
    },
    {
      "cell_type": "code",
      "source": [],
      "metadata": {
        "id": "lcLvgJah7lXJ"
      },
      "execution_count": null,
      "outputs": []
    }
  ]
}