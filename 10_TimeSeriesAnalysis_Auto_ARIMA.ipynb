{
  "nbformat": 4,
  "nbformat_minor": 0,
  "metadata": {
    "colab": {
      "provenance": []
    },
    "kernelspec": {
      "name": "python3",
      "display_name": "Python 3"
    },
    "language_info": {
      "name": "python"
    }
  },
  "cells": [
    {
      "cell_type": "markdown",
      "source": [
        "## Importing the relevant packages"
      ],
      "metadata": {
        "id": "d2mP0Waz9pFr"
      }
    },
    {
      "cell_type": "code",
      "execution_count": 2,
      "metadata": {
        "colab": {
          "base_uri": "https://localhost:8080/"
        },
        "id": "EKb6fqqK9gAg",
        "outputId": "094fa57d-cb88-47e1-c40e-1a949f4d3d0a"
      },
      "outputs": [
        {
          "output_type": "stream",
          "name": "stdout",
          "text": [
            "Looking in indexes: https://pypi.org/simple, https://us-python.pkg.dev/colab-wheels/public/simple/\n",
            "Collecting arch\n",
            "  Downloading arch-5.3.1-cp37-cp37m-manylinux_2_17_x86_64.manylinux2014_x86_64.whl (903 kB)\n",
            "\u001b[K     |████████████████████████████████| 903 kB 9.3 MB/s \n",
            "\u001b[?25hRequirement already satisfied: statsmodels>=0.11 in /usr/local/lib/python3.7/dist-packages (from arch) (0.12.2)\n",
            "Requirement already satisfied: scipy>=1.3 in /usr/local/lib/python3.7/dist-packages (from arch) (1.7.3)\n",
            "Requirement already satisfied: pandas>=1.0 in /usr/local/lib/python3.7/dist-packages (from arch) (1.3.5)\n",
            "Requirement already satisfied: numpy>=1.17 in /usr/local/lib/python3.7/dist-packages (from arch) (1.21.6)\n",
            "Collecting property-cached>=1.6.4\n",
            "  Downloading property_cached-1.6.4-py2.py3-none-any.whl (7.8 kB)\n",
            "Requirement already satisfied: pytz>=2017.3 in /usr/local/lib/python3.7/dist-packages (from pandas>=1.0->arch) (2022.6)\n",
            "Requirement already satisfied: python-dateutil>=2.7.3 in /usr/local/lib/python3.7/dist-packages (from pandas>=1.0->arch) (2.8.2)\n",
            "Requirement already satisfied: six>=1.5 in /usr/local/lib/python3.7/dist-packages (from python-dateutil>=2.7.3->pandas>=1.0->arch) (1.15.0)\n",
            "Requirement already satisfied: patsy>=0.5 in /usr/local/lib/python3.7/dist-packages (from statsmodels>=0.11->arch) (0.5.3)\n",
            "Installing collected packages: property-cached, arch\n",
            "Successfully installed arch-5.3.1 property-cached-1.6.4\n"
          ]
        }
      ],
      "source": [
        "!pip install arch"
      ]
    },
    {
      "cell_type": "code",
      "source": [
        "!pip install yfinance"
      ],
      "metadata": {
        "colab": {
          "base_uri": "https://localhost:8080/"
        },
        "id": "qIGrkNna9zU6",
        "outputId": "f14f2e8b-d49a-4ea7-cf73-66db58ec375e"
      },
      "execution_count": 3,
      "outputs": [
        {
          "output_type": "stream",
          "name": "stdout",
          "text": [
            "Looking in indexes: https://pypi.org/simple, https://us-python.pkg.dev/colab-wheels/public/simple/\n",
            "Collecting yfinance\n",
            "  Downloading yfinance-0.1.86-py2.py3-none-any.whl (29 kB)\n",
            "Collecting requests>=2.26\n",
            "  Downloading requests-2.28.1-py3-none-any.whl (62 kB)\n",
            "\u001b[K     |████████████████████████████████| 62 kB 1.2 MB/s \n",
            "\u001b[?25hRequirement already satisfied: lxml>=4.5.1 in /usr/local/lib/python3.7/dist-packages (from yfinance) (4.9.1)\n",
            "Requirement already satisfied: multitasking>=0.0.7 in /usr/local/lib/python3.7/dist-packages (from yfinance) (0.0.11)\n",
            "Requirement already satisfied: numpy>=1.15 in /usr/local/lib/python3.7/dist-packages (from yfinance) (1.21.6)\n",
            "Requirement already satisfied: appdirs>=1.4.4 in /usr/local/lib/python3.7/dist-packages (from yfinance) (1.4.4)\n",
            "Requirement already satisfied: pandas>=0.24.0 in /usr/local/lib/python3.7/dist-packages (from yfinance) (1.3.5)\n",
            "Requirement already satisfied: python-dateutil>=2.7.3 in /usr/local/lib/python3.7/dist-packages (from pandas>=0.24.0->yfinance) (2.8.2)\n",
            "Requirement already satisfied: pytz>=2017.3 in /usr/local/lib/python3.7/dist-packages (from pandas>=0.24.0->yfinance) (2022.6)\n",
            "Requirement already satisfied: six>=1.5 in /usr/local/lib/python3.7/dist-packages (from python-dateutil>=2.7.3->pandas>=0.24.0->yfinance) (1.15.0)\n",
            "Requirement already satisfied: idna<4,>=2.5 in /usr/local/lib/python3.7/dist-packages (from requests>=2.26->yfinance) (2.10)\n",
            "Requirement already satisfied: certifi>=2017.4.17 in /usr/local/lib/python3.7/dist-packages (from requests>=2.26->yfinance) (2022.9.24)\n",
            "Requirement already satisfied: charset-normalizer<3,>=2 in /usr/local/lib/python3.7/dist-packages (from requests>=2.26->yfinance) (2.1.1)\n",
            "Requirement already satisfied: urllib3<1.27,>=1.21.1 in /usr/local/lib/python3.7/dist-packages (from requests>=2.26->yfinance) (1.24.3)\n",
            "Installing collected packages: requests, yfinance\n",
            "  Attempting uninstall: requests\n",
            "    Found existing installation: requests 2.23.0\n",
            "    Uninstalling requests-2.23.0:\n",
            "      Successfully uninstalled requests-2.23.0\n",
            "Successfully installed requests-2.28.1 yfinance-0.1.86\n"
          ]
        }
      ]
    },
    {
      "cell_type": "code",
      "source": [
        "!pip install pmdarima"
      ],
      "metadata": {
        "colab": {
          "base_uri": "https://localhost:8080/",
          "height": 589
        },
        "id": "i3q5Nbie-wIb",
        "outputId": "841ec990-e08f-4505-a3cb-c7f4f85ed420"
      },
      "execution_count": 6,
      "outputs": [
        {
          "output_type": "stream",
          "name": "stdout",
          "text": [
            "Looking in indexes: https://pypi.org/simple, https://us-python.pkg.dev/colab-wheels/public/simple/\n",
            "Collecting pmdarima\n",
            "  Downloading pmdarima-2.0.1-cp37-cp37m-manylinux_2_17_x86_64.manylinux2014_x86_64.manylinux_2_28_x86_64.whl (1.8 MB)\n",
            "\u001b[K     |████████████████████████████████| 1.8 MB 5.0 MB/s \n",
            "\u001b[?25hRequirement already satisfied: scikit-learn>=0.22 in /usr/local/lib/python3.7/dist-packages (from pmdarima) (1.0.2)\n",
            "Requirement already satisfied: numpy>=1.21 in /usr/local/lib/python3.7/dist-packages (from pmdarima) (1.21.6)\n",
            "Requirement already satisfied: setuptools!=50.0.0,>=38.6.0 in /usr/local/lib/python3.7/dist-packages (from pmdarima) (57.4.0)\n",
            "Requirement already satisfied: Cython!=0.29.18,!=0.29.31,>=0.29 in /usr/local/lib/python3.7/dist-packages (from pmdarima) (0.29.32)\n",
            "Requirement already satisfied: joblib>=0.11 in /usr/local/lib/python3.7/dist-packages (from pmdarima) (1.2.0)\n",
            "Collecting statsmodels>=0.13.2\n",
            "  Downloading statsmodels-0.13.5-cp37-cp37m-manylinux_2_17_x86_64.manylinux2014_x86_64.whl (9.9 MB)\n",
            "\u001b[K     |████████████████████████████████| 9.9 MB 7.8 MB/s \n",
            "\u001b[?25hRequirement already satisfied: scipy>=1.3.2 in /usr/local/lib/python3.7/dist-packages (from pmdarima) (1.7.3)\n",
            "Requirement already satisfied: pandas>=0.19 in /usr/local/lib/python3.7/dist-packages (from pmdarima) (1.3.5)\n",
            "Requirement already satisfied: urllib3 in /usr/local/lib/python3.7/dist-packages (from pmdarima) (1.24.3)\n",
            "Requirement already satisfied: python-dateutil>=2.7.3 in /usr/local/lib/python3.7/dist-packages (from pandas>=0.19->pmdarima) (2.8.2)\n",
            "Requirement already satisfied: pytz>=2017.3 in /usr/local/lib/python3.7/dist-packages (from pandas>=0.19->pmdarima) (2022.6)\n",
            "Requirement already satisfied: six>=1.5 in /usr/local/lib/python3.7/dist-packages (from python-dateutil>=2.7.3->pandas>=0.19->pmdarima) (1.15.0)\n",
            "Requirement already satisfied: threadpoolctl>=2.0.0 in /usr/local/lib/python3.7/dist-packages (from scikit-learn>=0.22->pmdarima) (3.1.0)\n",
            "Requirement already satisfied: packaging>=21.3 in /usr/local/lib/python3.7/dist-packages (from statsmodels>=0.13.2->pmdarima) (21.3)\n",
            "Requirement already satisfied: patsy>=0.5.2 in /usr/local/lib/python3.7/dist-packages (from statsmodels>=0.13.2->pmdarima) (0.5.3)\n",
            "Requirement already satisfied: pyparsing!=3.0.5,>=2.0.2 in /usr/local/lib/python3.7/dist-packages (from packaging>=21.3->statsmodels>=0.13.2->pmdarima) (3.0.9)\n",
            "Installing collected packages: statsmodels, pmdarima\n",
            "  Attempting uninstall: statsmodels\n",
            "    Found existing installation: statsmodels 0.12.2\n",
            "    Uninstalling statsmodels-0.12.2:\n",
            "      Successfully uninstalled statsmodels-0.12.2\n",
            "Successfully installed pmdarima-2.0.1 statsmodels-0.13.5\n"
          ]
        },
        {
          "output_type": "display_data",
          "data": {
            "application/vnd.colab-display-data+json": {
              "pip_warning": {
                "packages": [
                  "statsmodels"
                ]
              }
            }
          },
          "metadata": {}
        }
      ]
    },
    {
      "cell_type": "code",
      "source": [
        "import pandas as pd\n",
        "import numpy as np\n",
        "import matplotlib.pyplot as plt\n",
        "import statsmodels.graphics.tsaplots as sgt\n",
        "import statsmodels.tsa.stattools as sts\n",
        "from statsmodels.tsa.arima_model import ARIMA\n",
        "from scipy.stats.distributions import chi2\n",
        "from arch import arch_model\n",
        "import seaborn as sns\n",
        "import yfinance\n",
        "import warnings\n",
        "warnings.filterwarnings(\"ignore\")\n",
        "sns.set()"
      ],
      "metadata": {
        "id": "oY4aDzxE9sz-"
      },
      "execution_count": 1,
      "outputs": []
    },
    {
      "cell_type": "markdown",
      "source": [
        "## Loading the data"
      ],
      "metadata": {
        "id": "QDjQ5u2e-CBI"
      }
    },
    {
      "cell_type": "code",
      "source": [
        "raw_data = yfinance.download(tickers = \"^GSPC ^FTSE ^N225 ^GDAXI\", start = \"1994-01-07\", end = \"2018-01-29\", interval = \"1d\", group_by= 'ticker', auto_adjust = True, treads=True)"
      ],
      "metadata": {
        "colab": {
          "base_uri": "https://localhost:8080/"
        },
        "id": "XmTf_tVf-BTO",
        "outputId": "ed6e14a1-f016-4705-8780-ca8007911b65"
      },
      "execution_count": 2,
      "outputs": [
        {
          "output_type": "stream",
          "name": "stdout",
          "text": [
            "[*********************100%***********************]  4 of 4 completed\n"
          ]
        }
      ]
    },
    {
      "cell_type": "code",
      "source": [
        "df_comp = raw_data.copy()"
      ],
      "metadata": {
        "id": "oesgHutI-jRj"
      },
      "execution_count": 3,
      "outputs": []
    },
    {
      "cell_type": "code",
      "source": [
        "df_comp[\"spx\"] = df_comp[\"^GSPC\"].Close[:]\n",
        "df_comp[\"dax\"] = df_comp[\"^GDAXI\"].Close[:]\n",
        "df_comp[\"ftse\"] = df_comp[\"^FTSE\"].Close[:]\n",
        "df_comp[\"nikkei\"] = df_comp[\"^N225\"].Close[:]"
      ],
      "metadata": {
        "id": "ObRwnmFS_Gse"
      },
      "execution_count": 4,
      "outputs": []
    },
    {
      "cell_type": "code",
      "source": [
        "df_comp = df_comp.iloc[1:]\n",
        "del df_comp[\"^GSPC\"]\n",
        "del df_comp[\"^GDAXI\"]\n",
        "del df_comp[\"^FTSE\"]\n",
        "del df_comp[\"^N225\"]\n",
        "df_comp = df_comp.asfreq('b')\n",
        "df_comp = df_comp.fillna(method='ffill')"
      ],
      "metadata": {
        "id": "eEjuvkxO_idw"
      },
      "execution_count": 5,
      "outputs": []
    },
    {
      "cell_type": "markdown",
      "source": [
        "## Creating Returns"
      ],
      "metadata": {
        "id": "HEoUWl-t_-fy"
      }
    },
    {
      "cell_type": "code",
      "source": [
        "df_comp[\"ret_spx\"] = df_comp.spx.pct_change(1)*100\n",
        "df_comp[\"ret_dax\"] = df_comp.dax.pct_change(1)*100\n",
        "df_comp[\"ret_ftse\"] = df_comp.ftse.pct_change(1)*100\n",
        "df_comp[\"ret_nikkei\"] = df_comp.nikkei.pct_change(1)*100"
      ],
      "metadata": {
        "id": "mA_zr-lS_9pn"
      },
      "execution_count": 6,
      "outputs": []
    },
    {
      "cell_type": "markdown",
      "source": [
        "## Splitting the Data"
      ],
      "metadata": {
        "id": "lq_kH_1EAZcR"
      }
    },
    {
      "cell_type": "code",
      "source": [
        "size = int(len(df_comp)*0.80)\n",
        "df, df_test = df_comp.iloc[:size],df_comp.iloc[size:] "
      ],
      "metadata": {
        "id": "DjoWy006AX4P"
      },
      "execution_count": 7,
      "outputs": []
    },
    {
      "cell_type": "markdown",
      "source": [
        "## Fitting a Model"
      ],
      "metadata": {
        "id": "5GGkC1j6AsvC"
      }
    },
    {
      "cell_type": "markdown",
      "source": [
        "### Default Best Fit Model"
      ],
      "metadata": {
        "id": "9pB3GkKgE4yA"
      }
    },
    {
      "cell_type": "code",
      "source": [
        "from pmdarima.arima import auto_arima"
      ],
      "metadata": {
        "id": "viOw9wqGArBh"
      },
      "execution_count": 8,
      "outputs": []
    },
    {
      "cell_type": "code",
      "source": [
        "model_auto = auto_arima(df.ret_ftse[1:])"
      ],
      "metadata": {
        "id": "16XBGEiEBHOQ"
      },
      "execution_count": 9,
      "outputs": []
    },
    {
      "cell_type": "code",
      "source": [
        "model_auto"
      ],
      "metadata": {
        "colab": {
          "base_uri": "https://localhost:8080/"
        },
        "id": "T0cIGKfGBhCe",
        "outputId": "e422361d-820f-4002-d99a-e102efec98af"
      },
      "execution_count": 10,
      "outputs": [
        {
          "output_type": "execute_result",
          "data": {
            "text/plain": [
              "ARIMA(order=(4, 0, 5), scoring_args={}, suppress_warnings=True,\n",
              "      with_intercept=False)"
            ]
          },
          "metadata": {},
          "execution_count": 10
        }
      ]
    },
    {
      "cell_type": "code",
      "source": [
        "print(model_auto.summary())"
      ],
      "metadata": {
        "colab": {
          "base_uri": "https://localhost:8080/"
        },
        "id": "wiED2KeaBmch",
        "outputId": "a90b77f3-bdc8-4c78-becf-e80a44fac4ba"
      },
      "execution_count": 12,
      "outputs": [
        {
          "output_type": "stream",
          "name": "stdout",
          "text": [
            "                               SARIMAX Results                                \n",
            "==============================================================================\n",
            "Dep. Variable:                      y   No. Observations:                 5019\n",
            "Model:               SARIMAX(4, 0, 5)   Log Likelihood               -7882.776\n",
            "Date:                Wed, 16 Nov 2022   AIC                          15785.552\n",
            "Time:                        10:45:51   BIC                          15850.762\n",
            "Sample:                    01-11-1994   HQIC                         15808.403\n",
            "                         - 04-05-2013                                         \n",
            "Covariance Type:                  opg                                         \n",
            "==============================================================================\n",
            "                 coef    std err          z      P>|z|      [0.025      0.975]\n",
            "------------------------------------------------------------------------------\n",
            "ar.L1          0.0121      0.082      0.148      0.882      -0.148       0.172\n",
            "ar.L2         -0.6541      0.077     -8.456      0.000      -0.806      -0.503\n",
            "ar.L3         -0.1627      0.071     -2.289      0.022      -0.302      -0.023\n",
            "ar.L4          0.2015      0.074      2.714      0.007       0.056       0.347\n",
            "ma.L1         -0.0358      0.081     -0.441      0.659      -0.195       0.123\n",
            "ma.L2          0.6066      0.078      7.767      0.000       0.454       0.760\n",
            "ma.L3          0.0621      0.068      0.907      0.364      -0.072       0.196\n",
            "ma.L4         -0.1935      0.073     -2.652      0.008      -0.337      -0.050\n",
            "ma.L5         -0.1052      0.010    -11.066      0.000      -0.124      -0.087\n",
            "sigma2         1.3542      0.015     91.442      0.000       1.325       1.383\n",
            "===================================================================================\n",
            "Ljung-Box (L1) (Q):                   0.00   Jarque-Bera (JB):              6354.72\n",
            "Prob(Q):                              0.96   Prob(JB):                         0.00\n",
            "Heteroskedasticity (H):               1.99   Skew:                            -0.20\n",
            "Prob(H) (two-sided):                  0.00   Kurtosis:                         8.50\n",
            "===================================================================================\n",
            "\n",
            "Warnings:\n",
            "[1] Covariance matrix calculated using the outer product of gradients (complex-step).\n"
          ]
        }
      ]
    },
    {
      "cell_type": "markdown",
      "source": [
        "## Important Arguments"
      ],
      "metadata": {
        "id": "YylniNp5FYDn"
      }
    },
    {
      "cell_type": "code",
      "source": [
        "# exogenous -> outside factors (e.g other time series)\",\n",
        "# m -> seasonal cycle length\",\n",
        "# max_order -> maximum amount of variables to be used in the regression (p + q)\",\n",
        "# max_p -> maximum AR components\",\n",
        "# max_q -> maximum MA components\",\n",
        "# max_d -> maximum Integrations\",\n",
        "# maxiter -> maximum iterations we're giving the model to converge the coefficients (becomes harder as the order increases)\",\n",
        "# alpha -> level of significance, default is 5%, which we should be using most of the time\",\n",
        "# n_jobs -> how many models to fit at a time (-1 indicates \"as many as possible\")\",\n",
        "# trend -> \"ct\" usually\", ct-> constant trend \n",
        "# information_criterion -> 'aic', 'aicc', 'bic', 'hqic', 'oob' \",\n",
        "#        (Akaike Information Criterion, Corrected Akaike Information Criterion,\",\n",
        "#        Bayesian Information Criterion, Hannan-Quinn Information Criterion, or\",\n",
        "#        \"out of bag\"--for validation scoring--respectively)\",\n",
        "# out_of_sample_size -> validates the model selection (pass the entire dataset, and set 20% to be the out_of_sample_size)\"\n",
        "\n",
        "model_auto = auto_arima(df.ret_ftse[1:], exogenous=df[['ret_spx', 'ret_dax','ret_nikkei']][1:], m=5, \n",
        "                        max_order=None, max_p=7, max_q=7, max_d=2, max_P=4, max_Q=4, max_D=2,\n",
        "                        maxiter=50, alpha=0.05, n_jobs=-1, trend=\"ct\", information_criterion=\"oob\",\n",
        "                        out_of_sample_size=int(len(df_comp)*0.2))"
      ],
      "metadata": {
        "id": "V6NaW5U1C1q6"
      },
      "execution_count": 15,
      "outputs": []
    },
    {
      "cell_type": "code",
      "source": [
        "print(model_auto.summary())"
      ],
      "metadata": {
        "colab": {
          "base_uri": "https://localhost:8080/"
        },
        "id": "6WH6QbFxF0qn",
        "outputId": "3848d8c6-48b4-44bb-ddd3-2badd1bec13d"
      },
      "execution_count": 18,
      "outputs": [
        {
          "output_type": "stream",
          "name": "stdout",
          "text": [
            "                               SARIMAX Results                                \n",
            "==============================================================================\n",
            "Dep. Variable:                      y   No. Observations:                 5019\n",
            "Model:                        SARIMAX   Log Likelihood               -7985.012\n",
            "Date:                Wed, 16 Nov 2022   AIC                          15976.023\n",
            "Time:                        11:17:46   BIC                          15995.586\n",
            "Sample:                             0   HQIC                         15982.879\n",
            "                               - 5019                                         \n",
            "Covariance Type:                  opg                                         \n",
            "==============================================================================\n",
            "                 coef    std err          z      P>|z|      [0.025      0.975]\n",
            "------------------------------------------------------------------------------\n",
            "intercept      0.0320      0.033      0.976      0.329      -0.032       0.096\n",
            "drift      -6.644e-06   1.05e-05     -0.630      0.528   -2.73e-05     1.4e-05\n",
            "sigma2         1.1278      0.009    124.271      0.000       1.110       1.146\n",
            "===================================================================================\n",
            "Ljung-Box (L1) (Q):                   2.65   Jarque-Bera (JB):              8015.78\n",
            "Prob(Q):                              0.10   Prob(JB):                         0.00\n",
            "Heteroskedasticity (H):               2.05   Skew:                            -0.01\n",
            "Prob(H) (two-sided):                  0.00   Kurtosis:                         9.19\n",
            "===================================================================================\n",
            "\n",
            "Warnings:\n",
            "[1] Covariance matrix calculated using the outer product of gradients (complex-step).\n"
          ]
        }
      ]
    },
    {
      "cell_type": "code",
      "source": [],
      "metadata": {
        "id": "Swg7nuEzJKdr"
      },
      "execution_count": null,
      "outputs": []
    }
  ]
}